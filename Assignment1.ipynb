{
 "cells": [
  {
   "cell_type": "markdown",
   "metadata": {},
   "source": [
    "# Assignment 1"
   ]
  },
  {
   "cell_type": "markdown",
   "metadata": {},
   "source": [
    "Each question is solved in that notebook and can be reproduced after installing the environment."
   ]
  },
  {
   "cell_type": "markdown",
   "metadata": {},
   "source": [
    "## import packages"
   ]
  },
  {
   "cell_type": "code",
   "execution_count": 1,
   "metadata": {},
   "outputs": [
    {
     "name": "stdout",
     "output_type": "stream",
     "text": [
      "--2022-03-18 17:59:30--  https://www.cs.toronto.edu/~kriz/cifar-10-python.tar.gz\n",
      "Resolving www.cs.toronto.edu (www.cs.toronto.edu)... 128.100.3.30\n",
      "Connecting to www.cs.toronto.edu (www.cs.toronto.edu)|128.100.3.30|:443... connected.\n",
      "HTTP request sent, awaiting response... 200 OK\n",
      "Length: 170498071 (163M) [application/x-gzip]\n",
      "Saving to: ‘cifar-10-python.tar.gz.1’\n",
      "\n",
      "cifar-10-python.tar 100%[===================>] 162.60M  12.2MB/s    in 14s     \n",
      "\n",
      "2022-03-18 17:59:45 (11.7 MB/s) - ‘cifar-10-python.tar.gz.1’ saved [170498071/170498071]\n",
      "\n"
     ]
    }
   ],
   "source": [
    "!wget https://www.cs.toronto.edu/~kriz/cifar-10-python.tar.gz"
   ]
  },
  {
   "cell_type": "code",
   "execution_count": 2,
   "metadata": {},
   "outputs": [
    {
     "name": "stdout",
     "output_type": "stream",
     "text": [
      "cifar-10-batches-py/\n",
      "cifar-10-batches-py/data_batch_4\n",
      "cifar-10-batches-py/readme.html\n",
      "cifar-10-batches-py/test_batch\n",
      "cifar-10-batches-py/data_batch_3\n",
      "cifar-10-batches-py/batches.meta\n",
      "cifar-10-batches-py/data_batch_2\n",
      "cifar-10-batches-py/data_batch_5\n",
      "cifar-10-batches-py/data_batch_1\n"
     ]
    }
   ],
   "source": [
    "! tar xzvf cifar-10-python.tar.gz"
   ]
  },
  {
   "cell_type": "code",
   "execution_count": 3,
   "metadata": {},
   "outputs": [
    {
     "name": "stdout",
     "output_type": "stream",
     "text": [
      "Requirement already satisfied: scikit-learn-intelex in /home/murez/anaconda3/lib/python3.9/site-packages (2021.20210714.170444)\n",
      "Requirement already satisfied: daal4py>=2021.2 in /home/murez/anaconda3/lib/python3.9/site-packages (from scikit-learn-intelex) (2021.5.3)\n",
      "Requirement already satisfied: scikit-learn>=0.22 in /home/murez/anaconda3/lib/python3.9/site-packages (from scikit-learn-intelex) (1.0.2)\n",
      "Requirement already satisfied: numpy>=1.15 in /home/murez/anaconda3/lib/python3.9/site-packages (from daal4py>=2021.2->scikit-learn-intelex) (1.22.3)\n",
      "Requirement already satisfied: daal==2021.5.3 in /home/murez/anaconda3/lib/python3.9/site-packages (from daal4py>=2021.2->scikit-learn-intelex) (2021.5.3)\n",
      "Requirement already satisfied: tbb==2021.* in /home/murez/anaconda3/lib/python3.9/site-packages (from daal==2021.5.3->daal4py>=2021.2->scikit-learn-intelex) (2021.5.1)\n",
      "Requirement already satisfied: scipy>=1.1.0 in /home/murez/anaconda3/lib/python3.9/site-packages (from scikit-learn>=0.22->scikit-learn-intelex) (1.8.0)\n",
      "Requirement already satisfied: threadpoolctl>=2.0.0 in /home/murez/anaconda3/lib/python3.9/site-packages (from scikit-learn>=0.22->scikit-learn-intelex) (3.1.0)\n",
      "Requirement already satisfied: joblib>=0.11 in /home/murez/anaconda3/lib/python3.9/site-packages (from scikit-learn>=0.22->scikit-learn-intelex) (1.1.0)\n",
      "Requirement already satisfied: scikit-image in /home/murez/anaconda3/lib/python3.9/site-packages (0.18.3)\n",
      "Requirement already satisfied: numpy>=1.16.5 in /home/murez/anaconda3/lib/python3.9/site-packages (from scikit-image) (1.22.3)\n",
      "Requirement already satisfied: scipy>=1.0.1 in /home/murez/anaconda3/lib/python3.9/site-packages (from scikit-image) (1.8.0)\n",
      "Requirement already satisfied: matplotlib!=3.0.0,>=2.0.0 in /home/murez/anaconda3/lib/python3.9/site-packages (from scikit-image) (3.4.3)\n",
      "Requirement already satisfied: networkx>=2.0 in /home/murez/anaconda3/lib/python3.9/site-packages (from scikit-image) (2.6.3)\n",
      "Requirement already satisfied: pillow!=7.1.0,!=7.1.1,>=4.3.0 in /home/murez/anaconda3/lib/python3.9/site-packages (from scikit-image) (8.4.0)\n",
      "Requirement already satisfied: imageio>=2.3.0 in /home/murez/anaconda3/lib/python3.9/site-packages (from scikit-image) (2.9.0)\n",
      "Requirement already satisfied: tifffile>=2019.7.26 in /home/murez/anaconda3/lib/python3.9/site-packages (from scikit-image) (2021.7.2)\n",
      "Requirement already satisfied: PyWavelets>=1.1.1 in /home/murez/anaconda3/lib/python3.9/site-packages (from scikit-image) (1.1.1)\n",
      "Requirement already satisfied: cycler>=0.10 in /home/murez/anaconda3/lib/python3.9/site-packages (from matplotlib!=3.0.0,>=2.0.0->scikit-image) (0.10.0)\n",
      "Requirement already satisfied: kiwisolver>=1.0.1 in /home/murez/anaconda3/lib/python3.9/site-packages (from matplotlib!=3.0.0,>=2.0.0->scikit-image) (1.3.1)\n",
      "Requirement already satisfied: python-dateutil>=2.7 in /home/murez/anaconda3/lib/python3.9/site-packages (from matplotlib!=3.0.0,>=2.0.0->scikit-image) (2.8.2)\n",
      "Requirement already satisfied: pyparsing>=2.2.1 in /home/murez/anaconda3/lib/python3.9/site-packages (from matplotlib!=3.0.0,>=2.0.0->scikit-image) (3.0.4)\n",
      "Requirement already satisfied: six in /home/murez/anaconda3/lib/python3.9/site-packages (from cycler>=0.10->matplotlib!=3.0.0,>=2.0.0->scikit-image) (1.16.0)\n",
      "Requirement already satisfied: joblib in /home/murez/anaconda3/lib/python3.9/site-packages (1.1.0)\n"
     ]
    }
   ],
   "source": [
    "! pip install scikit-learn-intelex\n",
    "! pip install scikit-image\n",
    "! pip install joblib"
   ]
  },
  {
   "cell_type": "code",
   "execution_count": 4,
   "metadata": {},
   "outputs": [
    {
     "name": "stderr",
     "output_type": "stream",
     "text": [
      "<frozen importlib._bootstrap>:228: RuntimeWarning: scipy._lib.messagestream.MessageStream size changed, may indicate binary incompatibility. Expected 56 from C header, got 64 from PyObject\n",
      "Intel(R) Extension for Scikit-learn* enabled (https://github.com/intel/scikit-learn-intelex)\n"
     ]
    }
   ],
   "source": [
    "from sklearnex import patch_sklearn\n",
    "patch_sklearn()\n",
    "# enable sklearnx accelerated version by intel\n",
    "from skimage import data, exposure\n",
    "from skimage import exposure\n",
    "from skimage.feature import hog\n",
    "from skimage.transform import resize\n",
    "from skimage.io import imread\n",
    "from sklearn import svm\n",
    "from sklearn.metrics import accuracy_score\n",
    "from sklearn.decomposition import PCA\n",
    "import os\n",
    "import numpy as np\n",
    "import pickle\n",
    "import cv2\n",
    "import matplotlib.pyplot as plt\n",
    "import torch\n",
    "from torch.utils.data import Dataset, DataLoader\n",
    "import torchvision\n",
    "from torch.autograd import Variable\n",
    "import torchvision.transforms as trns\n",
    "from PIL import Image, ImageOps\n",
    "from joblib import Parallel, delayed\n",
    "from typing import Any, Callable, Optional, Tuple\n",
    "from numpy.fft import fft2, ifft2\n",
    "import time\n",
    "import copy\n",
    "from tqdm import tqdm\n",
    "import torch\n",
    "import torch.nn as nn\n",
    "from torch.nn import functional as F\n",
    "import torch.optim as optim\n",
    "from torch.utils.data.sampler import SubsetRandomSampler\n",
    "from torch.nn import AdaptiveAvgPool2d\n",
    "from pylab import *\n",
    "from copy import deepcopy\n",
    "from torch.utils.tensorboard import SummaryWriter\n",
    "from torchvision.datasets.vision import VisionDataset"
   ]
  },
  {
   "cell_type": "markdown",
   "metadata": {},
   "source": [
    "## utils\n",
    "some useful functions"
   ]
  },
  {
   "cell_type": "code",
   "execution_count": 5,
   "metadata": {},
   "outputs": [],
   "source": [
    "\n",
    "def unpickle(file):\n",
    "    with open(file, 'rb') as fo:\n",
    "        dict = pickle.load(fo, encoding='bytes')\n",
    "    return dict\n"
   ]
  },
  {
   "cell_type": "code",
   "execution_count": 6,
   "metadata": {},
   "outputs": [],
   "source": [
    "def show_image(image_list: list, label_list:list, classes: list, number: int = 5):\n",
    "    # generate a random number set to show image\n",
    "    fig, axs = plt.subplots(\n",
    "        1, number, figsize=(4, 4), sharex=True, sharey=True)\n",
    "    \n",
    "\n",
    "    \n",
    "    for i, idx in enumerate(np.random.randint(0, len(image_list), number)):\n",
    "        axs[i].axis('off')\n",
    "        axs[i].imshow(image_list[idx], cmap=plt.cm.gray)\n",
    "        axs[i].set_title(classes[label_list[idx]])\n",
    "\n",
    "        \n",
    "\n",
    "    plt.show()\n"
   ]
  },
  {
   "cell_type": "code",
   "execution_count": 7,
   "metadata": {},
   "outputs": [],
   "source": [
    "get_num_correct = lambda preds, labels: preds.argmax(dim=1).eq(labels).sum().item()"
   ]
  },
  {
   "cell_type": "markdown",
   "metadata": {},
   "source": [
    "## Question 1 Reading & Preparing Image Data"
   ]
  },
  {
   "cell_type": "code",
   "execution_count": 8,
   "metadata": {},
   "outputs": [],
   "source": [
    "image_reconstruction = lambda x: Image.fromarray(\n",
    "x.reshape(3, 32, 32).transpose(1, 2, 0), 'RGB')\n"
   ]
  },
  {
   "cell_type": "code",
   "execution_count": 9,
   "metadata": {},
   "outputs": [],
   "source": [
    "batch_meta = unpickle(\"cifar-10-batches-py/batches.meta\")\n",
    "\n",
    "data_batch_list = []\n",
    "for x in range(1, 6):\n",
    "    eval(\n",
    "        \"data_batch_list.append(unpickle('cifar-10-batches-py/data_batch_{x}'))\".format(x=x))\n",
    "test_batch = unpickle(\"cifar-10-batches-py/test_batch\")\n",
    "data_train = {\"label\": [], \"image\": []}\n",
    "data_validate = {\"label\": [], \"image\": []}\n",
    "for batch in data_batch_list:\n",
    "    data_train[\"label\"].extend(batch[b\"labels\"])\n",
    "    data_train[\"image\"].extend([image_reconstruction(raw_data)\n",
    "                               for raw_data in batch[b\"data\"]])\n",
    "\n",
    "data_validate[\"label\"].extend(test_batch[b\"labels\"])\n",
    "data_validate[\"image\"].extend([image_reconstruction(\n",
    "    raw_data) for raw_data in test_batch[b\"data\"]])\n",
    "\n",
    "classes = [c.decode() for c in batch_meta[b\"label_names\"]]\n"
   ]
  },
  {
   "cell_type": "code",
   "execution_count": 10,
   "metadata": {},
   "outputs": [
    {
     "data": {
      "image/png": "[encoded data removed]",
      "image/svg+xml": "<?xml version=\"1.0\" encoding=\"utf-8\" standalone=\"no\"?>\n<!DOCTYPE svg PUBLIC \"-//W3C//DTD SVG 1.1//EN\"\n  \"http://www.w3.org/Graphics/SVG/1.1/DTD/svg11.dtd\">\n<svg height=\"68.000884pt\" version=\"1.1\" viewBox=\"0 0 242.816121 68.000884\" width=\"242.816121pt\" xmlns=\"http://www.w3.org/2000/svg\" xmlns:xlink=\"http://www.w3.org/1999/xlink\">\n <metadata>\n  <rdf:RDF xmlns:cc=\"http://creativecommons.org/ns#\" xmlns:dc=\"http://purl.org/dc/elements/1.1/\" xmlns:rdf=\"http://www.w3.org/1999/02/22-rdf-syntax-ns#\">\n   <cc:Work>\n    <dc:type rdf:resource=\"http://purl.org/dc/dcmitype/StillImage\"/>\n    <dc:date>2022-03-18T17:59:58.602881</dc:date>\n    <dc:format>image/svg+xml</dc:format>\n    <dc:creator>\n     <cc:Agent>\n      <dc:title>Matplotlib v3.4.3, https://matplotlib.org/</dc:title>\n     </cc:Agent>\n    </dc:creator>\n   </cc:Work>\n  </rdf:RDF>\n </metadata>\n <defs>\n  <style type=\"text/css\">*{stroke-linecap:butt;stroke-linejoin:round;}</style>\n </defs>\n <g id=\"figure_1\">\n  <g id=\"patch_1\">\n   <path d=\"M 0 68.000884 \nL 242.816121 68.000884 \nL 242.816121 0 \nL 0 0 \nz\n\" style=\"fill:none;\"/>\n  </g>\n  <g id=\"axes_1\">\n   <g clip-path=\"url(#pa2a7307843)\">\n    <image height=\"39\" id=\"image708e91bb5a\" transform=\"scale(1 -1)translate(0 -39)\" width=\"39\" x=\"12.416121\" xlink:href=\"data:image/png;base64,\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\" y=\"-21.800884\"/>\n   </g>\n   <g id=\"text_1\">\n    <!-- airplane -->\n    <g transform=\"translate(7.2 16.318125)scale(0.12 -0.12)\">\n     <defs>\n      <path d=\"M 2194 1759 \nQ 1497 1759 1228 1600 \nQ 959 1441 959 1056 \nQ 959 750 1161 570 \nQ 1363 391 1709 391 \nQ 2188 391 2477 730 \nQ 2766 1069 2766 1631 \nL 2766 1759 \nL 2194 1759 \nz\nM 3341 1997 \nL 3341 0 \nL 2766 0 \nL 2766 531 \nQ 2569 213 2275 61 \nQ 1981 -91 1556 -91 \nQ 1019 -91 701 211 \nQ 384 513 384 1019 \nQ 384 1609 779 1909 \nQ 1175 2209 1959 2209 \nL 2766 2209 \nL 2766 2266 \nQ 2766 2663 2505 2880 \nQ 2244 3097 1772 3097 \nQ 1472 3097 1187 3025 \nQ 903 2953 641 2809 \nL 641 3341 \nQ 956 3463 1253 3523 \nQ 1550 3584 1831 3584 \nQ 2591 3584 2966 3190 \nQ 3341 2797 3341 1997 \nz\n\" id=\"DejaVuSans-61\" transform=\"scale(0.015625)\"/>\n      <path d=\"M 603 3500 \nL 1178 3500 \nL 1178 0 \nL 603 0 \nL 603 3500 \nz\nM 603 4863 \nL 1178 4863 \nL 1178 4134 \nL 603 4134 \nL 603 4863 \nz\n\" id=\"DejaVuSans-69\" transform=\"scale(0.015625)\"/>\n      <path d=\"M 2631 2963 \nQ 2534 3019 2420 3045 \nQ 2306 3072 2169 3072 \nQ 1681 3072 1420 2755 \nQ 1159 2438 1159 1844 \nL 1159 0 \nL 581 0 \nL 581 3500 \nL 1159 3500 \nL 1159 2956 \nQ 1341 3275 1631 3429 \nQ 1922 3584 2338 3584 \nQ 2397 3584 2469 3576 \nQ 2541 3569 2628 3553 \nL 2631 2963 \nz\n\" id=\"DejaVuSans-72\" transform=\"scale(0.015625)\"/>\n      <path d=\"M 1159 525 \nL 1159 -1331 \nL 581 -1331 \nL 581 3500 \nL 1159 3500 \nL 1159 2969 \nQ 1341 3281 1617 3432 \nQ 1894 3584 2278 3584 \nQ 2916 3584 3314 3078 \nQ 3713 2572 3713 1747 \nQ 3713 922 3314 415 \nQ 2916 -91 2278 -91 \nQ 1894 -91 1617 61 \nQ 1341 213 1159 525 \nz\nM 3116 1747 \nQ 3116 2381 2855 2742 \nQ 2594 3103 2138 3103 \nQ 1681 3103 1420 2742 \nQ 1159 2381 1159 1747 \nQ 1159 1113 1420 752 \nQ 1681 391 2138 391 \nQ 2594 391 2855 752 \nQ 3116 1113 3116 1747 \nz\n\" id=\"DejaVuSans-70\" transform=\"scale(0.015625)\"/>\n      <path d=\"M 603 4863 \nL 1178 4863 \nL 1178 0 \nL 603 0 \nL 603 4863 \nz\n\" id=\"DejaVuSans-6c\" transform=\"scale(0.015625)\"/>\n      <path d=\"M 3513 2113 \nL 3513 0 \nL 2938 0 \nL 2938 2094 \nQ 2938 2591 2744 2837 \nQ 2550 3084 2163 3084 \nQ 1697 3084 1428 2787 \nQ 1159 2491 1159 1978 \nL 1159 0 \nL 581 0 \nL 581 3500 \nL 1159 3500 \nL 1159 2956 \nQ 1366 3272 1645 3428 \nQ 1925 3584 2291 3584 \nQ 2894 3584 3203 3211 \nQ 3513 2838 3513 2113 \nz\n\" id=\"DejaVuSans-6e\" transform=\"scale(0.015625)\"/>\n      <path d=\"M 3597 1894 \nL 3597 1613 \nL 953 1613 \nQ 991 1019 1311 708 \nQ 1631 397 2203 397 \nQ 2534 397 2845 478 \nQ 3156 559 3463 722 \nL 3463 178 \nQ 3153 47 2828 -22 \nQ 2503 -91 2169 -91 \nQ 1331 -91 842 396 \nQ 353 884 353 1716 \nQ 353 2575 817 3079 \nQ 1281 3584 2069 3584 \nQ 2775 3584 3186 3129 \nQ 3597 2675 3597 1894 \nz\nM 3022 2063 \nQ 3016 2534 2758 2815 \nQ 2500 3097 2075 3097 \nQ 1594 3097 1305 2825 \nQ 1016 2553 972 2059 \nL 3022 2063 \nz\n\" id=\"DejaVuSans-65\" transform=\"scale(0.015625)\"/>\n     </defs>\n     <use xlink:href=\"#DejaVuSans-61\"/>\n     <use x=\"61.279297\" xlink:href=\"#DejaVuSans-69\"/>\n     <use x=\"89.0625\" xlink:href=\"#DejaVuSans-72\"/>\n     <use x=\"130.175781\" xlink:href=\"#DejaVuSans-70\"/>\n     <use x=\"193.652344\" xlink:href=\"#DejaVuSans-6c\"/>\n     <use x=\"221.435547\" xlink:href=\"#DejaVuSans-61\"/>\n     <use x=\"282.714844\" xlink:href=\"#DejaVuSans-6e\"/>\n     <use x=\"346.09375\" xlink:href=\"#DejaVuSans-65\"/>\n    </g>\n   </g>\n  </g>\n  <g id=\"axes_2\">\n   <g clip-path=\"url(#p589dc62e57)\">\n    <image height=\"39\" id=\"imagea7264ff086\" transform=\"scale(1 -1)translate(0 -39)\" width=\"39\" x=\"58.595431\" xlink:href=\"data:image/png;base64,\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\" y=\"-21.800884\"/>\n   </g>\n   <g id=\"text_2\">\n    <!-- dog -->\n    <g transform=\"translate(66.547435 16.318125)scale(0.12 -0.12)\">\n     <defs>\n      <path d=\"M 2906 2969 \nL 2906 4863 \nL 3481 4863 \nL 3481 0 \nL 2906 0 \nL 2906 525 \nQ 2725 213 2448 61 \nQ 2172 -91 1784 -91 \nQ 1150 -91 751 415 \nQ 353 922 353 1747 \nQ 353 2572 751 3078 \nQ 1150 3584 1784 3584 \nQ 2172 3584 2448 3432 \nQ 2725 3281 2906 2969 \nz\nM 947 1747 \nQ 947 1113 1208 752 \nQ 1469 391 1925 391 \nQ 2381 391 2643 752 \nQ 2906 1113 2906 1747 \nQ 2906 2381 2643 2742 \nQ 2381 3103 1925 3103 \nQ 1469 3103 1208 2742 \nQ 947 2381 947 1747 \nz\n\" id=\"DejaVuSans-64\" transform=\"scale(0.015625)\"/>\n      <path d=\"M 1959 3097 \nQ 1497 3097 1228 2736 \nQ 959 2375 959 1747 \nQ 959 1119 1226 758 \nQ 1494 397 1959 397 \nQ 2419 397 2687 759 \nQ 2956 1122 2956 1747 \nQ 2956 2369 2687 2733 \nQ 2419 3097 1959 3097 \nz\nM 1959 3584 \nQ 2709 3584 3137 3096 \nQ 3566 2609 3566 1747 \nQ 3566 888 3137 398 \nQ 2709 -91 1959 -91 \nQ 1206 -91 779 398 \nQ 353 888 353 1747 \nQ 353 2609 779 3096 \nQ 1206 3584 1959 3584 \nz\n\" id=\"DejaVuSans-6f\" transform=\"scale(0.015625)\"/>\n      <path d=\"M 2906 1791 \nQ 2906 2416 2648 2759 \nQ 2391 3103 1925 3103 \nQ 1463 3103 1205 2759 \nQ 947 2416 947 1791 \nQ 947 1169 1205 825 \nQ 1463 481 1925 481 \nQ 2391 481 2648 825 \nQ 2906 1169 2906 1791 \nz\nM 3481 434 \nQ 3481 -459 3084 -895 \nQ 2688 -1331 1869 -1331 \nQ 1566 -1331 1297 -1286 \nQ 1028 -1241 775 -1147 \nL 775 -588 \nQ 1028 -725 1275 -790 \nQ 1522 -856 1778 -856 \nQ 2344 -856 2625 -561 \nQ 2906 -266 2906 331 \nL 2906 616 \nQ 2728 306 2450 153 \nQ 2172 0 1784 0 \nQ 1141 0 747 490 \nQ 353 981 353 1791 \nQ 353 2603 747 3093 \nQ 1141 3584 1784 3584 \nQ 2172 3584 2450 3431 \nQ 2728 3278 2906 2969 \nL 2906 3500 \nL 3481 3500 \nL 3481 434 \nz\n\" id=\"DejaVuSans-67\" transform=\"scale(0.015625)\"/>\n     </defs>\n     <use xlink:href=\"#DejaVuSans-64\"/>\n     <use x=\"63.476562\" xlink:href=\"#DejaVuSans-6f\"/>\n     <use x=\"124.658203\" xlink:href=\"#DejaVuSans-67\"/>\n    </g>\n   </g>\n  </g>\n  <g id=\"axes_3\">\n   <g clip-path=\"url(#p4be9ea93fa)\">\n    <image height=\"39\" id=\"image0d47a156d8\" transform=\"scale(1 -1)translate(0 -39)\" width=\"39\" x=\"104.774741\" xlink:href=\"data:image/png;base64,\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\" y=\"-21.800884\"/>\n   </g>\n   <g id=\"text_3\">\n    <!-- airplane -->\n    <g transform=\"translate(99.558621 16.318125)scale(0.12 -0.12)\">\n     <use xlink:href=\"#DejaVuSans-61\"/>\n     <use x=\"61.279297\" xlink:href=\"#DejaVuSans-69\"/>\n     <use x=\"89.0625\" xlink:href=\"#DejaVuSans-72\"/>\n     <use x=\"130.175781\" xlink:href=\"#DejaVuSans-70\"/>\n     <use x=\"193.652344\" xlink:href=\"#DejaVuSans-6c\"/>\n     <use x=\"221.435547\" xlink:href=\"#DejaVuSans-61\"/>\n     <use x=\"282.714844\" xlink:href=\"#DejaVuSans-6e\"/>\n     <use x=\"346.09375\" xlink:href=\"#DejaVuSans-65\"/>\n    </g>\n   </g>\n  </g>\n  <g id=\"axes_4\">\n   <g clip-path=\"url(#pc3faa61c2f)\">\n    <image height=\"39\" id=\"image70718c7e58\" transform=\"scale(1 -1)translate(0 -39)\" width=\"39\" x=\"150.954052\" xlink:href=\"data:image/png;base64,\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\" y=\"-21.800884\"/>\n   </g>\n   <g id=\"text_4\">\n    <!-- bird -->\n    <g transform=\"translate(158.548869 16.318125)scale(0.12 -0.12)\">\n     <defs>\n      <path d=\"M 3116 1747 \nQ 3116 2381 2855 2742 \nQ 2594 3103 2138 3103 \nQ 1681 3103 1420 2742 \nQ 1159 2381 1159 1747 \nQ 1159 1113 1420 752 \nQ 1681 391 2138 391 \nQ 2594 391 2855 752 \nQ 3116 1113 3116 1747 \nz\nM 1159 2969 \nQ 1341 3281 1617 3432 \nQ 1894 3584 2278 3584 \nQ 2916 3584 3314 3078 \nQ 3713 2572 3713 1747 \nQ 3713 922 3314 415 \nQ 2916 -91 2278 -91 \nQ 1894 -91 1617 61 \nQ 1341 213 1159 525 \nL 1159 0 \nL 581 0 \nL 581 4863 \nL 1159 4863 \nL 1159 2969 \nz\n\" id=\"DejaVuSans-62\" transform=\"scale(0.015625)\"/>\n     </defs>\n     <use xlink:href=\"#DejaVuSans-62\"/>\n     <use x=\"63.476562\" xlink:href=\"#DejaVuSans-69\"/>\n     <use x=\"91.259766\" xlink:href=\"#DejaVuSans-72\"/>\n     <use x=\"130.623047\" xlink:href=\"#DejaVuSans-64\"/>\n    </g>\n   </g>\n  </g>\n  <g id=\"axes_5\">\n   <g clip-path=\"url(#p7ad552c0ad)\">\n    <image height=\"39\" id=\"image6609bc3fd2\" transform=\"scale(1 -1)translate(0 -39)\" width=\"39\" x=\"197.133362\" xlink:href=\"data:image/png;base64,\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\" y=\"-21.800884\"/>\n   </g>\n   <g id=\"text_5\">\n    <!-- truck -->\n    <g transform=\"translate(200.980054 16.318125)scale(0.12 -0.12)\">\n     <defs>\n      <path d=\"M 1172 4494 \nL 1172 3500 \nL 2356 3500 \nL 2356 3053 \nL 1172 3053 \nL 1172 1153 \nQ 1172 725 1289 603 \nQ 1406 481 1766 481 \nL 2356 481 \nL 2356 0 \nL 1766 0 \nQ 1100 0 847 248 \nQ 594 497 594 1153 \nL 594 3053 \nL 172 3053 \nL 172 3500 \nL 594 3500 \nL 594 4494 \nL 1172 4494 \nz\n\" id=\"DejaVuSans-74\" transform=\"scale(0.015625)\"/>\n      <path d=\"M 544 1381 \nL 544 3500 \nL 1119 3500 \nL 1119 1403 \nQ 1119 906 1312 657 \nQ 1506 409 1894 409 \nQ 2359 409 2629 706 \nQ 2900 1003 2900 1516 \nL 2900 3500 \nL 3475 3500 \nL 3475 0 \nL 2900 0 \nL 2900 538 \nQ 2691 219 2414 64 \nQ 2138 -91 1772 -91 \nQ 1169 -91 856 284 \nQ 544 659 544 1381 \nz\nM 1991 3584 \nL 1991 3584 \nz\n\" id=\"DejaVuSans-75\" transform=\"scale(0.015625)\"/>\n      <path d=\"M 3122 3366 \nL 3122 2828 \nQ 2878 2963 2633 3030 \nQ 2388 3097 2138 3097 \nQ 1578 3097 1268 2742 \nQ 959 2388 959 1747 \nQ 959 1106 1268 751 \nQ 1578 397 2138 397 \nQ 2388 397 2633 464 \nQ 2878 531 3122 666 \nL 3122 134 \nQ 2881 22 2623 -34 \nQ 2366 -91 2075 -91 \nQ 1284 -91 818 406 \nQ 353 903 353 1747 \nQ 353 2603 823 3093 \nQ 1294 3584 2113 3584 \nQ 2378 3584 2631 3529 \nQ 2884 3475 3122 3366 \nz\n\" id=\"DejaVuSans-63\" transform=\"scale(0.015625)\"/>\n      <path d=\"M 581 4863 \nL 1159 4863 \nL 1159 1991 \nL 2875 3500 \nL 3609 3500 \nL 1753 1863 \nL 3688 0 \nL 2938 0 \nL 1159 1709 \nL 1159 0 \nL 581 0 \nL 581 4863 \nz\n\" id=\"DejaVuSans-6b\" transform=\"scale(0.015625)\"/>\n     </defs>\n     <use xlink:href=\"#DejaVuSans-74\"/>\n     <use x=\"39.208984\" xlink:href=\"#DejaVuSans-72\"/>\n     <use x=\"80.322266\" xlink:href=\"#DejaVuSans-75\"/>\n     <use x=\"143.701172\" xlink:href=\"#DejaVuSans-63\"/>\n     <use x=\"198.681641\" xlink:href=\"#DejaVuSans-6b\"/>\n    </g>\n   </g>\n  </g>\n </g>\n <defs>\n  <clipPath id=\"pa2a7307843\">\n   <rect height=\"38.482759\" width=\"38.482759\" x=\"12.416121\" y=\"22.318125\"/>\n  </clipPath>\n  <clipPath id=\"p589dc62e57\">\n   <rect height=\"38.482759\" width=\"38.482759\" x=\"58.595431\" y=\"22.318125\"/>\n  </clipPath>\n  <clipPath id=\"p4be9ea93fa\">\n   <rect height=\"38.482759\" width=\"38.482759\" x=\"104.774741\" y=\"22.318125\"/>\n  </clipPath>\n  <clipPath id=\"pc3faa61c2f\">\n   <rect height=\"38.482759\" width=\"38.482759\" x=\"150.954052\" y=\"22.318125\"/>\n  </clipPath>\n  <clipPath id=\"p7ad552c0ad\">\n   <rect height=\"38.482759\" width=\"38.482759\" x=\"197.133362\" y=\"22.318125\"/>\n  </clipPath>\n </defs>\n</svg>\n",
      "text/plain": [
       "<Figure size 288x288 with 5 Axes>"
      ]
     },
     "metadata": {
      "needs_background": "light"
     },
     "output_type": "display_data"
    }
   ],
   "source": [
    "show_image(data_train[\"image\"], data_train['label'], classes)\n"
   ]
  },
  {
   "cell_type": "markdown",
   "metadata": {},
   "source": [
    "The answer to the **question 1** is shown above."
   ]
  },
  {
   "cell_type": "markdown",
   "metadata": {},
   "source": [
    "## Question 2 Data augmentation"
   ]
  },
  {
   "cell_type": "code",
   "execution_count": 11,
   "metadata": {},
   "outputs": [],
   "source": [
    "data_augmentation_transform = trns.Compose([\n",
    "    trns.RandomRotation(30),\n",
    "    trns.RandomResizedCrop(32, scale=(0.8, 1.1), ratio=(1.0, 1.0)),\n",
    "    trns.RandomHorizontalFlip(),\n",
    "])\n",
    "\n",
    "train_transform = trns.Compose([\n",
    "    data_augmentation_transform,\n",
    "    trns.ToTensor(),\n",
    "    trns.Normalize(mean=[0.485, 0.456, 0.406], std=[0.229, 0.224, 0.225])\n",
    "])\n",
    "\n",
    "valid_transform = trns.Compose([\n",
    "    trns.ToTensor(),\n",
    "    trns.Normalize(mean=[0.485, 0.456, 0.406], std=[0.229, 0.224, 0.225])\n",
    "])\n"
   ]
  },
  {
   "cell_type": "code",
   "execution_count": 12,
   "metadata": {},
   "outputs": [],
   "source": [
    "def show_data_augmentation(image_list, number: int = 5):\n",
    "    for i in np.random.randint(0, len(image_list), number):\n",
    "        data_augmentation_transform(image_list[i]).show()\n"
   ]
  },
  {
   "cell_type": "code",
   "execution_count": 13,
   "metadata": {},
   "outputs": [
    {
     "data": {
      "image/png": "[encoded data removed]",
      "text/plain": [
       "<PIL.Image.Image image mode=RGB size=32x32 at 0x7FB460B5CA90>"
      ]
     },
     "metadata": {},
     "output_type": "display_data"
    },
    {
     "data": {
      "image/png": "[encoded data removed]",
      "text/plain": [
       "<PIL.Image.Image image mode=RGB size=32x32 at 0x7FB460B5C7F0>"
      ]
     },
     "metadata": {},
     "output_type": "display_data"
    },
    {
     "data": {
      "image/png": "[encoded data removed]",
      "text/plain": [
       "<PIL.Image.Image image mode=RGB size=32x32 at 0x7FB460B5C3D0>"
      ]
     },
     "metadata": {},
     "output_type": "display_data"
    },
    {
     "data": {
      "image/png": "[encoded data removed]",
      "text/plain": [
       "<PIL.Image.Image image mode=RGB size=32x32 at 0x7FB460B5C340>"
      ]
     },
     "metadata": {},
     "output_type": "display_data"
    },
    {
     "data": {
      "image/png": "[encoded data removed]",
      "text/plain": [
       "<PIL.Image.Image image mode=RGB size=32x32 at 0x7FB460B5CA90>"
      ]
     },
     "metadata": {},
     "output_type": "display_data"
    }
   ],
   "source": [
    "show_data_augmentation(data_train['image'])\n"
   ]
  },
  {
   "cell_type": "markdown",
   "metadata": {},
   "source": [
    "We craete a sequence of transformation called `data_augmentation_transform` to do the following augmentation:\n",
    "- Random Image Rotation\n",
    "- Random Resized ans Crop\n",
    "- Random Horizontal Flip\n",
    "\n",
    "And the results is shown above."
   ]
  },
  {
   "cell_type": "markdown",
   "metadata": {},
   "source": [
    "## Question 3 Features Extraction"
   ]
  },
  {
   "cell_type": "markdown",
   "metadata": {},
   "source": [
    "### scikit-learn HOG process"
   ]
  },
  {
   "cell_type": "code",
   "execution_count": 14,
   "metadata": {},
   "outputs": [
    {
     "name": "stderr",
     "output_type": "stream",
     "text": [
      "<frozen importlib._bootstrap>:228: RuntimeWarning: scipy._lib.messagestream.MessageStream size changed, may indicate binary incompatibility. Expected 56 from C header, got 64 from PyObject\n",
      "<frozen importlib._bootstrap>:228: RuntimeWarning: scipy._lib.messagestream.MessageStream size changed, may indicate binary incompatibility. Expected 56 from C header, got 64 from PyObject\n",
      "<frozen importlib._bootstrap>:228: RuntimeWarning: scipy._lib.messagestream.MessageStream size changed, may indicate binary incompatibility. Expected 56 from C header, got 64 from PyObject\n",
      "<frozen importlib._bootstrap>:228: RuntimeWarning: scipy._lib.messagestream.MessageStream size changed, may indicate binary incompatibility. Expected 56 from C header, got 64 from PyObject\n",
      "<frozen importlib._bootstrap>:228: RuntimeWarning: scipy._lib.messagestream.MessageStream size changed, may indicate binary incompatibility. Expected 56 from C header, got 64 from PyObject\n",
      "<frozen importlib._bootstrap>:228: RuntimeWarning: scipy._lib.messagestream.MessageStream size changed, may indicate binary incompatibility. Expected 56 from C header, got 64 from PyObject\n",
      "<frozen importlib._bootstrap>:228: RuntimeWarning: scipy._lib.messagestream.MessageStream size changed, may indicate binary incompatibility. Expected 56 from C header, got 64 from PyObject\n",
      "<frozen importlib._bootstrap>:228: RuntimeWarning: scipy._lib.messagestream.MessageStream size changed, may indicate binary incompatibility. Expected 56 from C header, got 64 from PyObject\n",
      "<frozen importlib._bootstrap>:228: RuntimeWarning: scipy._lib.messagestream.MessageStream size changed, may indicate binary incompatibility. Expected 56 from C header, got 64 from PyObject\n",
      "<frozen importlib._bootstrap>:228: RuntimeWarning: scipy._lib.messagestream.MessageStream size changed, may indicate binary incompatibility. Expected 56 from C header, got 64 from PyObject\n",
      "<frozen importlib._bootstrap>:228: RuntimeWarning: scipy._lib.messagestream.MessageStream size changed, may indicate binary incompatibility. Expected 56 from C header, got 64 from PyObject\n",
      "<frozen importlib._bootstrap>:228: RuntimeWarning: scipy._lib.messagestream.MessageStream size changed, may indicate binary incompatibility. Expected 56 from C header, got 64 from PyObject\n",
      "<frozen importlib._bootstrap>:228: RuntimeWarning: scipy._lib.messagestream.MessageStream size changed, may indicate binary incompatibility. Expected 56 from C header, got 64 from PyObject\n",
      "<frozen importlib._bootstrap>:228: RuntimeWarning: scipy._lib.messagestream.MessageStream size changed, may indicate binary incompatibility. Expected 56 from C header, got 64 from PyObject\n",
      "<frozen importlib._bootstrap>:228: RuntimeWarning: scipy._lib.messagestream.MessageStream size changed, may indicate binary incompatibility. Expected 56 from C header, got 64 from PyObject\n",
      "<frozen importlib._bootstrap>:228: RuntimeWarning: scipy._lib.messagestream.MessageStream size changed, may indicate binary incompatibility. Expected 56 from C header, got 64 from PyObject\n"
     ]
    }
   ],
   "source": [
    "data_train[\"hog_raw\"] = Parallel(n_jobs=16)(delayed(lambda x: hog(x, orientations=9, pixels_per_cell=(8, 8),\n",
    "                                                                  cells_per_block=(2, 2), visualize=True, multichannel=True))(img) for img in data_train['image'])\n",
    "data_validate[\"hog_raw\"] = Parallel(n_jobs=16)(delayed(lambda x: hog(x, orientations=9, pixels_per_cell=(8, 8),\n",
    "                                                                     cells_per_block=(2, 2), visualize=True, multichannel=True))(img) for img in data_validate['image'])\n",
    "# just using joblib to speed up the process with multithreading\n",
    "data_train[\"hog\"] = [d[0] for d in data_train[\"hog_raw\"]]\n",
    "data_train[\"hog_img\"] = [d[1] for d in data_train[\"hog_raw\"]]\n",
    "data_validate[\"hog\"] = [d[0] for d in data_validate[\"hog_raw\"]]\n",
    "data_validate[\"hog_img\"] = [d[1] for d in data_validate[\"hog_raw\"]]\n"
   ]
  },
  {
   "cell_type": "markdown",
   "metadata": {},
   "source": [
    "Using joblib to parallel the hog function seeing that the hog is too slow."
   ]
  },
  {
   "cell_type": "markdown",
   "metadata": {},
   "source": [
    "### Hand writing HOG"
   ]
  },
  {
   "cell_type": "code",
   "execution_count": 15,
   "metadata": {},
   "outputs": [],
   "source": [
    "def np_fftconvolve(A, B):\n",
    "    return np.real(ifft2(fft2(A)*fft2(B, s=A.shape)))"
   ]
  },
  {
   "cell_type": "markdown",
   "metadata": {},
   "source": [
    "The above is a two-dimensional convolution function implemented by `fft`."
   ]
  },
  {
   "cell_type": "code",
   "execution_count": 16,
   "metadata": {},
   "outputs": [],
   "source": [
    "def angle_to_bin(angle):\n",
    "    if angle >= 170 or angle < 10:\n",
    "        return 0\n",
    "    elif angle < 30:\n",
    "        return 1\n",
    "    elif angle < 50:\n",
    "        return 2\n",
    "    elif angle < 70:\n",
    "        return 3\n",
    "    elif angle < 90:\n",
    "        return 4\n",
    "    elif angle < 110:\n",
    "        return 5\n",
    "    elif angle < 130:\n",
    "        return 6\n",
    "    elif angle < 150:\n",
    "        return 7\n",
    "    elif angle < 170:\n",
    "        return 8"
   ]
  },
  {
   "cell_type": "markdown",
   "metadata": {},
   "source": [
    "This function is convert the angle into the classification of bins."
   ]
  },
  {
   "cell_type": "code",
   "execution_count": 17,
   "metadata": {},
   "outputs": [],
   "source": [
    "def split_matrix(M, s): return M.reshape(\n",
    "    (-1, s, M.shape[1]//s, s)).transpose((0, 2, 1, 3)).reshape(M.shape[1]//s, M.shape[1]//s, s*s)\n"
   ]
  },
  {
   "cell_type": "markdown",
   "metadata": {},
   "source": [
    "This function is split matrix into smaller ones like:\n",
    "\n",
    "$$\n",
    "\\begin{pmatrix}\n",
    "\n",
    "0 & 1 & 2 & 3 \\\\\n",
    "4 & 5 & 6 & 7 \\\\\n",
    "8 & 9 & 10 & 11 \\\\\n",
    "12 & 13 & 14 & 15 \\\\\n",
    "\n",
    "\n",
    "\\end{pmatrix}\n",
    "\n",
    "\\to\n",
    "\n",
    "\\begin{pmatrix}\n",
    "\n",
    "\\begin{pmatrix}\n",
    " 0 & 1 \\\\\n",
    " 4 & 5 \\\\\n",
    "\\end{pmatrix}\n",
    "\n",
    "& \\begin{pmatrix}\n",
    " 2 & 3 \\\\\n",
    " 6 & 7 \\\\\n",
    "\\end{pmatrix}\n",
    " \\\\\n",
    "\\begin{pmatrix}\n",
    " 8 & 9 \\\\\n",
    " 12 & 13 \\\\\n",
    "\\end{pmatrix}\n",
    "& \\begin{pmatrix}\n",
    " 10 & 11 \\\\\n",
    " 14 & 15 \\\\\n",
    "\\end{pmatrix}\n",
    "\n",
    "\\end{pmatrix} \n",
    "\n",
    "\n",
    "\\to \n",
    "\n",
    "\\begin{pmatrix}\n",
    "\n",
    "\\begin{pmatrix}\n",
    " 0 & 1 &\n",
    " 4 & 5 \\\\\n",
    "\\end{pmatrix}\n",
    "\n",
    "& \\begin{pmatrix}\n",
    " 2 & 3 &\n",
    " 6 & 7 \\\\\n",
    "\\end{pmatrix}\n",
    " \\\\\n",
    "\\begin{pmatrix}\n",
    " 8 & 9 &\n",
    " 12 & 13 \\\\\n",
    "\\end{pmatrix}\n",
    "& \\begin{pmatrix}\n",
    " 10 & 11 &\n",
    " 14 & 15 \\\\\n",
    "\\end{pmatrix}\n",
    "\n",
    "\\end{pmatrix} \n",
    "\n",
    "$$"
   ]
  },
  {
   "cell_type": "code",
   "execution_count": 18,
   "metadata": {},
   "outputs": [],
   "source": [
    "def filter_image(im, filtr):\n",
    "    filtr = np.flip(filtr)\n",
    "    return np_fftconvolve(im, filtr)"
   ]
  },
  {
   "cell_type": "markdown",
   "metadata": {},
   "source": [
    "just filte the image to get the graded image by the filter."
   ]
  },
  {
   "cell_type": "code",
   "execution_count": 19,
   "metadata": {},
   "outputs": [],
   "source": [
    "def get_gradient(im_dx, im_dy):\n",
    "    x_squared = np.square(im_dx)\n",
    "    y_squared = np.square(im_dy)\n",
    "    grad_mag = np.sqrt(np.add(x_squared, y_squared))\n",
    "    grad_angle = np.arctan2(im_dy, im_dx)\n",
    "    return grad_mag, grad_angle"
   ]
  },
  {
   "cell_type": "markdown",
   "metadata": {},
   "source": [
    "Calculate the magnitude gradient and the angle gradient"
   ]
  },
  {
   "cell_type": "code",
   "execution_count": 20,
   "metadata": {},
   "outputs": [],
   "source": [
    "def build_histogram(grad_mag, grad_angle, cell_size):\n",
    "    M = grad_mag.shape[0]//cell_size\n",
    "    N = grad_mag.shape[1]//cell_size\n",
    "    hist = np.zeros((M, N, 9))\n",
    "\n",
    "    drg_grad_angle = np.abs(grad_angle*180/np.pi)\n",
    "    vector_angle_to_bin = np.vectorize(angle_to_bin)\n",
    "    bin_grad = vector_angle_to_bin(drg_grad_angle)\n",
    "    \n",
    "    for i in range(9):\n",
    "        grad_mag_bin = (bin_grad == i).astype(int) * grad_mag\n",
    "        grad_mag_bin = split_matrix(grad_mag_bin, cell_size)\n",
    "        grad_mag_bin = np.sum(grad_mag_bin, axis=2)\n",
    "        hist[:, :, i] = grad_mag_bin\n",
    "\n",
    "    return hist"
   ]
  },
  {
   "cell_type": "markdown",
   "metadata": {},
   "source": [
    "get the histogram of each cell using the grad angle and magnitude."
   ]
  },
  {
   "cell_type": "code",
   "execution_count": 21,
   "metadata": {},
   "outputs": [],
   "source": [
    "def get_block_descriptor(ori_histo):\n",
    "    ori_histo_normalized = np.zeros(ori_histo.shape)\n",
    "    for i in range(ori_histo.shape[0]):\n",
    "        for j in range(ori_histo.shape[1]):\n",
    "            block = ori_histo[i, j]\n",
    "            ori_histo_normalized[i, j] = block / np.sqrt(np.sum(block ** 2) + np.e ** 2)\n",
    "    return ori_histo_normalized"
   ]
  },
  {
   "cell_type": "markdown",
   "metadata": {},
   "source": [
    "noramlize the histogram."
   ]
  },
  {
   "cell_type": "code",
   "execution_count": 22,
   "metadata": {},
   "outputs": [],
   "source": [
    "def extract_hog(im):\n",
    "    im = im.astype('float') / 255.0\n",
    "    diff_filter_x = np.array(\n",
    "        [[1.0, 0.0, -1.0], [1.0, 0.0, -1.0], [1.0, 0.0, -1.0]])\n",
    "    diff_filter_y = np.array(\n",
    "        [[1.0, 1.0, 1.0], [0.0, 0.0, 0.0], [-1.0, -1.0, -1.0]])\n",
    "\n",
    "    diff_x = filter_image(im, diff_filter_x)\n",
    "    diff_y = filter_image(im, diff_filter_y)\n",
    "    grad_mag, grad_angle = get_gradient(diff_x, diff_y)\n",
    "\n",
    "    block_size = 1\n",
    "    cell_size = 8\n",
    "\n",
    "    histogram = build_histogram(grad_mag, grad_angle, cell_size)\n",
    "\n",
    "    descriptor = get_block_descriptor(histogram)\n",
    "\n",
    "    hog = descriptor.reshape(descriptor.shape[0] * descriptor.shape[1], descriptor.shape[2])\n",
    "    return hog"
   ]
  },
  {
   "cell_type": "markdown",
   "metadata": {},
   "source": [
    "Assemble the above functions.\n",
    "\n",
    "1. calculate the get differential images on x direction and y direction by imply Sobel filter.\n",
    "2. calculate the gradients magnitudes and gradients angles.\n",
    "3. create histogram for every cell.\n",
    "4. normalize on every cell."
   ]
  },
  {
   "cell_type": "code",
   "execution_count": 23,
   "metadata": {},
   "outputs": [],
   "source": [
    "def show_hog_image():\n",
    "    rnd = np.random.randint(0, len(data_train['image']))\n",
    "    img = data_train['image'][rnd]\n",
    "    label = data_train['label'][rnd]\n",
    "    hog_img = data_train['hog_img'][rnd]\n",
    "    \n",
    "    grap_img = np.array(ImageOps.grayscale(img))\n",
    "    hog = extract_hog(grap_img)\n",
    "    num_bins = 9\n",
    "    max_len = 10\n",
    "    cell_size = 8\n",
    "    im_h, im_w = grap_img.shape\n",
    "    num_cell_h, num_cell_w = im_h // cell_size, im_w // cell_size\n",
    "    num_blocks_h, num_blocks_w = num_cell_h, num_cell_w\n",
    "    histo_normalized = hog.reshape(\n",
    "        (num_blocks_h, num_blocks_w, 1, num_bins))\n",
    "    \n",
    "    histo_normalized_vis = np.sum(histo_normalized**2, axis=2) * max_len\n",
    "    angles = np.arange(0, np.pi, np.pi/num_bins)\n",
    "    mesh_x, mesh_y = np.meshgrid(np.r_[cell_size//2: cell_size*num_cell_w-cell_size/2+1: cell_size], np.r_[\n",
    "                                 cell_size//2: cell_size*num_cell_h-cell_size/2+1: cell_size])\n",
    "    \n",
    "    mesh_u = histo_normalized_vis * np.sin(angles).reshape((1, 1, num_bins))\n",
    "    \n",
    "    mesh_v = histo_normalized_vis * -np.cos(angles).reshape((1, 1, num_bins))\n",
    "\n",
    "\n",
    "    fig, (ax1, ax2, ax3) = plt.subplots(\n",
    "        1, 3, figsize=(3, 3), sharex=True, sharey=True)\n",
    "    ax1.axis('off')\n",
    "    ax1.imshow(img, cmap=plt.cm.gray)\n",
    "    ax1.set_title(classes[label])\n",
    "\n",
    "    ax2.axis('off')\n",
    "    ax2.imshow(hog_img, cmap=plt.cm.gray)\n",
    "    ax2.set_title('sk-HOG')\n",
    "\n",
    "    ax3.imshow(grap_img.astype('float')/255.0, cmap='gray', vmin=0, vmax=1)\n",
    "    for i in range(num_bins):\n",
    "        ax3.quiver(mesh_x - 0.5 * mesh_u[:, :, i], mesh_y - 0.5 * mesh_v[:, :, i], mesh_u[:, :, i], mesh_v[:, :, i],\n",
    "                   color='red', headaxislength=0, headlength=0, scale_units='xy', scale=1, width=0.005, angles='xy')\n",
    "    ax3.set_title('hw-HOG')\n",
    "\n",
    "    plt.show()\n"
   ]
  },
  {
   "cell_type": "code",
   "execution_count": 24,
   "metadata": {},
   "outputs": [
    {
     "data": {
      "image/png": "[encoded data removed]",
      "image/svg+xml": "<?xml version=\"1.0\" encoding=\"utf-8\" standalone=\"no\"?>\n<!DOCTYPE svg PUBLIC \"-//W3C//DTD SVG 1.1//EN\"\n  \"http://www.w3.org/Graphics/SVG/1.1/DTD/svg11.dtd\">\n<svg height=\"99.824084pt\" version=\"1.1\" viewBox=\"0 0 191.176268 99.824084\" width=\"191.176268pt\" xmlns=\"http://www.w3.org/2000/svg\" xmlns:xlink=\"http://www.w3.org/1999/xlink\">\n <metadata>\n  <rdf:RDF xmlns:cc=\"http://creativecommons.org/ns#\" xmlns:dc=\"http://purl.org/dc/elements/1.1/\" xmlns:rdf=\"http://www.w3.org/1999/02/22-rdf-syntax-ns#\">\n   <cc:Work>\n    <dc:type rdf:resource=\"http://purl.org/dc/dcmitype/StillImage\"/>\n    <dc:date>2022-03-18T18:00:18.450161</dc:date>\n    <dc:format>image/svg+xml</dc:format>\n    <dc:creator>\n     <cc:Agent>\n      <dc:title>Matplotlib v3.4.3, https://matplotlib.org/</dc:title>\n     </cc:Agent>\n    </dc:creator>\n   </cc:Work>\n  </rdf:RDF>\n </metadata>\n <defs>\n  <style type=\"text/css\">*{stroke-linecap:butt;stroke-linejoin:round;}</style>\n </defs>\n <g id=\"figure_1\">\n  <g id=\"patch_1\">\n   <path d=\"M 0 99.824084 \nL 191.176268 99.824084 \nL 191.176268 0 \nL 0 0 \nz\n\" style=\"fill:none;\"/>\n  </g>\n  <g id=\"axes_1\">\n   <g clip-path=\"url(#p8f371b5f9a)\">\n    <image height=\"50\" id=\"image80048b782d\" transform=\"scale(1 -1)translate(0 -50)\" width=\"50\" x=\"16.435478\" xlink:href=\"data:image/png;base64,\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\" y=\"-21.553419\"/>\n   </g>\n   <g id=\"text_1\">\n    <!-- automobile -->\n    <g transform=\"translate(7.2 16.318125)scale(0.12 -0.12)\">\n     <defs>\n      <path d=\"M 2194 1759 \nQ 1497 1759 1228 1600 \nQ 959 1441 959 1056 \nQ 959 750 1161 570 \nQ 1363 391 1709 391 \nQ 2188 391 2477 730 \nQ 2766 1069 2766 1631 \nL 2766 1759 \nL 2194 1759 \nz\nM 3341 1997 \nL 3341 0 \nL 2766 0 \nL 2766 531 \nQ 2569 213 2275 61 \nQ 1981 -91 1556 -91 \nQ 1019 -91 701 211 \nQ 384 513 384 1019 \nQ 384 1609 779 1909 \nQ 1175 2209 1959 2209 \nL 2766 2209 \nL 2766 2266 \nQ 2766 2663 2505 2880 \nQ 2244 3097 1772 3097 \nQ 1472 3097 1187 3025 \nQ 903 2953 641 2809 \nL 641 3341 \nQ 956 3463 1253 3523 \nQ 1550 3584 1831 3584 \nQ 2591 3584 2966 3190 \nQ 3341 2797 3341 1997 \nz\n\" id=\"DejaVuSans-61\" transform=\"scale(0.015625)\"/>\n      <path d=\"M 544 1381 \nL 544 3500 \nL 1119 3500 \nL 1119 1403 \nQ 1119 906 1312 657 \nQ 1506 409 1894 409 \nQ 2359 409 2629 706 \nQ 2900 1003 2900 1516 \nL 2900 3500 \nL 3475 3500 \nL 3475 0 \nL 2900 0 \nL 2900 538 \nQ 2691 219 2414 64 \nQ 2138 -91 1772 -91 \nQ 1169 -91 856 284 \nQ 544 659 544 1381 \nz\nM 1991 3584 \nL 1991 3584 \nz\n\" id=\"DejaVuSans-75\" transform=\"scale(0.015625)\"/>\n      <path d=\"M 1172 4494 \nL 1172 3500 \nL 2356 3500 \nL 2356 3053 \nL 1172 3053 \nL 1172 1153 \nQ 1172 725 1289 603 \nQ 1406 481 1766 481 \nL 2356 481 \nL 2356 0 \nL 1766 0 \nQ 1100 0 847 248 \nQ 594 497 594 1153 \nL 594 3053 \nL 172 3053 \nL 172 3500 \nL 594 3500 \nL 594 4494 \nL 1172 4494 \nz\n\" id=\"DejaVuSans-74\" transform=\"scale(0.015625)\"/>\n      <path d=\"M 1959 3097 \nQ 1497 3097 1228 2736 \nQ 959 2375 959 1747 \nQ 959 1119 1226 758 \nQ 1494 397 1959 397 \nQ 2419 397 2687 759 \nQ 2956 1122 2956 1747 \nQ 2956 2369 2687 2733 \nQ 2419 3097 1959 3097 \nz\nM 1959 3584 \nQ 2709 3584 3137 3096 \nQ 3566 2609 3566 1747 \nQ 3566 888 3137 398 \nQ 2709 -91 1959 -91 \nQ 1206 -91 779 398 \nQ 353 888 353 1747 \nQ 353 2609 779 3096 \nQ 1206 3584 1959 3584 \nz\n\" id=\"DejaVuSans-6f\" transform=\"scale(0.015625)\"/>\n      <path d=\"M 3328 2828 \nQ 3544 3216 3844 3400 \nQ 4144 3584 4550 3584 \nQ 5097 3584 5394 3201 \nQ 5691 2819 5691 2113 \nL 5691 0 \nL 5113 0 \nL 5113 2094 \nQ 5113 2597 4934 2840 \nQ 4756 3084 4391 3084 \nQ 3944 3084 3684 2787 \nQ 3425 2491 3425 1978 \nL 3425 0 \nL 2847 0 \nL 2847 2094 \nQ 2847 2600 2669 2842 \nQ 2491 3084 2119 3084 \nQ 1678 3084 1418 2786 \nQ 1159 2488 1159 1978 \nL 1159 0 \nL 581 0 \nL 581 3500 \nL 1159 3500 \nL 1159 2956 \nQ 1356 3278 1631 3431 \nQ 1906 3584 2284 3584 \nQ 2666 3584 2933 3390 \nQ 3200 3197 3328 2828 \nz\n\" id=\"DejaVuSans-6d\" transform=\"scale(0.015625)\"/>\n      <path d=\"M 3116 1747 \nQ 3116 2381 2855 2742 \nQ 2594 3103 2138 3103 \nQ 1681 3103 1420 2742 \nQ 1159 2381 1159 1747 \nQ 1159 1113 1420 752 \nQ 1681 391 2138 391 \nQ 2594 391 2855 752 \nQ 3116 1113 3116 1747 \nz\nM 1159 2969 \nQ 1341 3281 1617 3432 \nQ 1894 3584 2278 3584 \nQ 2916 3584 3314 3078 \nQ 3713 2572 3713 1747 \nQ 3713 922 3314 415 \nQ 2916 -91 2278 -91 \nQ 1894 -91 1617 61 \nQ 1341 213 1159 525 \nL 1159 0 \nL 581 0 \nL 581 4863 \nL 1159 4863 \nL 1159 2969 \nz\n\" id=\"DejaVuSans-62\" transform=\"scale(0.015625)\"/>\n      <path d=\"M 603 3500 \nL 1178 3500 \nL 1178 0 \nL 603 0 \nL 603 3500 \nz\nM 603 4863 \nL 1178 4863 \nL 1178 4134 \nL 603 4134 \nL 603 4863 \nz\n\" id=\"DejaVuSans-69\" transform=\"scale(0.015625)\"/>\n      <path d=\"M 603 4863 \nL 1178 4863 \nL 1178 0 \nL 603 0 \nL 603 4863 \nz\n\" id=\"DejaVuSans-6c\" transform=\"scale(0.015625)\"/>\n      <path d=\"M 3597 1894 \nL 3597 1613 \nL 953 1613 \nQ 991 1019 1311 708 \nQ 1631 397 2203 397 \nQ 2534 397 2845 478 \nQ 3156 559 3463 722 \nL 3463 178 \nQ 3153 47 2828 -22 \nQ 2503 -91 2169 -91 \nQ 1331 -91 842 396 \nQ 353 884 353 1716 \nQ 353 2575 817 3079 \nQ 1281 3584 2069 3584 \nQ 2775 3584 3186 3129 \nQ 3597 2675 3597 1894 \nz\nM 3022 2063 \nQ 3016 2534 2758 2815 \nQ 2500 3097 2075 3097 \nQ 1594 3097 1305 2825 \nQ 1016 2553 972 2059 \nL 3022 2063 \nz\n\" id=\"DejaVuSans-65\" transform=\"scale(0.015625)\"/>\n     </defs>\n     <use xlink:href=\"#DejaVuSans-61\"/>\n     <use x=\"61.279297\" xlink:href=\"#DejaVuSans-75\"/>\n     <use x=\"124.658203\" xlink:href=\"#DejaVuSans-74\"/>\n     <use x=\"163.867188\" xlink:href=\"#DejaVuSans-6f\"/>\n     <use x=\"225.048828\" xlink:href=\"#DejaVuSans-6d\"/>\n     <use x=\"322.460938\" xlink:href=\"#DejaVuSans-6f\"/>\n     <use x=\"383.642578\" xlink:href=\"#DejaVuSans-62\"/>\n     <use x=\"447.119141\" xlink:href=\"#DejaVuSans-69\"/>\n     <use x=\"474.902344\" xlink:href=\"#DejaVuSans-6c\"/>\n     <use x=\"502.685547\" xlink:href=\"#DejaVuSans-65\"/>\n    </g>\n   </g>\n  </g>\n  <g id=\"axes_2\">\n   <g clip-path=\"url(#p4204d077a3)\">\n    <image height=\"50\" id=\"image12a5b1512e\" transform=\"scale(1 -1)translate(0 -50)\" width=\"50\" x=\"75.517831\" xlink:href=\"data:image/png;base64,\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\" y=\"-21.553419\"/>\n   </g>\n   <g id=\"text_2\">\n    <!-- sk-HOG -->\n    <g transform=\"translate(77.486415 16.318125)scale(0.12 -0.12)\">\n     <defs>\n      <path d=\"M 2834 3397 \nL 2834 2853 \nQ 2591 2978 2328 3040 \nQ 2066 3103 1784 3103 \nQ 1356 3103 1142 2972 \nQ 928 2841 928 2578 \nQ 928 2378 1081 2264 \nQ 1234 2150 1697 2047 \nL 1894 2003 \nQ 2506 1872 2764 1633 \nQ 3022 1394 3022 966 \nQ 3022 478 2636 193 \nQ 2250 -91 1575 -91 \nQ 1294 -91 989 -36 \nQ 684 19 347 128 \nL 347 722 \nQ 666 556 975 473 \nQ 1284 391 1588 391 \nQ 1994 391 2212 530 \nQ 2431 669 2431 922 \nQ 2431 1156 2273 1281 \nQ 2116 1406 1581 1522 \nL 1381 1569 \nQ 847 1681 609 1914 \nQ 372 2147 372 2553 \nQ 372 3047 722 3315 \nQ 1072 3584 1716 3584 \nQ 2034 3584 2315 3537 \nQ 2597 3491 2834 3397 \nz\n\" id=\"DejaVuSans-73\" transform=\"scale(0.015625)\"/>\n      <path d=\"M 581 4863 \nL 1159 4863 \nL 1159 1991 \nL 2875 3500 \nL 3609 3500 \nL 1753 1863 \nL 3688 0 \nL 2938 0 \nL 1159 1709 \nL 1159 0 \nL 581 0 \nL 581 4863 \nz\n\" id=\"DejaVuSans-6b\" transform=\"scale(0.015625)\"/>\n      <path d=\"M 313 2009 \nL 1997 2009 \nL 1997 1497 \nL 313 1497 \nL 313 2009 \nz\n\" id=\"DejaVuSans-2d\" transform=\"scale(0.015625)\"/>\n      <path d=\"M 628 4666 \nL 1259 4666 \nL 1259 2753 \nL 3553 2753 \nL 3553 4666 \nL 4184 4666 \nL 4184 0 \nL 3553 0 \nL 3553 2222 \nL 1259 2222 \nL 1259 0 \nL 628 0 \nL 628 4666 \nz\n\" id=\"DejaVuSans-48\" transform=\"scale(0.015625)\"/>\n      <path d=\"M 2522 4238 \nQ 1834 4238 1429 3725 \nQ 1025 3213 1025 2328 \nQ 1025 1447 1429 934 \nQ 1834 422 2522 422 \nQ 3209 422 3611 934 \nQ 4013 1447 4013 2328 \nQ 4013 3213 3611 3725 \nQ 3209 4238 2522 4238 \nz\nM 2522 4750 \nQ 3503 4750 4090 4092 \nQ 4678 3434 4678 2328 \nQ 4678 1225 4090 567 \nQ 3503 -91 2522 -91 \nQ 1538 -91 948 565 \nQ 359 1222 359 2328 \nQ 359 3434 948 4092 \nQ 1538 4750 2522 4750 \nz\n\" id=\"DejaVuSans-4f\" transform=\"scale(0.015625)\"/>\n      <path d=\"M 3809 666 \nL 3809 1919 \nL 2778 1919 \nL 2778 2438 \nL 4434 2438 \nL 4434 434 \nQ 4069 175 3628 42 \nQ 3188 -91 2688 -91 \nQ 1594 -91 976 548 \nQ 359 1188 359 2328 \nQ 359 3472 976 4111 \nQ 1594 4750 2688 4750 \nQ 3144 4750 3555 4637 \nQ 3966 4525 4313 4306 \nL 4313 3634 \nQ 3963 3931 3569 4081 \nQ 3175 4231 2741 4231 \nQ 1884 4231 1454 3753 \nQ 1025 3275 1025 2328 \nQ 1025 1384 1454 906 \nQ 1884 428 2741 428 \nQ 3075 428 3337 486 \nQ 3600 544 3809 666 \nz\n\" id=\"DejaVuSans-47\" transform=\"scale(0.015625)\"/>\n     </defs>\n     <use xlink:href=\"#DejaVuSans-73\"/>\n     <use x=\"52.099609\" xlink:href=\"#DejaVuSans-6b\"/>\n     <use x=\"110.009766\" xlink:href=\"#DejaVuSans-2d\"/>\n     <use x=\"146.09375\" xlink:href=\"#DejaVuSans-48\"/>\n     <use x=\"221.289062\" xlink:href=\"#DejaVuSans-4f\"/>\n     <use x=\"300\" xlink:href=\"#DejaVuSans-47\"/>\n    </g>\n   </g>\n  </g>\n  <g id=\"axes_3\">\n   <g id=\"patch_2\">\n    <path d=\"M 134.600184 75.945959 \nL 183.835478 75.945959 \nL 183.835478 22.318125 \nL 134.600184 22.318125 \nz\n\" style=\"fill:#ffffff;\"/>\n   </g>\n   <g clip-path=\"url(#p92902c88b3)\">\n    <image height=\"50\" id=\"imagefe3b63b8d8\" transform=\"scale(1 -1)translate(0 -50)\" width=\"50\" x=\"134.600184\" xlink:href=\"data:image/png;base64,\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\" y=\"-21.553419\"/>\n   </g>\n   <g id=\"Quiver_1\">\n    <path clip-path=\"url(#p92902c88b3)\" d=\"M 141.523897 29.131694 \nL 141.4173 29.193238 \nL 141.4173 29.316326 \nL 141.523897 29.377871 \nL 141.630495 29.316326 \nL 141.630495 29.193238 \nL 141.523897 29.131694 \nL 141.4173 29.193238 \n\" style=\"fill:#ff0000;\"/>\n    <path clip-path=\"url(#p92902c88b3)\" d=\"M 153.832721 29.122329 \nL 153.726123 29.183873 \nL 153.726123 29.306961 \nL 153.832721 29.368505 \nL 153.939318 29.306961 \nL 153.939318 29.183873 \nL 153.832721 29.122329 \nL 153.726123 29.183873 \n\" style=\"fill:#ff0000;\"/>\n    <path clip-path=\"url(#p92902c88b3)\" d=\"M 166.141544 29.127805 \nL 166.034947 29.189349 \nL 166.034947 29.312437 \nL 166.141544 29.373982 \nL 166.248142 29.312437 \nL 166.248142 29.189349 \nL 166.141544 29.127805 \nL 166.034947 29.189349 \n\" style=\"fill:#ff0000;\"/>\n    <path clip-path=\"url(#p92902c88b3)\" d=\"M 178.327279 29.543356 \nL 178.327279 28.940321 \nL 178.081103 28.940321 \nL 178.450368 28.940321 \nL 178.819632 28.940321 \nL 178.573456 28.940321 \nL 178.573456 29.543356 \nL 178.327279 29.543356 \n\" style=\"fill:#ff0000;\"/>\n    <path clip-path=\"url(#p92902c88b3)\" d=\"M 141.523897 41.475429 \nL 141.4173 41.536973 \nL 141.4173 41.660062 \nL 141.523897 41.721606 \nL 141.630495 41.660062 \nL 141.630495 41.536973 \nL 141.523897 41.475429 \nL 141.4173 41.536973 \n\" style=\"fill:#ff0000;\"/>\n    <path clip-path=\"url(#p92902c88b3)\" d=\"M 153.832721 41.441728 \nL 153.726123 41.503272 \nL 153.726123 41.62636 \nL 153.832721 41.687904 \nL 153.939318 41.62636 \nL 153.939318 41.503272 \nL 153.832721 41.441728 \nL 153.726123 41.503272 \n\" style=\"fill:#ff0000;\"/>\n    <path clip-path=\"url(#p92902c88b3)\" d=\"M 166.141544 41.447381 \nL 166.034947 41.508925 \nL 166.034947 41.632013 \nL 166.141544 41.693557 \nL 166.248142 41.632013 \nL 166.248142 41.508925 \nL 166.141544 41.447381 \nL 166.034947 41.508925 \n\" style=\"fill:#ff0000;\"/>\n    <path clip-path=\"url(#p92902c88b3)\" d=\"M 178.327279 46.298211 \nL 178.327279 36.803112 \nL 178.081103 36.803112 \nL 178.450368 36.803112 \nL 178.819632 36.803112 \nL 178.573456 36.803112 \nL 178.573456 46.298211 \nL 178.327279 46.298211 \n\" style=\"fill:#ff0000;\"/>\n    <path clip-path=\"url(#p92902c88b3)\" d=\"M 141.400809 57.309208 \nL 141.400809 50.409762 \nL 141.154632 50.409762 \nL 141.523897 50.409762 \nL 141.893162 50.409762 \nL 141.646985 50.409762 \nL 141.646985 57.309208 \nL 141.400809 57.309208 \n\" style=\"fill:#ff0000;\"/>\n    <path clip-path=\"url(#p92902c88b3)\" d=\"M 153.955809 53.859485 \nL 153.894265 53.752888 \nL 153.771176 53.752888 \nL 153.709632 53.859485 \nL 153.771176 53.966083 \nL 153.894265 53.966083 \nL 153.955809 53.859485 \nL 153.894265 53.752888 \n\" style=\"fill:#ff0000;\"/>\n    <path clip-path=\"url(#p92902c88b3)\" d=\"M 166.018456 58.882457 \nL 166.018456 48.836514 \nL 165.772279 48.836514 \nL 166.141544 48.836514 \nL 166.510809 48.836514 \nL 166.264632 48.836514 \nL 166.264632 58.882457 \nL 166.018456 58.882457 \n\" style=\"fill:#ff0000;\"/>\n    <path clip-path=\"url(#p92902c88b3)\" d=\"M 178.327279 54.918529 \nL 178.327279 52.800442 \nL 178.081103 52.800442 \nL 178.450368 52.800442 \nL 178.819632 52.800442 \nL 178.573456 52.800442 \nL 178.573456 54.918529 \nL 178.327279 54.918529 \n\" style=\"fill:#ff0000;\"/>\n    <path clip-path=\"url(#p92902c88b3)\" d=\"M 141.400809 73.392253 \nL 141.400809 58.944365 \nL 141.154632 58.944365 \nL 141.523897 58.944365 \nL 141.893162 58.944365 \nL 141.646985 58.944365 \nL 141.646985 73.392253 \nL 141.400809 73.392253 \n\" style=\"fill:#ff0000;\"/>\n    <path clip-path=\"url(#p92902c88b3)\" d=\"M 153.709632 66.336499 \nL 153.709632 66.000119 \nL 153.463456 66.000119 \nL 153.832721 66.000119 \nL 154.201985 66.000119 \nL 153.955809 66.000119 \nL 153.955809 66.336499 \nL 153.709632 66.336499 \n\" style=\"fill:#ff0000;\"/>\n    <path clip-path=\"url(#p92902c88b3)\" d=\"M 166.018456 66.978004 \nL 166.018456 65.358614 \nL 165.772279 65.358614 \nL 166.141544 65.358614 \nL 166.510809 65.358614 \nL 166.264632 65.358614 \nL 166.264632 66.978004 \nL 166.018456 66.978004 \n\" style=\"fill:#ff0000;\"/>\n    <path clip-path=\"url(#p92902c88b3)\" d=\"M 178.327279 70.176147 \nL 178.327279 62.16047 \nL 178.081103 62.16047 \nL 178.450368 62.16047 \nL 178.819632 62.16047 \nL 178.573456 62.16047 \nL 178.573456 70.176147 \nL 178.327279 70.176147 \n\" style=\"fill:#ff0000;\"/>\n   </g>\n   <g id=\"Quiver_2\">\n    <path clip-path=\"url(#p92902c88b3)\" d=\"M 141.646985 29.241838 \nL 141.585441 29.135241 \nL 141.462353 29.135241 \nL 141.400809 29.241838 \nL 141.462353 29.348436 \nL 141.585441 29.348436 \nL 141.646985 29.241838 \nL 141.585441 29.135241 \n\" style=\"fill:#ff0000;\"/>\n    <path clip-path=\"url(#p92902c88b3)\" d=\"M 153.648208 29.388896 \nL 153.785903 29.010584 \nL 153.554572 28.926386 \nL 153.901568 29.052682 \nL 154.248563 29.178978 \nL 154.017233 29.094781 \nL 153.879539 29.473093 \nL 153.648208 29.388896 \n\" style=\"fill:#ff0000;\"/>\n    <path clip-path=\"url(#p92902c88b3)\" d=\"M 166.181387 29.132372 \nL 166.060168 29.153746 \nL 166.01807 29.269411 \nL 166.097189 29.363702 \nL 166.218408 29.342328 \nL 166.260506 29.226663 \nL 166.181387 29.132372 \nL 166.060168 29.153746 \n\" style=\"fill:#ff0000;\"/>\n    <path clip-path=\"url(#p92902c88b3)\" d=\"M 178.464986 29.201673 \nL 178.343768 29.223048 \nL 178.30167 29.338713 \nL 178.380789 29.433004 \nL 178.502007 29.41163 \nL 178.544106 29.295965 \nL 178.464986 29.201673 \nL 178.343768 29.223048 \n\" style=\"fill:#ff0000;\"/>\n    <path clip-path=\"url(#p92902c88b3)\" d=\"M 141.336519 41.705592 \nL 141.479945 41.311534 \nL 141.248615 41.227337 \nL 141.59561 41.353633 \nL 141.942605 41.479929 \nL 141.711275 41.395731 \nL 141.567849 41.78979 \nL 141.336519 41.705592 \n\" style=\"fill:#ff0000;\"/>\n    <path clip-path=\"url(#p92902c88b3)\" d=\"M 153.630204 41.747185 \nL 153.803907 41.269942 \nL 153.572576 41.185744 \nL 153.919572 41.31204 \nL 154.266567 41.438336 \nL 154.035237 41.354139 \nL 153.861535 41.831382 \nL 153.630204 41.747185 \n\" style=\"fill:#ff0000;\"/>\n    <path clip-path=\"url(#p92902c88b3)\" d=\"M 166.177452 41.452006 \nL 166.056233 41.47338 \nL 166.014135 41.589046 \nL 166.093254 41.683337 \nL 166.214473 41.661963 \nL 166.256571 41.546297 \nL 166.177452 41.452006 \nL 166.056233 41.47338 \n\" style=\"fill:#ff0000;\"/>\n    <path clip-path=\"url(#p92902c88b3)\" d=\"M 178.458735 41.527672 \nL 178.337517 41.549046 \nL 178.295419 41.664711 \nL 178.374538 41.759002 \nL 178.495756 41.737628 \nL 178.537855 41.621963 \nL 178.458735 41.527672 \nL 178.337517 41.549046 \n\" style=\"fill:#ff0000;\"/>\n    <path clip-path=\"url(#p92902c88b3)\" d=\"M 140.491969 56.334797 \nL 142.324494 51.299976 \nL 142.093164 51.215779 \nL 142.44016 51.342075 \nL 142.787155 51.468371 \nL 142.555825 51.384173 \nL 140.7233 56.418994 \nL 140.491969 56.334797 \n\" style=\"fill:#ff0000;\"/>\n    <path clip-path=\"url(#p92902c88b3)\" d=\"M 153.618846 54.087215 \nL 153.815265 53.547558 \nL 153.583935 53.463361 \nL 153.93093 53.589657 \nL 154.277925 53.715953 \nL 154.046595 53.631756 \nL 153.850176 54.171412 \nL 153.618846 54.087215 \n\" style=\"fill:#ff0000;\"/>\n    <path clip-path=\"url(#p92902c88b3)\" d=\"M 166.183556 53.74406 \nL 166.062337 53.765434 \nL 166.020239 53.881099 \nL 166.099358 53.97539 \nL 166.220577 53.954016 \nL 166.262675 53.838351 \nL 166.183556 53.74406 \nL 166.062337 53.765434 \n\" style=\"fill:#ff0000;\"/>\n    <path clip-path=\"url(#p92902c88b3)\" d=\"M 177.237142 56.83291 \nL 179.432263 50.801863 \nL 179.200933 50.717666 \nL 179.547928 50.843962 \nL 179.894924 50.970258 \nL 179.663594 50.88606 \nL 177.468472 56.917108 \nL 177.237142 56.83291 \n\" style=\"fill:#ff0000;\"/>\n    <path clip-path=\"url(#p92902c88b3)\" d=\"M 141.563731 66.058866 \nL 141.442513 66.08024 \nL 141.400414 66.195905 \nL 141.479534 66.290197 \nL 141.600752 66.268822 \nL 141.64285 66.153157 \nL 141.563731 66.058866 \nL 141.442513 66.08024 \n\" style=\"fill:#ff0000;\"/>\n    <path clip-path=\"url(#p92902c88b3)\" d=\"M 153.526066 66.650949 \nL 153.908045 65.601472 \nL 153.676714 65.517274 \nL 154.02371 65.64357 \nL 154.370705 65.769866 \nL 154.139375 65.685669 \nL 153.757396 66.735146 \nL 153.526066 66.650949 \n\" style=\"fill:#ff0000;\"/>\n    <path clip-path=\"url(#p92902c88b3)\" d=\"M 166.178817 66.065902 \nL 166.057599 66.087276 \nL 166.0155 66.202941 \nL 166.09462 66.297232 \nL 166.215838 66.275858 \nL 166.257937 66.160193 \nL 166.178817 66.065902 \nL 166.057599 66.087276 \n\" style=\"fill:#ff0000;\"/>\n    <path clip-path=\"url(#p92902c88b3)\" d=\"M 178.120908 66.713607 \nL 178.548497 65.538813 \nL 178.317167 65.454616 \nL 178.664163 65.580912 \nL 179.011158 65.707208 \nL 178.779828 65.623011 \nL 178.352238 66.797804 \nL 178.120908 66.713607 \n\" style=\"fill:#ff0000;\"/>\n   </g>\n   <g id=\"Quiver_3\">\n    <path clip-path=\"url(#p92902c88b3)\" d=\"M 141.294048 29.324271 \nL 141.565164 29.001167 \nL 141.376582 28.842927 \nL 141.659455 29.080286 \nL 141.942329 29.317645 \nL 141.753746 29.159406 \nL 141.48263 29.48251 \nL 141.294048 29.324271 \n\" style=\"fill:#ff0000;\"/>\n    <path clip-path=\"url(#p92902c88b3)\" d=\"M 153.903042 29.158032 \nL 153.781824 29.136658 \nL 153.702705 29.230949 \nL 153.744803 29.346614 \nL 153.866021 29.367988 \nL 153.945141 29.273697 \nL 153.903042 29.158032 \nL 153.781824 29.136658 \n\" style=\"fill:#ff0000;\"/>\n    <path clip-path=\"url(#p92902c88b3)\" d=\"M 166.219589 29.148828 \nL 166.098371 29.127454 \nL 166.019251 29.221745 \nL 166.06135 29.33741 \nL 166.182568 29.358784 \nL 166.261688 29.264493 \nL 166.219589 29.148828 \nL 166.098371 29.127454 \n\" style=\"fill:#ff0000;\"/>\n    <path clip-path=\"url(#p92902c88b3)\" d=\"M 178.573456 29.241838 \nL 178.511912 29.135241 \nL 178.388824 29.135241 \nL 178.327279 29.241838 \nL 178.388824 29.348436 \nL 178.511912 29.348436 \nL 178.573456 29.241838 \nL 178.511912 29.135241 \n\" style=\"fill:#ff0000;\"/>\n    <path clip-path=\"url(#p92902c88b3)\" d=\"M 140.512407 42.564618 \nL 142.346805 40.378467 \nL 142.158223 40.220228 \nL 142.441096 40.457586 \nL 142.723969 40.694945 \nL 142.535387 40.536706 \nL 140.700989 42.722857 \nL 140.512407 42.564618 \n\" style=\"fill:#ff0000;\"/>\n    <path clip-path=\"url(#p92902c88b3)\" d=\"M 153.547489 41.699097 \nL 153.92937 41.243988 \nL 153.740788 41.085749 \nL 154.023661 41.323107 \nL 154.306535 41.560466 \nL 154.117952 41.402227 \nL 153.736071 41.857336 \nL 153.547489 41.699097 \n\" style=\"fill:#ff0000;\"/>\n    <path clip-path=\"url(#p92902c88b3)\" d=\"M 166.181044 41.503587 \nL 166.059826 41.482213 \nL 165.980706 41.576504 \nL 166.022805 41.692169 \nL 166.144023 41.713543 \nL 166.223143 41.619252 \nL 166.181044 41.503587 \nL 166.059826 41.482213 \n\" style=\"fill:#ff0000;\"/>\n    <path clip-path=\"url(#p92902c88b3)\" d=\"M 178.503198 41.4877 \nL 178.38198 41.466326 \nL 178.302861 41.560617 \nL 178.344959 41.676283 \nL 178.466178 41.697657 \nL 178.545297 41.603366 \nL 178.503198 41.4877 \nL 178.38198 41.466326 \n\" style=\"fill:#ff0000;\"/>\n    <path clip-path=\"url(#p92902c88b3)\" d=\"M 141.536997 53.843873 \nL 141.415779 53.822499 \nL 141.33666 53.91679 \nL 141.378758 54.032455 \nL 141.499976 54.053829 \nL 141.579096 53.959538 \nL 141.536997 53.843873 \nL 141.415779 53.822499 \n\" style=\"fill:#ff0000;\"/>\n    <path clip-path=\"url(#p92902c88b3)\" d=\"M 152.091218 55.743436 \nL 155.385641 51.817295 \nL 155.197059 51.659056 \nL 155.479932 51.896415 \nL 155.762806 52.133773 \nL 155.574224 51.975534 \nL 152.2798 55.901676 \nL 152.091218 55.743436 \n\" style=\"fill:#ff0000;\"/>\n    <path clip-path=\"url(#p92902c88b3)\" d=\"M 166.220133 53.765826 \nL 166.098915 53.744452 \nL 166.019796 53.838743 \nL 166.061894 53.954408 \nL 166.183112 53.975782 \nL 166.262232 53.881491 \nL 166.220133 53.765826 \nL 166.098915 53.744452 \n\" style=\"fill:#ff0000;\"/>\n    <path clip-path=\"url(#p92902c88b3)\" d=\"M 177.164988 55.19985 \nL 179.547165 52.360881 \nL 179.358583 52.202642 \nL 179.641456 52.440001 \nL 179.92433 52.67736 \nL 179.735747 52.519121 \nL 177.35357 55.358089 \nL 177.164988 55.19985 \n\" style=\"fill:#ff0000;\"/>\n    <path clip-path=\"url(#p92902c88b3)\" d=\"M 141.578806 66.102871 \nL 141.457588 66.081497 \nL 141.378468 66.175788 \nL 141.420567 66.291453 \nL 141.541785 66.312827 \nL 141.620905 66.218536 \nL 141.578806 66.102871 \nL 141.457588 66.081497 \n\" style=\"fill:#ff0000;\"/>\n    <path clip-path=\"url(#p92902c88b3)\" d=\"M 153.609261 66.243126 \nL 153.867598 65.935252 \nL 153.679016 65.777013 \nL 153.961889 66.014372 \nL 154.244762 66.251731 \nL 154.05618 66.093491 \nL 153.797843 66.401365 \nL 153.609261 66.243126 \n\" style=\"fill:#ff0000;\"/>\n    <path clip-path=\"url(#p92902c88b3)\" d=\"M 166.219318 66.075622 \nL 166.098099 66.054248 \nL 166.01898 66.148539 \nL 166.061078 66.264204 \nL 166.182297 66.285578 \nL 166.261416 66.191287 \nL 166.219318 66.075622 \nL 166.098099 66.054248 \n\" style=\"fill:#ff0000;\"/>\n    <path clip-path=\"url(#p92902c88b3)\" d=\"M 178.159589 66.323354 \nL 178.552564 65.855024 \nL 178.363982 65.696785 \nL 178.646855 65.934144 \nL 178.929729 66.171503 \nL 178.741146 66.013263 \nL 178.348171 66.481593 \nL 178.159589 66.323354 \n\" style=\"fill:#ff0000;\"/>\n   </g>\n   <g id=\"Quiver_4\">\n    <path clip-path=\"url(#p92902c88b3)\" d=\"M 141.225879 29.271769 \nL 141.698826 28.998713 \nL 141.575738 28.785518 \nL 141.760371 29.10531 \nL 141.945003 29.425103 \nL 141.821915 29.211908 \nL 141.348968 29.484964 \nL 141.225879 29.271769 \n\" style=\"fill:#ff0000;\"/>\n    <path clip-path=\"url(#p92902c88b3)\" d=\"M 153.133667 29.503307 \nL 154.408686 28.767174 \nL 154.285598 28.553979 \nL 154.47023 28.873772 \nL 154.654862 29.193565 \nL 154.531774 28.98037 \nL 153.256755 29.716502 \nL 153.133667 29.503307 \n\" style=\"fill:#ff0000;\"/>\n    <path clip-path=\"url(#p92902c88b3)\" d=\"M 166.208232 29.203336 \nL 166.101635 29.141792 \nL 165.995037 29.203336 \nL 165.995037 29.326424 \nL 166.101635 29.387968 \nL 166.208232 29.326424 \nL 166.208232 29.203336 \nL 166.101635 29.141792 \n\" style=\"fill:#ff0000;\"/>\n    <path clip-path=\"url(#p92902c88b3)\" d=\"M 177.835409 29.454755 \nL 178.942238 28.815726 \nL 178.81915 28.602531 \nL 179.003782 28.922324 \nL 179.188415 29.242117 \nL 179.065327 29.028922 \nL 177.958497 29.66795 \nL 177.835409 29.454755 \n\" style=\"fill:#ff0000;\"/>\n    <path clip-path=\"url(#p92902c88b3)\" d=\"M 141.169567 41.613105 \nL 141.755139 41.275024 \nL 141.632051 41.061829 \nL 141.816683 41.381621 \nL 142.001316 41.701414 \nL 141.878228 41.488219 \nL 141.292655 41.8263 \nL 141.169567 41.613105 \n\" style=\"fill:#ff0000;\"/>\n    <path clip-path=\"url(#p92902c88b3)\" d=\"M 153.594955 41.545806 \nL 153.947398 41.342322 \nL 153.82431 41.129127 \nL 154.008942 41.44892 \nL 154.193575 41.768713 \nL 154.070487 41.555518 \nL 153.718043 41.759001 \nL 153.594955 41.545806 \n\" style=\"fill:#ff0000;\"/>\n    <path clip-path=\"url(#p92902c88b3)\" d=\"M 165.632593 41.702375 \nL 166.527407 41.185754 \nL 166.404318 40.972559 \nL 166.588951 41.292351 \nL 166.773583 41.612144 \nL 166.650495 41.398949 \nL 165.755682 41.91557 \nL 165.632593 41.702375 \n\" style=\"fill:#ff0000;\"/>\n    <path clip-path=\"url(#p92902c88b3)\" d=\"M 178.474332 41.536826 \nL 178.367734 41.475282 \nL 178.261136 41.536826 \nL 178.261136 41.659914 \nL 178.367734 41.721459 \nL 178.474332 41.659914 \nL 178.474332 41.536826 \nL 178.367734 41.475282 \n\" style=\"fill:#ff0000;\"/>\n    <path clip-path=\"url(#p92902c88b3)\" d=\"M 140.801082 54.134673 \nL 142.123624 53.371103 \nL 142.000536 53.157908 \nL 142.185168 53.4777 \nL 142.3698 53.797493 \nL 142.246712 53.584298 \nL 140.92417 54.347868 \nL 140.801082 54.134673 \n\" style=\"fill:#ff0000;\"/>\n    <path clip-path=\"url(#p92902c88b3)\" d=\"M 153.404271 53.964721 \nL 154.138082 53.541055 \nL 154.014993 53.32786 \nL 154.199626 53.647653 \nL 154.384258 53.967445 \nL 154.26117 53.75425 \nL 153.52736 54.177916 \nL 153.404271 53.964721 \n\" style=\"fill:#ff0000;\"/>\n    <path clip-path=\"url(#p92902c88b3)\" d=\"M 166.264632 53.859485 \nL 166.203088 53.752888 \nL 166.08 53.752888 \nL 166.018456 53.859485 \nL 166.08 53.966083 \nL 166.203088 53.966083 \nL 166.264632 53.859485 \nL 166.203088 53.752888 \n\" style=\"fill:#ff0000;\"/>\n    <path clip-path=\"url(#p92902c88b3)\" d=\"M 177.925532 54.020369 \nL 178.852115 53.485406 \nL 178.729027 53.272211 \nL 178.91366 53.592004 \nL 179.098292 53.911796 \nL 178.975204 53.698601 \nL 178.04862 54.233565 \nL 177.925532 54.020369 \n\" style=\"fill:#ff0000;\"/>\n    <path clip-path=\"url(#p92902c88b3)\" d=\"M 141.318727 66.144634 \nL 141.605979 65.978789 \nL 141.482891 65.765594 \nL 141.667523 66.085386 \nL 141.852155 66.405179 \nL 141.729067 66.191984 \nL 141.441815 66.357829 \nL 141.318727 66.144634 \n\" style=\"fill:#ff0000;\"/>\n    <path clip-path=\"url(#p92902c88b3)\" d=\"M 153.84951 66.158616 \nL 153.742912 66.097071 \nL 153.636315 66.158616 \nL 153.636315 66.281704 \nL 153.742912 66.343248 \nL 153.84951 66.281704 \nL 153.84951 66.158616 \nL 153.742912 66.097071 \n\" style=\"fill:#ff0000;\"/>\n    <path clip-path=\"url(#p92902c88b3)\" d=\"M 165.816209 66.214011 \nL 166.343791 65.909412 \nL 166.220703 65.696216 \nL 166.405335 66.016009 \nL 166.589967 66.335802 \nL 166.466879 66.122607 \nL 165.939297 66.427206 \nL 165.816209 66.214011 \n\" style=\"fill:#ff0000;\"/>\n    <path clip-path=\"url(#p92902c88b3)\" d=\"M 178.534838 66.11954 \nL 178.428241 66.057996 \nL 178.321643 66.11954 \nL 178.321643 66.242628 \nL 178.428241 66.304172 \nL 178.534838 66.242628 \nL 178.534838 66.11954 \nL 178.428241 66.057996 \n\" style=\"fill:#ff0000;\"/>\n   </g>\n   <g id=\"Quiver_5\">\n    <path clip-path=\"url(#p92902c88b3)\" d=\"M 138.417005 29.66468 \nL 144.588041 28.57656 \nL 144.545292 28.334123 \nL 144.609415 28.697778 \nL 144.673537 29.061433 \nL 144.630789 28.818996 \nL 138.459754 29.907116 \nL 138.417005 29.66468 \n\" style=\"fill:#ff0000;\"/>\n    <path clip-path=\"url(#p92902c88b3)\" d=\"M 150.382164 29.725277 \nL 157.240529 28.515963 \nL 157.197781 28.273526 \nL 157.261903 28.637181 \nL 157.326025 29.000836 \nL 157.283277 28.758399 \nL 150.424912 29.967714 \nL 150.382164 29.725277 \n\" style=\"fill:#ff0000;\"/>\n    <path clip-path=\"url(#p92902c88b3)\" d=\"M 163.757355 29.537248 \nL 168.482985 28.703992 \nL 168.440237 28.461555 \nL 168.504359 28.82521 \nL 168.568481 29.188865 \nL 168.525733 28.946428 \nL 163.800103 29.779685 \nL 163.757355 29.537248 \n\" style=\"fill:#ff0000;\"/>\n    <path clip-path=\"url(#p92902c88b3)\" d=\"M 175.939464 29.559591 \nL 180.918524 28.681649 \nL 180.875776 28.439212 \nL 180.939898 28.802867 \nL 181.00402 29.166522 \nL 180.961272 28.924085 \nL 175.982212 29.802028 \nL 175.939464 29.559591 \n\" style=\"fill:#ff0000;\"/>\n    <path clip-path=\"url(#p92902c88b3)\" d=\"M 136.383061 42.332143 \nL 146.621985 40.526744 \nL 146.579236 40.284308 \nL 146.643359 40.647963 \nL 146.707481 41.011617 \nL 146.664733 40.769181 \nL 136.42581 42.574579 \nL 136.383061 42.332143 \n\" style=\"fill:#ff0000;\"/>\n    <path clip-path=\"url(#p92902c88b3)\" d=\"M 148.208739 42.417334 \nL 159.413954 40.441553 \nL 159.371206 40.199116 \nL 159.435328 40.562771 \nL 159.49945 40.926426 \nL 159.456702 40.683989 \nL 148.251487 42.659771 \nL 148.208739 42.417334 \n\" style=\"fill:#ff0000;\"/>\n    <path clip-path=\"url(#p92902c88b3)\" d=\"M 164.989975 41.628727 \nL 167.250365 41.23016 \nL 167.207617 40.987723 \nL 167.271739 41.351378 \nL 167.335861 41.715033 \nL 167.293113 41.472596 \nL 165.032723 41.871164 \nL 164.989975 41.628727 \n\" style=\"fill:#ff0000;\"/>\n    <path clip-path=\"url(#p92902c88b3)\" d=\"M 178.080839 41.490832 \nL 178.777148 41.368055 \nL 178.7344 41.125618 \nL 178.798522 41.489273 \nL 178.862644 41.852928 \nL 178.819896 41.610491 \nL 178.123587 41.733269 \nL 178.080839 41.490832 \n\" style=\"fill:#ff0000;\"/>\n    <path clip-path=\"url(#p92902c88b3)\" d=\"M 141.640669 53.838895 \nL 141.561549 53.744604 \nL 141.440331 53.765978 \nL 141.398232 53.881643 \nL 141.477352 53.975934 \nL 141.59857 53.95456 \nL 141.640669 53.838895 \nL 141.561549 53.744604 \n\" style=\"fill:#ff0000;\"/>\n    <path clip-path=\"url(#p92902c88b3)\" d=\"M 152.685539 53.936777 \nL 154.937154 53.539757 \nL 154.894406 53.29732 \nL 154.958528 53.660975 \nL 155.02265 54.02463 \nL 154.979902 53.782193 \nL 152.728287 54.179214 \nL 152.685539 53.936777 \n\" style=\"fill:#ff0000;\"/>\n    <path clip-path=\"url(#p92902c88b3)\" d=\"M 166.260194 53.838564 \nL 166.181075 53.744273 \nL 166.059856 53.765647 \nL 166.017758 53.881312 \nL 166.096877 53.975603 \nL 166.218096 53.954229 \nL 166.260194 53.838564 \nL 166.181075 53.744273 \n\" style=\"fill:#ff0000;\"/>\n    <path clip-path=\"url(#p92902c88b3)\" d=\"M 178.277502 53.764979 \nL 178.580485 53.711555 \nL 178.537737 53.469119 \nL 178.601859 53.832773 \nL 178.665981 54.196428 \nL 178.623233 53.953992 \nL 178.32025 54.007416 \nL 178.277502 53.764979 \n\" style=\"fill:#ff0000;\"/>\n    <path clip-path=\"url(#p92902c88b3)\" d=\"M 141.596509 66.155505 \nL 141.51739 66.061214 \nL 141.396172 66.082588 \nL 141.354073 66.198253 \nL 141.433193 66.292544 \nL 141.554411 66.27117 \nL 141.596509 66.155505 \nL 141.51739 66.061214 \n\" style=\"fill:#ff0000;\"/>\n    <path clip-path=\"url(#p92902c88b3)\" d=\"M 150.507487 66.62965 \nL 157.115206 65.464531 \nL 157.072458 65.222094 \nL 157.136581 65.585749 \nL 157.200703 65.949404 \nL 157.157955 65.706967 \nL 150.550235 66.872087 \nL 150.507487 66.62965 \n\" style=\"fill:#ff0000;\"/>\n    <path clip-path=\"url(#p92902c88b3)\" d=\"M 165.279514 66.195321 \nL 166.960826 65.89886 \nL 166.918078 65.656424 \nL 166.9822 66.020078 \nL 167.046323 66.383733 \nL 167.003574 66.141297 \nL 165.322262 66.437757 \nL 165.279514 66.195321 \n\" style=\"fill:#ff0000;\"/>\n    <path clip-path=\"url(#p92902c88b3)\" d=\"M 178.544692 66.151677 \nL 178.465573 66.057386 \nL 178.344355 66.07876 \nL 178.302256 66.194425 \nL 178.381376 66.288716 \nL 178.502594 66.267342 \nL 178.544692 66.151677 \nL 178.465573 66.057386 \n\" style=\"fill:#ff0000;\"/>\n   </g>\n   <g id=\"Quiver_6\">\n    <path clip-path=\"url(#p92902c88b3)\" d=\"M 138.157855 28.523327 \nL 144.932687 29.717913 \nL 144.975436 29.475476 \nL 144.911313 29.839131 \nL 144.847191 30.202786 \nL 144.889939 29.960349 \nL 138.115107 28.765764 \nL 138.157855 28.523327 \n\" style=\"fill:#ff0000;\"/>\n    <path clip-path=\"url(#p92902c88b3)\" d=\"M 150.816387 28.58499 \nL 156.891802 29.65625 \nL 156.93455 29.413813 \nL 156.870428 29.777468 \nL 156.806306 30.141123 \nL 156.849054 29.898686 \nL 150.773639 28.827427 \nL 150.816387 28.58499 \n\" style=\"fill:#ff0000;\"/>\n    <path clip-path=\"url(#p92902c88b3)\" d=\"M 161.965334 28.380473 \nL 170.360503 29.860767 \nL 170.403251 29.618331 \nL 170.339128 29.981986 \nL 170.275006 30.34564 \nL 170.317754 30.103204 \nL 161.922586 28.622909 \nL 161.965334 28.380473 \n\" style=\"fill:#ff0000;\"/>\n    <path clip-path=\"url(#p92902c88b3)\" d=\"M 176.470584 28.767762 \nL 180.472899 29.473478 \nL 180.515647 29.231042 \nL 180.451525 29.594696 \nL 180.387403 29.958351 \nL 180.430151 29.715915 \nL 176.427836 29.010198 \nL 176.470584 28.767762 \n\" style=\"fill:#ff0000;\"/>\n    <path clip-path=\"url(#p92902c88b3)\" d=\"M 141.615643 41.566839 \nL 141.573545 41.451174 \nL 141.452326 41.4298 \nL 141.373207 41.524091 \nL 141.415305 41.639756 \nL 141.536524 41.66113 \nL 141.615643 41.566839 \nL 141.573545 41.451174 \n\" style=\"fill:#ff0000;\"/>\n    <path clip-path=\"url(#p92902c88b3)\" d=\"M 152.793013 41.242346 \nL 154.915176 41.616541 \nL 154.957924 41.374104 \nL 154.893802 41.737759 \nL 154.82968 42.101414 \nL 154.872428 41.858977 \nL 152.750265 41.484783 \nL 152.793013 41.242346 \n\" style=\"fill:#ff0000;\"/>\n    <path clip-path=\"url(#p92902c88b3)\" d=\"M 163.959294 41.040885 \nL 168.366542 41.818002 \nL 168.40929 41.575565 \nL 168.345168 41.93922 \nL 168.281046 42.302875 \nL 168.323794 42.060438 \nL 163.916546 41.283322 \nL 163.959294 41.040885 \n\" style=\"fill:#ff0000;\"/>\n    <path clip-path=\"url(#p92902c88b3)\" d=\"M 178.483515 41.556506 \nL 178.441416 41.440841 \nL 178.320198 41.419467 \nL 178.241078 41.513758 \nL 178.283177 41.629423 \nL 178.404395 41.650798 \nL 178.483515 41.556506 \nL 178.441416 41.440841 \n\" style=\"fill:#ff0000;\"/>\n    <path clip-path=\"url(#p92902c88b3)\" d=\"M 141.633968 53.878894 \nL 141.591869 53.763229 \nL 141.470651 53.741855 \nL 141.391532 53.836146 \nL 141.43363 53.951811 \nL 141.554848 53.973185 \nL 141.633968 53.878894 \nL 141.591869 53.763229 \n\" style=\"fill:#ff0000;\"/>\n    <path clip-path=\"url(#p92902c88b3)\" d=\"M 152.412388 53.484055 \nL 155.295801 53.992479 \nL 155.338549 53.750042 \nL 155.274427 54.113697 \nL 155.210305 54.477352 \nL 155.253053 54.234915 \nL 152.36964 53.726492 \nL 152.412388 53.484055 \n\" style=\"fill:#ff0000;\"/>\n    <path clip-path=\"url(#p92902c88b3)\" d=\"M 166.262029 53.88073 \nL 166.219931 53.765065 \nL 166.098712 53.743691 \nL 166.019593 53.837982 \nL 166.061692 53.953647 \nL 166.18291 53.975021 \nL 166.262029 53.88073 \nL 166.219931 53.765065 \n\" style=\"fill:#ff0000;\"/>\n    <path clip-path=\"url(#p92902c88b3)\" d=\"M 178.060494 53.665753 \nL 178.88299 53.810781 \nL 178.925738 53.568345 \nL 178.861616 53.931999 \nL 178.797493 54.295654 \nL 178.840242 54.053218 \nL 178.017746 53.908189 \nL 178.060494 53.665753 \n\" style=\"fill:#ff0000;\"/>\n    <path clip-path=\"url(#p92902c88b3)\" d=\"M 141.646985 66.168309 \nL 141.585441 66.061711 \nL 141.462353 66.061711 \nL 141.400809 66.168309 \nL 141.462353 66.274906 \nL 141.585441 66.274906 \nL 141.646985 66.168309 \nL 141.585441 66.061711 \n\" style=\"fill:#ff0000;\"/>\n    <path clip-path=\"url(#p92902c88b3)\" d=\"M 152.957176 65.88894 \nL 154.751014 66.205242 \nL 154.793762 65.962805 \nL 154.72964 66.32646 \nL 154.665517 66.690115 \nL 154.708266 66.447678 \nL 152.914428 66.131376 \nL 152.957176 65.88894 \n\" style=\"fill:#ff0000;\"/>\n    <path clip-path=\"url(#p92902c88b3)\" d=\"M 165.277742 65.89101 \nL 167.048095 66.203171 \nL 167.090843 65.960735 \nL 167.026721 66.324389 \nL 166.962599 66.688044 \nL 167.005347 66.445608 \nL 165.234993 66.133447 \nL 165.277742 65.89101 \n\" style=\"fill:#ff0000;\"/>\n    <path clip-path=\"url(#p92902c88b3)\" d=\"M 178.524551 66.181389 \nL 178.482453 66.065724 \nL 178.361234 66.04435 \nL 178.282115 66.138641 \nL 178.324213 66.254306 \nL 178.445432 66.27568 \nL 178.524551 66.181389 \nL 178.482453 66.065724 \n\" style=\"fill:#ff0000;\"/>\n   </g>\n   <g id=\"Quiver_7\">\n    <path clip-path=\"url(#p92902c88b3)\" d=\"M 141.23683 28.93397 \nL 141.934053 29.336512 \nL 142.057141 29.123317 \nL 141.872509 29.443109 \nL 141.687876 29.762902 \nL 141.810965 29.549707 \nL 141.113741 29.147165 \nL 141.23683 28.93397 \n\" style=\"fill:#ff0000;\"/>\n    <path clip-path=\"url(#p92902c88b3)\" d=\"M 153.927733 29.296694 \nL 153.927733 29.173606 \nL 153.821136 29.112061 \nL 153.714538 29.173606 \nL 153.714538 29.296694 \nL 153.821136 29.358238 \nL 153.927733 29.296694 \nL 153.927733 29.173606 \n\" style=\"fill:#ff0000;\"/>\n    <path clip-path=\"url(#p92902c88b3)\" d=\"M 165.570141 28.769808 \nL 166.836036 29.500673 \nL 166.959124 29.287478 \nL 166.774492 29.607271 \nL 166.589859 29.927063 \nL 166.712948 29.713868 \nL 165.447052 28.983003 \nL 165.570141 28.769808 \n\" style=\"fill:#ff0000;\"/>\n    <path clip-path=\"url(#p92902c88b3)\" d=\"M 178.182072 28.944808 \nL 178.841751 29.325674 \nL 178.964839 29.112479 \nL 178.780207 29.432271 \nL 178.595575 29.752064 \nL 178.718663 29.538869 \nL 178.058984 29.158003 \nL 178.182072 28.944808 \n\" style=\"fill:#ff0000;\"/>\n    <path clip-path=\"url(#p92902c88b3)\" d=\"M 141.628581 41.611101 \nL 141.628581 41.488013 \nL 141.521984 41.426469 \nL 141.415386 41.488013 \nL 141.415386 41.611101 \nL 141.521984 41.672645 \nL 141.628581 41.611101 \nL 141.628581 41.488013 \n\" style=\"fill:#ff0000;\"/>\n    <path clip-path=\"url(#p92902c88b3)\" d=\"M 153.955809 41.550662 \nL 153.894265 41.444064 \nL 153.771176 41.444064 \nL 153.709632 41.550662 \nL 153.771176 41.657259 \nL 153.894265 41.657259 \nL 153.955809 41.550662 \nL 153.894265 41.444064 \n\" style=\"fill:#ff0000;\"/>\n    <path clip-path=\"url(#p92902c88b3)\" d=\"M 165.634148 41.115587 \nL 166.772028 41.772542 \nL 166.895116 41.559347 \nL 166.710484 41.879139 \nL 166.525852 42.198932 \nL 166.64894 41.985737 \nL 165.51106 41.328782 \nL 165.634148 41.115587 \n\" style=\"fill:#ff0000;\"/>\n    <path clip-path=\"url(#p92902c88b3)\" d=\"M 178.318661 41.332491 \nL 178.705163 41.555638 \nL 178.828251 41.342443 \nL 178.643619 41.662235 \nL 178.458986 41.982028 \nL 178.582075 41.768833 \nL 178.195572 41.545686 \nL 178.318661 41.332491 \n\" style=\"fill:#ff0000;\"/>\n    <path clip-path=\"url(#p92902c88b3)\" d=\"M 141.559844 53.880239 \nL 141.559844 53.757151 \nL 141.453246 53.695607 \nL 141.346648 53.757151 \nL 141.346648 53.880239 \nL 141.453246 53.941783 \nL 141.559844 53.880239 \nL 141.559844 53.757151 \n\" style=\"fill:#ff0000;\"/>\n    <path clip-path=\"url(#p92902c88b3)\" d=\"M 153.782797 53.688532 \nL 154.005732 53.817244 \nL 154.12882 53.604048 \nL 153.944188 53.923841 \nL 153.759556 54.243634 \nL 153.882644 54.030439 \nL 153.659709 53.901727 \nL 153.782797 53.688532 \n\" style=\"fill:#ff0000;\"/>\n    <path clip-path=\"url(#p92902c88b3)\" d=\"M 166.148822 53.863687 \nL 166.148822 53.740599 \nL 166.042225 53.679055 \nL 165.935627 53.740599 \nL 165.935627 53.863687 \nL 166.042225 53.925231 \nL 166.148822 53.863687 \nL 166.148822 53.740599 \n\" style=\"fill:#ff0000;\"/>\n    <path clip-path=\"url(#p92902c88b3)\" d=\"M 178.510283 53.894077 \nL 178.510283 53.770989 \nL 178.403685 53.709445 \nL 178.297088 53.770989 \nL 178.297088 53.894077 \nL 178.403685 53.955621 \nL 178.510283 53.894077 \nL 178.510283 53.770989 \n\" style=\"fill:#ff0000;\"/>\n    <path clip-path=\"url(#p92902c88b3)\" d=\"M 141.646985 66.168309 \nL 141.585441 66.061711 \nL 141.462353 66.061711 \nL 141.400809 66.168309 \nL 141.462353 66.274906 \nL 141.585441 66.274906 \nL 141.646985 66.168309 \nL 141.585441 66.061711 \n\" style=\"fill:#ff0000;\"/>\n    <path clip-path=\"url(#p92902c88b3)\" d=\"M 153.546888 65.861153 \nL 154.241642 66.262269 \nL 154.36473 66.049074 \nL 154.180098 66.368867 \nL 153.995465 66.68866 \nL 154.118553 66.475465 \nL 153.4238 66.074348 \nL 153.546888 65.861153 \n\" style=\"fill:#ff0000;\"/>\n    <path clip-path=\"url(#p92902c88b3)\" d=\"M 165.005975 65.370558 \nL 167.400201 66.752865 \nL 167.523289 66.53967 \nL 167.338657 66.859462 \nL 167.154025 67.179255 \nL 167.277113 66.96606 \nL 164.882887 65.583753 \nL 165.005975 65.370558 \n\" style=\"fill:#ff0000;\"/>\n    <path clip-path=\"url(#p92902c88b3)\" d=\"M 178.342237 65.963749 \nL 178.681587 66.159673 \nL 178.804675 65.946478 \nL 178.620043 66.266271 \nL 178.43541 66.586063 \nL 178.558498 66.372868 \nL 178.219149 66.176944 \nL 178.342237 65.963749 \n\" style=\"fill:#ff0000;\"/>\n   </g>\n   <g id=\"Quiver_8\">\n    <path clip-path=\"url(#p92902c88b3)\" d=\"M 141.573413 29.300849 \nL 141.615512 29.185184 \nL 141.536392 29.090893 \nL 141.415174 29.112267 \nL 141.373076 29.227932 \nL 141.452195 29.322223 \nL 141.573413 29.300849 \nL 141.615512 29.185184 \n\" style=\"fill:#ff0000;\"/>\n    <path clip-path=\"url(#p92902c88b3)\" d=\"M 153.911027 29.335161 \nL 153.953126 29.219496 \nL 153.874006 29.125204 \nL 153.752788 29.146578 \nL 153.71069 29.262244 \nL 153.789809 29.356535 \nL 153.911027 29.335161 \nL 153.953126 29.219496 \n\" style=\"fill:#ff0000;\"/>\n    <path clip-path=\"url(#p92902c88b3)\" d=\"M 166.219931 29.335256 \nL 166.26203 29.219591 \nL 166.18291 29.1253 \nL 166.061692 29.146674 \nL 166.019593 29.262339 \nL 166.098713 29.35663 \nL 166.219931 29.335256 \nL 166.26203 29.219591 \n\" style=\"fill:#ff0000;\"/>\n    <path clip-path=\"url(#p92902c88b3)\" d=\"M 177.758893 28.226279 \nL 179.330425 30.099158 \nL 179.519007 29.940919 \nL 179.236134 30.178278 \nL 178.953261 30.415637 \nL 179.141843 30.257397 \nL 177.57031 28.384518 \nL 177.758893 28.226279 \n\" style=\"fill:#ff0000;\"/>\n    <path clip-path=\"url(#p92902c88b3)\" d=\"M 141.570395 41.606076 \nL 141.612494 41.490411 \nL 141.533374 41.39612 \nL 141.412156 41.417494 \nL 141.370057 41.533159 \nL 141.449177 41.62745 \nL 141.570395 41.606076 \nL 141.612494 41.490411 \n\" style=\"fill:#ff0000;\"/>\n    <path clip-path=\"url(#p92902c88b3)\" d=\"M 153.90964 41.642331 \nL 153.951739 41.526666 \nL 153.872619 41.432375 \nL 153.751401 41.453749 \nL 153.709303 41.569414 \nL 153.788422 41.663705 \nL 153.90964 41.642331 \nL 153.951739 41.526666 \n\" style=\"fill:#ff0000;\"/>\n    <path clip-path=\"url(#p92902c88b3)\" d=\"M 165.215617 40.255694 \nL 167.256053 42.687391 \nL 167.444635 42.529152 \nL 167.161762 42.76651 \nL 166.878889 43.003869 \nL 167.067471 42.84563 \nL 165.027035 40.413933 \nL 165.215617 40.255694 \n\" style=\"fill:#ff0000;\"/>\n    <path clip-path=\"url(#p92902c88b3)\" d=\"M 178.035587 40.864855 \nL 179.05373 42.07823 \nL 179.242312 41.919991 \nL 178.959439 42.157349 \nL 178.676566 42.394708 \nL 178.865148 42.236469 \nL 177.847005 41.023094 \nL 178.035587 40.864855 \n\" style=\"fill:#ff0000;\"/>\n    <path clip-path=\"url(#p92902c88b3)\" d=\"M 141.571132 53.915778 \nL 141.613231 53.800112 \nL 141.534111 53.705821 \nL 141.412893 53.727195 \nL 141.370794 53.842861 \nL 141.449914 53.937152 \nL 141.571132 53.915778 \nL 141.613231 53.800112 \n\" style=\"fill:#ff0000;\"/>\n    <path clip-path=\"url(#p92902c88b3)\" d=\"M 153.894791 53.933458 \nL 153.936889 53.817792 \nL 153.85777 53.723501 \nL 153.736552 53.744875 \nL 153.694453 53.860541 \nL 153.773572 53.954832 \nL 153.894791 53.933458 \nL 153.936889 53.817792 \n\" style=\"fill:#ff0000;\"/>\n    <path clip-path=\"url(#p92902c88b3)\" d=\"M 165.899405 53.379424 \nL 166.572265 54.181307 \nL 166.760847 54.023068 \nL 166.477974 54.260427 \nL 166.195101 54.497786 \nL 166.383683 54.339546 \nL 165.710823 53.537663 \nL 165.899405 53.379424 \n\" style=\"fill:#ff0000;\"/>\n    <path clip-path=\"url(#p92902c88b3)\" d=\"M 178.451726 53.669613 \nL 178.637592 53.891119 \nL 178.826174 53.73288 \nL 178.543301 53.970238 \nL 178.260427 54.207597 \nL 178.44901 54.049358 \nL 178.263144 53.827852 \nL 178.451726 53.669613 \n\" style=\"fill:#ff0000;\"/>\n    <path clip-path=\"url(#p92902c88b3)\" d=\"M 141.646985 66.168309 \nL 141.585441 66.061711 \nL 141.462353 66.061711 \nL 141.400809 66.168309 \nL 141.462353 66.274906 \nL 141.585441 66.274906 \nL 141.646985 66.168309 \nL 141.585441 66.061711 \n\" style=\"fill:#ff0000;\"/>\n    <path clip-path=\"url(#p92902c88b3)\" d=\"M 153.594285 65.692662 \nL 154.259738 66.485717 \nL 154.44832 66.327478 \nL 154.165447 66.564837 \nL 153.882574 66.802195 \nL 154.071156 66.643956 \nL 153.405703 65.850901 \nL 153.594285 65.692662 \n\" style=\"fill:#ff0000;\"/>\n    <path clip-path=\"url(#p92902c88b3)\" d=\"M 165.570191 65.295906 \nL 166.901479 66.882473 \nL 167.090061 66.724233 \nL 166.807188 66.961592 \nL 166.524315 67.198951 \nL 166.712897 67.040712 \nL 165.381609 65.454145 \nL 165.570191 65.295906 \n\" style=\"fill:#ff0000;\"/>\n    <path clip-path=\"url(#p92902c88b3)\" d=\"M 177.947272 65.377251 \nL 179.142046 66.801127 \nL 179.330628 66.642888 \nL 179.047755 66.880247 \nL 178.764882 67.117606 \nL 178.953464 66.959367 \nL 177.758689 65.53549 \nL 177.947272 65.377251 \n\" style=\"fill:#ff0000;\"/>\n   </g>\n   <g id=\"Quiver_9\">\n    <path clip-path=\"url(#p92902c88b3)\" d=\"M 141.56464 29.35378 \nL 141.64376 29.259489 \nL 141.601661 29.143823 \nL 141.480443 29.122449 \nL 141.401323 29.21674 \nL 141.443422 29.332406 \nL 141.56464 29.35378 \nL 141.64376 29.259489 \n\" style=\"fill:#ff0000;\"/>\n    <path clip-path=\"url(#p92902c88b3)\" d=\"M 153.870578 29.345849 \nL 153.949697 29.251558 \nL 153.907598 29.135893 \nL 153.78638 29.114519 \nL 153.707261 29.20881 \nL 153.749359 29.324475 \nL 153.870578 29.345849 \nL 153.949697 29.251558 \n\" style=\"fill:#ff0000;\"/>\n    <path clip-path=\"url(#p92902c88b3)\" d=\"M 166.176418 29.337654 \nL 166.255538 29.243363 \nL 166.213439 29.127698 \nL 166.092221 29.106324 \nL 166.013101 29.200615 \nL 166.0552 29.31628 \nL 166.176418 29.337654 \nL 166.255538 29.243363 \n\" style=\"fill:#ff0000;\"/>\n    <path clip-path=\"url(#p92902c88b3)\" d=\"M 178.485083 29.337218 \nL 178.564202 29.242927 \nL 178.522104 29.127261 \nL 178.400886 29.105887 \nL 178.321766 29.200178 \nL 178.363865 29.315844 \nL 178.485083 29.337218 \nL 178.564202 29.242927 \n\" style=\"fill:#ff0000;\"/>\n    <path clip-path=\"url(#p92902c88b3)\" d=\"M 141.535345 41.582114 \nL 141.614464 41.487823 \nL 141.572366 41.372158 \nL 141.451148 41.350784 \nL 141.372028 41.445075 \nL 141.414127 41.56074 \nL 141.535345 41.582114 \nL 141.614464 41.487823 \n\" style=\"fill:#ff0000;\"/>\n    <path clip-path=\"url(#p92902c88b3)\" d=\"M 153.87471 41.666026 \nL 153.953829 41.571735 \nL 153.911731 41.45607 \nL 153.790513 41.434696 \nL 153.711393 41.528987 \nL 153.753492 41.644652 \nL 153.87471 41.666026 \nL 153.953829 41.571735 \n\" style=\"fill:#ff0000;\"/>\n    <path clip-path=\"url(#p92902c88b3)\" d=\"M 165.918839 40.578898 \nL 166.59558 42.438228 \nL 166.82691 42.354031 \nL 166.479915 42.480327 \nL 166.132919 42.606623 \nL 166.364249 42.522426 \nL 165.687509 40.663095 \nL 165.918839 40.578898 \n\" style=\"fill:#ff0000;\"/>\n    <path clip-path=\"url(#p92902c88b3)\" d=\"M 178.228684 40.581704 \nL 178.903382 42.435422 \nL 179.134712 42.351225 \nL 178.787717 42.477521 \nL 178.440721 42.603817 \nL 178.672052 42.519619 \nL 177.997354 40.665902 \nL 178.228684 40.581704 \n\" style=\"fill:#ff0000;\"/>\n    <path clip-path=\"url(#p92902c88b3)\" d=\"M 141.550444 53.572538 \nL 141.72868 54.062236 \nL 141.96001 53.978038 \nL 141.613015 54.104334 \nL 141.266019 54.23063 \nL 141.49735 54.146433 \nL 141.319114 53.656735 \nL 141.550444 53.572538 \n\" style=\"fill:#ff0000;\"/>\n    <path clip-path=\"url(#p92902c88b3)\" d=\"M 153.955809 53.859485 \nL 153.894265 53.752888 \nL 153.771176 53.752888 \nL 153.709632 53.859485 \nL 153.771176 53.966083 \nL 153.894265 53.966083 \nL 153.955809 53.859485 \nL 153.894265 53.752888 \n\" style=\"fill:#ff0000;\"/>\n    <path clip-path=\"url(#p92902c88b3)\" d=\"M 165.603054 52.020111 \nL 166.911364 55.614663 \nL 167.142694 55.530465 \nL 166.795699 55.656761 \nL 166.448704 55.783057 \nL 166.680034 55.69886 \nL 165.371724 52.104308 \nL 165.603054 52.020111 \n\" style=\"fill:#ff0000;\"/>\n    <path clip-path=\"url(#p92902c88b3)\" d=\"M 178.464986 53.899648 \nL 178.544105 53.805357 \nL 178.502007 53.689692 \nL 178.380788 53.668318 \nL 178.301669 53.762609 \nL 178.343767 53.878274 \nL 178.464986 53.899648 \nL 178.544105 53.805357 \n\" style=\"fill:#ff0000;\"/>\n    <path clip-path=\"url(#p92902c88b3)\" d=\"M 141.646985 66.168309 \nL 141.585441 66.061711 \nL 141.462353 66.061711 \nL 141.400809 66.168309 \nL 141.462353 66.274906 \nL 141.585441 66.274906 \nL 141.646985 66.168309 \nL 141.585441 66.061711 \n\" style=\"fill:#ff0000;\"/>\n    <path clip-path=\"url(#p92902c88b3)\" d=\"M 153.955809 66.168309 \nL 153.894265 66.061711 \nL 153.771176 66.061711 \nL 153.709632 66.168309 \nL 153.771176 66.274906 \nL 153.894265 66.274906 \nL 153.955809 66.168309 \nL 153.894265 66.061711 \n\" style=\"fill:#ff0000;\"/>\n    <path clip-path=\"url(#p92902c88b3)\" d=\"M 165.514289 64.085052 \nL 167.00013 68.167368 \nL 167.23146 68.083171 \nL 166.884465 68.209467 \nL 166.537469 68.335763 \nL 166.7688 68.251565 \nL 165.282958 64.16925 \nL 165.514289 64.085052 \n\" style=\"fill:#ff0000;\"/>\n    <path clip-path=\"url(#p92902c88b3)\" d=\"M 178.192578 65.100151 \nL 178.939488 67.152269 \nL 179.170818 67.068072 \nL 178.823823 67.194368 \nL 178.476827 67.320664 \nL 178.708157 67.236466 \nL 177.961248 65.184349 \nL 178.192578 65.100151 \n\" style=\"fill:#ff0000;\"/>\n   </g>\n   <g id=\"matplotlib.axis_1\">\n    <g id=\"xtick_1\">\n     <g id=\"line2d_1\">\n      <defs>\n       <path d=\"M 0 0 \nL 0 3.5 \n\" id=\"m5dfd9ae488\" style=\"stroke:#000000;stroke-width:0.8;\"/>\n      </defs>\n      <g>\n       <use style=\"stroke:#000000;stroke-width:0.8;\" x=\"135.369485\" xlink:href=\"#m5dfd9ae488\" y=\"75.945959\"/>\n      </g>\n     </g>\n     <g id=\"text_3\">\n      <!-- 0 -->\n      <g transform=\"translate(132.188235 90.544397)scale(0.1 -0.1)\">\n       <defs>\n        <path d=\"M 2034 4250 \nQ 1547 4250 1301 3770 \nQ 1056 3291 1056 2328 \nQ 1056 1369 1301 889 \nQ 1547 409 2034 409 \nQ 2525 409 2770 889 \nQ 3016 1369 3016 2328 \nQ 3016 3291 2770 3770 \nQ 2525 4250 2034 4250 \nz\nM 2034 4750 \nQ 2819 4750 3233 4129 \nQ 3647 3509 3647 2328 \nQ 3647 1150 3233 529 \nQ 2819 -91 2034 -91 \nQ 1250 -91 836 529 \nQ 422 1150 422 2328 \nQ 422 3509 836 4129 \nQ 1250 4750 2034 4750 \nz\n\" id=\"DejaVuSans-30\" transform=\"scale(0.015625)\"/>\n       </defs>\n       <use xlink:href=\"#DejaVuSans-30\"/>\n      </g>\n     </g>\n    </g>\n    <g id=\"xtick_2\">\n     <g id=\"line2d_2\">\n      <g>\n       <use style=\"stroke:#000000;stroke-width:0.8;\" x=\"173.834559\" xlink:href=\"#m5dfd9ae488\" y=\"75.945959\"/>\n      </g>\n     </g>\n     <g id=\"text_4\">\n      <!-- 25 -->\n      <g transform=\"translate(167.472059 90.544397)scale(0.1 -0.1)\">\n       <defs>\n        <path d=\"M 1228 531 \nL 3431 531 \nL 3431 0 \nL 469 0 \nL 469 531 \nQ 828 903 1448 1529 \nQ 2069 2156 2228 2338 \nQ 2531 2678 2651 2914 \nQ 2772 3150 2772 3378 \nQ 2772 3750 2511 3984 \nQ 2250 4219 1831 4219 \nQ 1534 4219 1204 4116 \nQ 875 4013 500 3803 \nL 500 4441 \nQ 881 4594 1212 4672 \nQ 1544 4750 1819 4750 \nQ 2544 4750 2975 4387 \nQ 3406 4025 3406 3419 \nQ 3406 3131 3298 2873 \nQ 3191 2616 2906 2266 \nQ 2828 2175 2409 1742 \nQ 1991 1309 1228 531 \nz\n\" id=\"DejaVuSans-32\" transform=\"scale(0.015625)\"/>\n        <path d=\"M 691 4666 \nL 3169 4666 \nL 3169 4134 \nL 1269 4134 \nL 1269 2991 \nQ 1406 3038 1543 3061 \nQ 1681 3084 1819 3084 \nQ 2600 3084 3056 2656 \nQ 3513 2228 3513 1497 \nQ 3513 744 3044 326 \nQ 2575 -91 1722 -91 \nQ 1428 -91 1123 -41 \nQ 819 9 494 109 \nL 494 744 \nQ 775 591 1075 516 \nQ 1375 441 1709 441 \nQ 2250 441 2565 725 \nQ 2881 1009 2881 1497 \nQ 2881 1984 2565 2268 \nQ 2250 2553 1709 2553 \nQ 1456 2553 1204 2497 \nQ 953 2441 691 2322 \nL 691 4666 \nz\n\" id=\"DejaVuSans-35\" transform=\"scale(0.015625)\"/>\n       </defs>\n       <use xlink:href=\"#DejaVuSans-32\"/>\n       <use x=\"63.623047\" xlink:href=\"#DejaVuSans-35\"/>\n      </g>\n     </g>\n    </g>\n   </g>\n   <g id=\"matplotlib.axis_2\">\n    <g id=\"ytick_1\">\n     <g id=\"line2d_3\">\n      <defs>\n       <path d=\"M 0 0 \nL -3.5 0 \n\" id=\"me700cfe42c\" style=\"stroke:#000000;stroke-width:0.8;\"/>\n      </defs>\n      <g>\n       <use style=\"stroke:#000000;stroke-width:0.8;\" x=\"134.600184\" xlink:href=\"#me700cfe42c\" y=\"23.087426\"/>\n      </g>\n     </g>\n    </g>\n    <g id=\"ytick_2\">\n     <g id=\"line2d_4\">\n      <g>\n       <use style=\"stroke:#000000;stroke-width:0.8;\" x=\"134.600184\" xlink:href=\"#me700cfe42c\" y=\"53.859485\"/>\n      </g>\n     </g>\n    </g>\n   </g>\n   <g id=\"patch_3\">\n    <path d=\"M 134.600184 75.945959 \nL 134.600184 22.318125 \n\" style=\"fill:none;stroke:#000000;stroke-linecap:square;stroke-linejoin:miter;stroke-width:0.8;\"/>\n   </g>\n   <g id=\"patch_4\">\n    <path d=\"M 183.835478 75.945959 \nL 183.835478 22.318125 \n\" style=\"fill:none;stroke:#000000;stroke-linecap:square;stroke-linejoin:miter;stroke-width:0.8;\"/>\n   </g>\n   <g id=\"patch_5\">\n    <path d=\"M 134.600184 75.945959 \nL 183.835478 75.945959 \n\" style=\"fill:none;stroke:#000000;stroke-linecap:square;stroke-linejoin:miter;stroke-width:0.8;\"/>\n   </g>\n   <g id=\"patch_6\">\n    <path d=\"M 134.600184 22.318125 \nL 183.835478 22.318125 \n\" style=\"fill:none;stroke:#000000;stroke-linecap:square;stroke-linejoin:miter;stroke-width:0.8;\"/>\n   </g>\n   <g id=\"text_5\">\n    <!-- hw-HOG -->\n    <g transform=\"translate(134.459393 16.318125)scale(0.12 -0.12)\">\n     <defs>\n      <path d=\"M 3513 2113 \nL 3513 0 \nL 2938 0 \nL 2938 2094 \nQ 2938 2591 2744 2837 \nQ 2550 3084 2163 3084 \nQ 1697 3084 1428 2787 \nQ 1159 2491 1159 1978 \nL 1159 0 \nL 581 0 \nL 581 4863 \nL 1159 4863 \nL 1159 2956 \nQ 1366 3272 1645 3428 \nQ 1925 3584 2291 3584 \nQ 2894 3584 3203 3211 \nQ 3513 2838 3513 2113 \nz\n\" id=\"DejaVuSans-68\" transform=\"scale(0.015625)\"/>\n      <path d=\"M 269 3500 \nL 844 3500 \nL 1563 769 \nL 2278 3500 \nL 2956 3500 \nL 3675 769 \nL 4391 3500 \nL 4966 3500 \nL 4050 0 \nL 3372 0 \nL 2619 2869 \nL 1863 0 \nL 1184 0 \nL 269 3500 \nz\n\" id=\"DejaVuSans-77\" transform=\"scale(0.015625)\"/>\n     </defs>\n     <use xlink:href=\"#DejaVuSans-68\"/>\n     <use x=\"63.378906\" xlink:href=\"#DejaVuSans-77\"/>\n     <use x=\"145.166016\" xlink:href=\"#DejaVuSans-2d\"/>\n     <use x=\"181.25\" xlink:href=\"#DejaVuSans-48\"/>\n     <use x=\"256.445312\" xlink:href=\"#DejaVuSans-4f\"/>\n     <use x=\"335.15625\" xlink:href=\"#DejaVuSans-47\"/>\n    </g>\n   </g>\n  </g>\n </g>\n <defs>\n  <clipPath id=\"p8f371b5f9a\">\n   <rect height=\"53.627834\" width=\"49.235294\" x=\"16.435478\" y=\"22.318125\"/>\n  </clipPath>\n  <clipPath id=\"p4204d077a3\">\n   <rect height=\"53.627834\" width=\"49.235294\" x=\"75.517831\" y=\"22.318125\"/>\n  </clipPath>\n  <clipPath id=\"p92902c88b3\">\n   <rect height=\"53.627834\" width=\"49.235294\" x=\"134.600184\" y=\"22.318125\"/>\n  </clipPath>\n </defs>\n</svg>\n",
      "text/plain": [
       "<Figure size 216x216 with 3 Axes>"
      ]
     },
     "metadata": {
      "needs_background": "light"
     },
     "output_type": "display_data"
    }
   ],
   "source": [
    "show_hog_image()"
   ]
  },
  {
   "cell_type": "markdown",
   "metadata": {},
   "source": [
    "The answer to *Question 3* is shown above. `sk-HOG` is implied by `sk-image`, `hw-HOG` is implied by hand write."
   ]
  },
  {
   "cell_type": "markdown",
   "metadata": {},
   "source": [
    "## Question 4 SVM classification"
   ]
  },
  {
   "cell_type": "markdown",
   "metadata": {},
   "source": [
    "### create PCA data set"
   ]
  },
  {
   "cell_type": "code",
   "execution_count": 25,
   "metadata": {},
   "outputs": [],
   "source": [
    "pac = PCA(n_components=64)\n",
    "data_train['hog_pca'] = pac.fit_transform(data_train['hog'])\n",
    "data_validate['hog_pca'] = pac.transform(data_validate['hog'])\n"
   ]
  },
  {
   "cell_type": "markdown",
   "metadata": {},
   "source": [
    "Using `skcit-learn`'s `PCA` to get principal component."
   ]
  },
  {
   "cell_type": "markdown",
   "metadata": {},
   "source": [
    "### sklearn vision"
   ]
  },
  {
   "cell_type": "code",
   "execution_count": 101,
   "metadata": {},
   "outputs": [
    {
     "name": "stdout",
     "output_type": "stream",
     "text": [
      "0.4345\n",
      "CPU times: user 18.5 s, sys: 754 ms, total: 19.2 s\n",
      "Wall time: 18.3 s\n"
     ]
    }
   ],
   "source": [
    "%%time\n",
    "svm_model = svm.LinearSVC(loss='hinge', C=0.01, max_iter=10000)\n",
    "svm_model.fit(data_train['hog'], data_train['label'])\n",
    "prediction = svm_model.predict(data_validate['hog'])\n",
    "print(accuracy_score(data_validate['label'], prediction))\n"
   ]
  },
  {
   "cell_type": "markdown",
   "metadata": {},
   "source": [
    "The accuay_score of `skcit-learn`'s `svm` using `hinge` without `PCA` is shown above."
   ]
  },
  {
   "cell_type": "markdown",
   "metadata": {},
   "source": [
    "#### with PCA"
   ]
  },
  {
   "cell_type": "code",
   "execution_count": 102,
   "metadata": {},
   "outputs": [
    {
     "name": "stdout",
     "output_type": "stream",
     "text": [
      "0.397\n",
      "CPU times: user 1.43 s, sys: 196 ms, total: 1.62 s\n",
      "Wall time: 1.38 s\n"
     ]
    }
   ],
   "source": [
    "%%time\n",
    "svm_pca_model = svm.LinearSVC(loss='hinge', C=0.01, max_iter=10000)\n",
    "svm_pca_model.fit(data_train['hog_pca'], data_train['label'])\n",
    "prediction = svm_pca_model.predict(data_validate['hog_pca'])\n",
    "print(accuracy_score(data_validate['label'], prediction))\n"
   ]
  },
  {
   "cell_type": "markdown",
   "metadata": {},
   "source": [
    "The accuay_score of `skcit-learn`'s `svm` using `hinge` with `PCA` is shown above."
   ]
  },
  {
   "cell_type": "markdown",
   "metadata": {},
   "source": [
    "The `SVM-without-PCA` gives a better accuracy than `SVM-with-PCA`, but `SVM-with-PAC` cost less time which is more efficient."
   ]
  },
  {
   "cell_type": "markdown",
   "metadata": {},
   "source": [
    "### pytorch vision"
   ]
  },
  {
   "cell_type": "markdown",
   "metadata": {},
   "source": [
    "#### dataset and dataloader"
   ]
  },
  {
   "cell_type": "code",
   "execution_count": 28,
   "metadata": {},
   "outputs": [],
   "source": [
    "class cifar10_hog(Dataset):\n",
    "    def __init__(self, data, labels):\n",
    "        self.data = data\n",
    "        self.labels = labels\n",
    "\n",
    "    def __len__(self):\n",
    "        return len(self.data)\n",
    "\n",
    "    def __getitem__(self, idx):\n",
    "        data = torch.tensor(self.data[idx], dtype=torch.float)\n",
    "        label = torch.tensor(self.labels[idx])\n",
    "        return {'data': data, 'label': label}\n",
    "\n",
    "batch_size_svm = 256\n",
    "\n",
    "cifar10_dataset_train = cifar10_hog(data_train['hog'], data_train['label'])\n",
    "cifar10_dataset_validate = cifar10_hog(\n",
    "    data_validate['hog'], data_validate['label'])\n",
    "cifar10_pca_dataset_train = cifar10_hog(\n",
    "    data_train['hog_pca'], data_train['label'])\n",
    "cifar10_pca_dataset_validate = cifar10_hog(\n",
    "    data_validate['hog_pca'], data_validate['label'])\n",
    "\n",
    "cifar10_dataloader_train = torch.utils.data.DataLoader(\n",
    "    cifar10_dataset_train, batch_size=batch_size_svm, shuffle=True)\n",
    "cifar10_dataloader_validate = torch.utils.data.DataLoader(\n",
    "    cifar10_dataset_validate, batch_size=batch_size_svm, shuffle=True)\n",
    "cifar10_pca_dataloader_train = torch.utils.data.DataLoader(\n",
    "    cifar10_pca_dataset_train, batch_size=batch_size_svm, shuffle=True)\n",
    "cifar10_pca_dataloader_validate = torch.utils.data.DataLoader(\n",
    "    cifar10_pca_dataset_validate, batch_size=batch_size_svm, shuffle=True)\n"
   ]
  },
  {
   "cell_type": "markdown",
   "metadata": {},
   "source": [
    "#### loss function"
   ]
  },
  {
   "cell_type": "code",
   "execution_count": 29,
   "metadata": {},
   "outputs": [],
   "source": [
    "class multiClassHingeLoss(nn.Module):\n",
    "    def __init__(self, p=1, margin=1, weight=None, size_average=True):\n",
    "        super(multiClassHingeLoss, self).__init__()\n",
    "        self.p=p\n",
    "        self.margin=margin\n",
    "        self.weight=weight\n",
    "        self.size_average=size_average\n",
    "    def forward(self, output, y):\n",
    "\n",
    "        output_y=output[torch.arange(0,y.size()[0]).long().cuda(),y.data.cuda()].view(-1,1)\n",
    "        loss=output-output_y+self.margin\n",
    "        \n",
    "        loss[torch.arange(0,y.size()[0]).long().cuda(),y.data.cuda()]=0\n",
    "       \n",
    "        loss[loss<0]=0\n",
    "        \n",
    "        if(self.p!=1):\n",
    "            loss=torch.pow(loss,self.p)\n",
    "        \n",
    "        if(self.weight is not None):\n",
    "            loss=loss*self.weight\n",
    "        \n",
    "        loss=torch.sum(loss)\n",
    "        if(self.size_average):\n",
    "            loss/=output.size()[0]\n",
    "        return loss"
   ]
  },
  {
   "cell_type": "markdown",
   "metadata": {},
   "source": [
    "$$\n",
    "loss(x,y) = \\sum_{ij}{\\frac{max(0, 1 - (x[y[j]]-x[i]))}{x.size(0)}}\n",
    "$$"
   ]
  },
  {
   "cell_type": "code",
   "execution_count": 98,
   "metadata": {},
   "outputs": [
    {
     "data": {
      "text/plain": [
       "tensor(12.7000)"
      ]
     },
     "execution_count": 98,
     "metadata": {},
     "output_type": "execute_result"
    }
   ],
   "source": [
    "loss = multiClassHingeLoss()\n",
    "x = torch.FloatTensor([[0.1, 0.2, 0.4, 0.8]])\n",
    "y = torch.LongTensor([[3, 0, -1, 1]])\n",
    "loss(x, y)"
   ]
  },
  {
   "cell_type": "markdown",
   "metadata": {},
   "source": [
    "#### model"
   ]
  },
  {
   "cell_type": "code",
   "execution_count": 94,
   "metadata": {},
   "outputs": [],
   "source": [
    "epoch_num = 15\n",
    "device = torch.device('cuda:0' if torch.cuda.is_available() else 'cpu')\n",
    "model = nn.Linear(data_train['hog'][0].shape[0], len(classes)).to(device)\n",
    "model_pca = nn.Linear(data_train['hog_pca']\n",
    "                      [0].shape[0], len(classes)).to(device)\n"
   ]
  },
  {
   "cell_type": "markdown",
   "metadata": {},
   "source": [
    "The whole `SVM` is just a `Linear` layer."
   ]
  },
  {
   "cell_type": "markdown",
   "metadata": {},
   "source": [
    "#### training function"
   ]
  },
  {
   "cell_type": "code",
   "execution_count": 95,
   "metadata": {},
   "outputs": [],
   "source": [
    "from sklearn.metrics import f1_score\n",
    "\n",
    "\n",
    "def svm_train(svm_dataloader_train, svm_dataloader_validate, model):\n",
    "    best_acc = 0.0\n",
    "    optimizer = optim.SGD(model.parameters(), lr=1e-3, momentum=0.9)\n",
    "    lr_schduler = optim.lr_scheduler.StepLR(optimizer, step_size=7, gamma=0.1)\n",
    "    criterion = multiClassHingeLoss()\n",
    "    \n",
    "    comment = f'-svm'\n",
    "    tb = SummaryWriter(comment=comment)\n",
    "    for epoch in range(epoch_num):\n",
    "        model.train()\n",
    "        train_loss = 0.0\n",
    "        train_acc = 0.0\n",
    "        train_loop = tqdm(svm_dataloader_train)\n",
    "        for data in train_loop:\n",
    "            inputs, labels = data['data'], data['label']\n",
    "            inputs, labels = inputs.to(device), labels.to(device)\n",
    "            optimizer.zero_grad()\n",
    "            with torch.set_grad_enabled(True):\n",
    "                outputs = model(inputs)\n",
    "                loss = criterion(outputs, labels)\n",
    "                loss.backward()\n",
    "                optimizer.step()\n",
    "                train_loss += loss.item()\n",
    "                train_acc += get_num_correct(outputs, labels)\n",
    "            train_loop.set_description(f'Epoch {epoch+1}/{epoch_num}')\n",
    "            train_loop.set_postfix(loss=loss.item(\n",
    "            ), acc=train_acc/(len(svm_dataloader_train)*svm_dataloader_train.batch_size))\n",
    "        lr_schduler.step()\n",
    "        train_loss /= len(svm_dataloader_train)\n",
    "        train_acc /= len(svm_dataloader_train) * \\\n",
    "            svm_dataloader_train.batch_size\n",
    "        tb.add_scalar('train_loss', train_loss, epoch)\n",
    "        tb.add_scalar('train_acc', train_acc, epoch)\n",
    "        model.eval()\n",
    "        validate_acc = 0.0\n",
    "        with torch.no_grad():\n",
    "            for i, data in enumerate(svm_dataloader_validate):\n",
    "                inputs, labels = data['data'], data['label']\n",
    "                inputs, labels = inputs.to(device), labels.to(device)\n",
    "                with torch.set_grad_enabled(False):\n",
    "                    outputs = model(inputs)\n",
    "                    validate_acc += get_num_correct(outputs, labels)\n",
    "            validate_acc /= len(svm_dataloader_validate) * \\\n",
    "                svm_dataloader_validate.batch_size\n",
    "            best_acc = max(best_acc, validate_acc)\n",
    "        tb.add_scalar('validate_acc', validate_acc, epoch)\n",
    "        tb.add_scalar('best_acc', best_acc, epoch)\n",
    "\n",
    "    print('best acc:', best_acc)\n"
   ]
  },
  {
   "cell_type": "markdown",
   "metadata": {},
   "source": [
    "We put fetures into the `SVM` which is a linear layer for each batch and calculate the `Hinge` loss, then we use the `SGD` optimizer to backward the `SVM`."
   ]
  },
  {
   "cell_type": "markdown",
   "metadata": {},
   "source": [
    "#### start training"
   ]
  },
  {
   "cell_type": "markdown",
   "metadata": {},
   "source": [
    "##### without PCA"
   ]
  },
  {
   "cell_type": "code",
   "execution_count": 96,
   "metadata": {},
   "outputs": [
    {
     "name": "stderr",
     "output_type": "stream",
     "text": [
      "Epoch 1/15: 100%|██████████| 196/196 [00:01<00:00, 127.14it/s, acc=0.229, loss=6.51] \n",
      "Epoch 2/15: 100%|██████████| 196/196 [00:01<00:00, 139.86it/s, acc=0.386, loss=5.35]\n",
      "Epoch 3/15: 100%|██████████| 196/196 [00:01<00:00, 114.55it/s, acc=0.422, loss=4.86]\n",
      "Epoch 4/15: 100%|██████████| 196/196 [00:01<00:00, 129.80it/s, acc=0.438, loss=5.11]\n",
      "Epoch 5/15: 100%|██████████| 196/196 [00:01<00:00, 133.50it/s, acc=0.442, loss=4.09]\n",
      "Epoch 6/15: 100%|██████████| 196/196 [00:01<00:00, 121.25it/s, acc=0.448, loss=4.23]\n",
      "Epoch 7/15: 100%|██████████| 196/196 [00:01<00:00, 120.20it/s, acc=0.453, loss=4.24]\n",
      "Epoch 8/15: 100%|██████████| 196/196 [00:01<00:00, 120.54it/s, acc=0.455, loss=3.37]\n",
      "Epoch 9/15: 100%|██████████| 196/196 [00:01<00:00, 118.84it/s, acc=0.456, loss=4.18]\n",
      "Epoch 10/15: 100%|██████████| 196/196 [00:01<00:00, 122.44it/s, acc=0.456, loss=3.89]\n",
      "Epoch 11/15: 100%|██████████| 196/196 [00:01<00:00, 118.82it/s, acc=0.456, loss=3.51]\n",
      "Epoch 12/15: 100%|██████████| 196/196 [00:01<00:00, 115.06it/s, acc=0.457, loss=4.5] \n",
      "Epoch 13/15: 100%|██████████| 196/196 [00:01<00:00, 117.87it/s, acc=0.457, loss=4.42]\n",
      "Epoch 14/15: 100%|██████████| 196/196 [00:01<00:00, 121.06it/s, acc=0.457, loss=4.07]\n",
      "Epoch 15/15: 100%|██████████| 196/196 [00:01<00:00, 125.33it/s, acc=0.457, loss=4.27]\n"
     ]
    },
    {
     "name": "stdout",
     "output_type": "stream",
     "text": [
      "best acc: 0.43974609375\n"
     ]
    }
   ],
   "source": [
    "svm_train(cifar10_dataloader_train, cifar10_dataloader_validate, model)"
   ]
  },
  {
   "cell_type": "markdown",
   "metadata": {},
   "source": [
    "##### with PCA"
   ]
  },
  {
   "cell_type": "code",
   "execution_count": 34,
   "metadata": {},
   "outputs": [
    {
     "name": "stderr",
     "output_type": "stream",
     "text": [
      "Epoch 1/15: 100%|██████████| 196/196 [00:01<00:00, 140.34it/s, acc=0.236, loss=6.16] \n",
      "Epoch 2/15: 100%|██████████| 196/196 [00:01<00:00, 142.82it/s, acc=0.373, loss=5.72]\n",
      "Epoch 3/15: 100%|██████████| 196/196 [00:01<00:00, 141.67it/s, acc=0.409, loss=5.44]\n",
      "Epoch 4/15: 100%|██████████| 196/196 [00:01<00:00, 145.12it/s, acc=0.425, loss=4.65]\n",
      "Epoch 5/15: 100%|██████████| 196/196 [00:01<00:00, 124.90it/s, acc=0.435, loss=3.7] \n",
      "Epoch 6/15: 100%|██████████| 196/196 [00:01<00:00, 134.22it/s, acc=0.442, loss=3.9] \n",
      "Epoch 7/15: 100%|██████████| 196/196 [00:01<00:00, 134.88it/s, acc=0.447, loss=4.1] \n",
      "Epoch 8/15: 100%|██████████| 196/196 [00:01<00:00, 139.63it/s, acc=0.45, loss=4.27] \n",
      "Epoch 9/15: 100%|██████████| 196/196 [00:01<00:00, 142.71it/s, acc=0.45, loss=2.9]  \n",
      "Epoch 10/15: 100%|██████████| 196/196 [00:01<00:00, 143.54it/s, acc=0.451, loss=4.19]\n",
      "Epoch 11/15: 100%|██████████| 196/196 [00:01<00:00, 129.29it/s, acc=0.451, loss=3.76]\n",
      "Epoch 12/15: 100%|██████████| 196/196 [00:01<00:00, 149.27it/s, acc=0.451, loss=3.52]\n",
      "Epoch 13/15: 100%|██████████| 196/196 [00:01<00:00, 144.93it/s, acc=0.452, loss=3.56]\n",
      "Epoch 14/15: 100%|██████████| 196/196 [00:01<00:00, 139.60it/s, acc=0.452, loss=3.48]\n",
      "Epoch 15/15: 100%|██████████| 196/196 [00:01<00:00, 143.44it/s, acc=0.452, loss=3.89]\n"
     ]
    },
    {
     "name": "stdout",
     "output_type": "stream",
     "text": [
      "best acc: 0.4365234375\n"
     ]
    }
   ],
   "source": [
    "svm_train(cifar10_pca_dataloader_train,\n",
    "          cifar10_pca_dataloader_validate, model_pca)\n"
   ]
  },
  {
   "cell_type": "markdown",
   "metadata": {},
   "source": [
    "The `SVM-without-PCA` gives a better accuracy than `SVM-with-PCA`, but `SVM-with-PAC` cost less time which is more efficient.\n"
   ]
  },
  {
   "cell_type": "markdown",
   "metadata": {},
   "source": [
    "## Question 5 Training your own CNN models"
   ]
  },
  {
   "cell_type": "markdown",
   "metadata": {},
   "source": [
    "### Construct Dataset and Dataloader"
   ]
  },
  {
   "cell_type": "code",
   "execution_count": 35,
   "metadata": {},
   "outputs": [],
   "source": [
    "class CIFAR10(VisionDataset):\n",
    "    base_folder = 'cifar-10-batches-py'\n",
    "    train_list = ['data_batch_1', 'data_batch_2',\n",
    "                  'data_batch_3', 'data_batch_4', 'data_batch_5']\n",
    "\n",
    "    test_list = ['test_batch']\n",
    "    meta = {\n",
    "        'filename': 'batches.meta',\n",
    "        'key': 'label_names',\n",
    "    }\n",
    "\n",
    "    def __init__(\n",
    "            self,\n",
    "            root: str,\n",
    "            train: bool = True,\n",
    "            transform: Optional[Callable] = None,\n",
    "            target_transform: Optional[Callable] = None,\n",
    "    ) -> None:\n",
    "\n",
    "        super(CIFAR10, self).__init__(root, transform=transform,\n",
    "                                      target_transform=target_transform)\n",
    "\n",
    "        self.train = train\n",
    "\n",
    "        if self.train:\n",
    "            downloaded_list = self.train_list\n",
    "        else:\n",
    "            downloaded_list = self.test_list\n",
    "\n",
    "        self.data: Any = []\n",
    "        self.targets = []\n",
    "\n",
    "        for file_name in downloaded_list:\n",
    "            file_path = os.path.join(self.root, self.base_folder, file_name)\n",
    "            with open(file_path, 'rb') as f:\n",
    "                entry = pickle.load(f, encoding='latin1')\n",
    "                self.data.append(entry['data'])\n",
    "                if 'labels' in entry:\n",
    "                    self.targets.extend(entry['labels'])\n",
    "                else:\n",
    "                    self.targets.extend(entry['fine_labels'])\n",
    "        self.data = np.vstack(self.data).reshape(-1, 3, 32, 32)\n",
    "        self.data = self.data.transpose((0, 2, 3, 1))\n",
    "        self._load_meta()\n",
    "\n",
    "    def _load_meta(self) -> None:\n",
    "        path = os.path.join(self.root, self.base_folder, self.meta['filename'])\n",
    "\n",
    "        with open(path, 'rb') as infile:\n",
    "            data = pickle.load(infile, encoding='latin1')\n",
    "            self.classes = data[self.meta['key']]\n",
    "        self.class_to_idx = {_class: i for i,\n",
    "                             _class in enumerate(self.classes)}\n",
    "\n",
    "    def __getitem__(self, index: int) -> Tuple[Any, Any]:\n",
    "        img, target = self.data[index], self.targets[index]\n",
    "        img = Image.fromarray(img)\n",
    "        if self.transform is not None:\n",
    "            img = self.transform(img)\n",
    "        if self.target_transform is not None:\n",
    "            target = self.target_transform(target)\n",
    "        return img, target\n",
    "\n",
    "    def __len__(self) -> int:\n",
    "        return len(self.data)\n"
   ]
  },
  {
   "cell_type": "markdown",
   "metadata": {},
   "source": [
    "The `CIFAR10` dataset creater."
   ]
  },
  {
   "cell_type": "code",
   "execution_count": 36,
   "metadata": {},
   "outputs": [],
   "source": [
    "cifar10_dataset_train = CIFAR10(\n",
    "    root='./', train=True, transform=train_transform)\n",
    "cifar10_dataset_validate = CIFAR10(\n",
    "    root='./', train=False, transform=valid_transform)"
   ]
  },
  {
   "cell_type": "markdown",
   "metadata": {},
   "source": [
    "Instantiation the train dataset and validation dataset."
   ]
  },
  {
   "cell_type": "code",
   "execution_count": 37,
   "metadata": {},
   "outputs": [],
   "source": [
    "batch_size = 256\n",
    "valid_size = 0.5\n",
    "\n",
    "num_test = len(cifar10_dataset_validate)\n",
    "indices = list(range(num_test))\n",
    "np.random.shuffle(indices)\n",
    "split = int(np.floor(valid_size * num_test))\n",
    "test_idx, valid_idx = indices[split:], indices[:split]\n",
    "\n",
    "valid_sampler = SubsetRandomSampler(valid_idx)\n",
    "test_sampler = SubsetRandomSampler(test_idx)\n",
    "\n",
    "train_loader = torch.utils.data.DataLoader(\n",
    "    cifar10_dataset_train, batch_size=batch_size, shuffle=True, num_workers=1)\n",
    "valid_loader = torch.utils.data.DataLoader(\n",
    "    cifar10_dataset_validate, batch_size=batch_size, sampler=valid_sampler, num_workers=1)\n",
    "test_loader = torch.utils.data.DataLoader(\n",
    "    cifar10_dataset_validate, batch_size=batch_size, sampler=test_sampler, num_workers=1)\n",
    "visualize_loader = torch.utils.data.DataLoader(\n",
    "    cifar10_dataset_validate, batch_size=1, num_workers=1, shuffle=False)\n"
   ]
  },
  {
   "cell_type": "markdown",
   "metadata": {},
   "source": [
    "Create torch Dataloader."
   ]
  },
  {
   "cell_type": "markdown",
   "metadata": {},
   "source": [
    "### train function"
   ]
  },
  {
   "cell_type": "code",
   "execution_count": 38,
   "metadata": {},
   "outputs": [],
   "source": [
    "def train(model, name, num_epochs=30):\n",
    "    model.to(device)\n",
    "\n",
    "    criterion = nn.CrossEntropyLoss()\n",
    "    optimizer = optim.SGD(model.parameters(), lr=0.01, momentum=0.9, weight_decay=1e-3)\n",
    "\n",
    "    scheduler = optim.lr_scheduler.ReduceLROnPlateau(optimizer, factor=1/3, patience=5, verbose=True)\n",
    "\n",
    "    comment = f'-{name}'\n",
    "    tb = SummaryWriter(log_dir='./logs',comment=comment)\n",
    "\n",
    "    valid_loss_min = np.Inf\n",
    "    # num_epochs = 30\n",
    "\n",
    "    for epoch in range(num_epochs):\n",
    "        train_loss, train_acc = 0.0, 0.0\n",
    "\n",
    "        train_loop = tqdm(train_loader)\n",
    "        model.train()\n",
    "        for batch in train_loop:\n",
    "            images, labels = batch[0].to(device), batch[1].to(device)\n",
    "            preds = model(images)\n",
    "            loss = criterion(preds, labels)\n",
    "            optimizer.zero_grad() \n",
    "            loss.backward()  \n",
    "            optimizer.step()\n",
    "\n",
    "            train_loss += loss.item() * labels.size(0)\n",
    "            train_acc += get_num_correct(preds, labels) \n",
    "\n",
    "            train_loop.set_description(f'Epoch [{epoch+1:2d}/{num_epochs}]')\n",
    "            train_loop.set_postfix(loss=loss.item(), acc=train_acc/len(cifar10_dataset_train))\n",
    "\n",
    "\n",
    "        tb.add_scalar('Train Loss', train_loss, epoch)\n",
    "        tb.add_scalar('Train Accuracy', train_acc/len(cifar10_dataset_train), epoch)\n",
    "\n",
    "        model.eval() \n",
    "        with torch.no_grad():  \n",
    "            valid_loss, valid_correct = 0, 0  \n",
    "\n",
    "            for batch in valid_loader:\n",
    "                images, labels = batch[0].to(device), batch[1].to(device)  \n",
    "                preds = model(images) \n",
    "                loss = criterion(preds, labels) \n",
    "\n",
    "                valid_loss += loss.item() * labels.size(0) \n",
    "                valid_correct += get_num_correct(preds, labels) \n",
    "\n",
    "\n",
    "\n",
    "            tb.add_scalar('Validation Loss', valid_loss, epoch)\n",
    "            tb.add_scalar('Validation Accuracy', valid_correct/len(valid_loader.sampler), epoch)\n",
    "\n",
    "            train_loss = train_loss/len(cifar10_dataset_train)\n",
    "            valid_loss = valid_loss/len(valid_loader.sampler)\n",
    "            train_loop.write(f'\\t\\tAvg training loss: {train_loss:.6f}\\tAvg validation loss: {valid_loss:.6f}')\n",
    "            scheduler.step(valid_loss)\n",
    "\n",
    "\n",
    "            if valid_loss <= valid_loss_min:\n",
    "                train_loop.write(f'\\t\\tvalid_loss decreased ({valid_loss_min:.6f} --> {valid_loss:.6f})  saving model...')\n",
    "                torch.save(model.state_dict(), f'./models/model{comment}.pth')\n",
    "                valid_loss_min = valid_loss\n",
    "\n",
    "\n",
    "            test_loss, test_correct = 0, 0\n",
    "\n",
    "            for batch in test_loader:\n",
    "                images, labels = batch[0].to(device), batch[1].to(device) \n",
    "                preds = model(images) \n",
    "                loss = criterion(preds, labels)\n",
    "\n",
    "                test_loss += loss.item() * labels.size(0)\n",
    "                test_correct += get_num_correct(preds, labels) \n",
    "\n",
    "            tb.add_scalar('Test Loss', test_loss, epoch)\n",
    "            tb.add_scalar('Test Accuracy', test_correct/len(test_loader.sampler), epoch)"
   ]
  },
  {
   "cell_type": "markdown",
   "metadata": {},
   "source": [
    "This is a training function which can display the process, save tensorboard logs and save model weight when test loss decrease."
   ]
  },
  {
   "cell_type": "code",
   "execution_count": 39,
   "metadata": {},
   "outputs": [],
   "source": [
    "my_model = nn.Sequential(\n",
    "            nn.Conv2d(3, 32, kernel_size=3, padding=1),\n",
    "            nn.ReLU(),\n",
    "            nn.Conv2d(32, 64, kernel_size=3, stride=1, padding=1),\n",
    "            nn.ReLU(),\n",
    "            nn.MaxPool2d(2, 2),\n",
    "\n",
    "            nn.Conv2d(64, 128, kernel_size=3, stride=1, padding=1),\n",
    "            nn.ReLU(),\n",
    "            nn.Conv2d(128, 128, kernel_size=3, stride=1, padding=1),\n",
    "            nn.ReLU(),\n",
    "            nn.MaxPool2d(2, 2),\n",
    "\n",
    "            nn.Conv2d(128, 256, kernel_size=3, stride=1, padding=1),\n",
    "            nn.ReLU(),\n",
    "            nn.Conv2d(256, 256, kernel_size=3, stride=1, padding=1),\n",
    "            nn.ReLU(),\n",
    "            nn.MaxPool2d(2, 2),\n",
    "\n",
    "            nn.Flatten(), \n",
    "            nn.Linear(256*4*4, 1024),\n",
    "            nn.ReLU(),\n",
    "            nn.Linear(1024, 512),\n",
    "            nn.ReLU(),\n",
    "            nn.Linear(512, 10))"
   ]
  },
  {
   "cell_type": "markdown",
   "metadata": {},
   "source": [
    "This is my model.\n",
    "[![qFXF1O.png](https://s1.ax1x.com/2022/03/18/qFXF1O.png)](https://imgtu.com/i/qFXF1O)"
   ]
  },
  {
   "cell_type": "code",
   "execution_count": 40,
   "metadata": {},
   "outputs": [
    {
     "name": "stderr",
     "output_type": "stream",
     "text": [
      "Epoch [ 1/100]: 100%|██████████| 196/196 [00:15<00:00, 12.45it/s, acc=0.108, loss=2.3] \n"
     ]
    },
    {
     "name": "stdout",
     "output_type": "stream",
     "text": [
      "\t\tAvg training loss: 2.302571\tAvg validation loss: 2.302042\n",
      "\t\tvalid_loss decreased (inf --> 2.302042)  saving model...\n"
     ]
    },
    {
     "name": "stderr",
     "output_type": "stream",
     "text": [
      "Epoch [ 2/100]: 100%|██████████| 196/196 [00:15<00:00, 12.41it/s, acc=0.124, loss=2.3] \n"
     ]
    },
    {
     "name": "stdout",
     "output_type": "stream",
     "text": [
      "\t\tAvg training loss: 2.301199\tAvg validation loss: 2.297034\n",
      "\t\tvalid_loss decreased (2.302042 --> 2.297034)  saving model...\n"
     ]
    },
    {
     "name": "stderr",
     "output_type": "stream",
     "text": [
      "Epoch [ 3/100]: 100%|██████████| 196/196 [00:15<00:00, 12.42it/s, acc=0.207, loss=1.97] \n"
     ]
    },
    {
     "name": "stdout",
     "output_type": "stream",
     "text": [
      "\t\tAvg training loss: 2.155075\tAvg validation loss: 1.971948\n",
      "\t\tvalid_loss decreased (2.297034 --> 1.971948)  saving model...\n"
     ]
    },
    {
     "name": "stderr",
     "output_type": "stream",
     "text": [
      "Epoch [ 4/100]: 100%|██████████| 196/196 [00:15<00:00, 12.56it/s, acc=0.304, loss=1.82]\n"
     ]
    },
    {
     "name": "stdout",
     "output_type": "stream",
     "text": [
      "\t\tAvg training loss: 1.884962\tAvg validation loss: 1.737761\n",
      "\t\tvalid_loss decreased (1.971948 --> 1.737761)  saving model...\n"
     ]
    },
    {
     "name": "stderr",
     "output_type": "stream",
     "text": [
      "Epoch [ 5/100]: 100%|██████████| 196/196 [00:15<00:00, 12.51it/s, acc=0.368, loss=1.78]\n"
     ]
    },
    {
     "name": "stdout",
     "output_type": "stream",
     "text": [
      "\t\tAvg training loss: 1.727538\tAvg validation loss: 1.622202\n",
      "\t\tvalid_loss decreased (1.737761 --> 1.622202)  saving model...\n"
     ]
    },
    {
     "name": "stderr",
     "output_type": "stream",
     "text": [
      "Epoch [ 6/100]: 100%|██████████| 196/196 [00:15<00:00, 12.49it/s, acc=0.418, loss=1.72]\n"
     ]
    },
    {
     "name": "stdout",
     "output_type": "stream",
     "text": [
      "\t\tAvg training loss: 1.595033\tAvg validation loss: 1.503380\n",
      "\t\tvalid_loss decreased (1.622202 --> 1.503380)  saving model...\n"
     ]
    },
    {
     "name": "stderr",
     "output_type": "stream",
     "text": [
      "Epoch [ 7/100]: 100%|██████████| 196/196 [00:16<00:00, 12.25it/s, acc=0.455, loss=1.56]\n"
     ]
    },
    {
     "name": "stdout",
     "output_type": "stream",
     "text": [
      "\t\tAvg training loss: 1.511652\tAvg validation loss: 1.434948\n",
      "\t\tvalid_loss decreased (1.503380 --> 1.434948)  saving model...\n"
     ]
    },
    {
     "name": "stderr",
     "output_type": "stream",
     "text": [
      "Epoch [ 8/100]: 100%|██████████| 196/196 [00:15<00:00, 12.30it/s, acc=0.484, loss=1.24]\n"
     ]
    },
    {
     "name": "stdout",
     "output_type": "stream",
     "text": [
      "\t\tAvg training loss: 1.433336\tAvg validation loss: 1.378005\n",
      "\t\tvalid_loss decreased (1.434948 --> 1.378005)  saving model...\n"
     ]
    },
    {
     "name": "stderr",
     "output_type": "stream",
     "text": [
      "Epoch [ 9/100]: 100%|██████████| 196/196 [00:15<00:00, 12.28it/s, acc=0.502, loss=1.15]\n"
     ]
    },
    {
     "name": "stdout",
     "output_type": "stream",
     "text": [
      "\t\tAvg training loss: 1.378587\tAvg validation loss: 1.321405\n",
      "\t\tvalid_loss decreased (1.378005 --> 1.321405)  saving model...\n"
     ]
    },
    {
     "name": "stderr",
     "output_type": "stream",
     "text": [
      "Epoch [10/100]: 100%|██████████| 196/196 [00:15<00:00, 12.28it/s, acc=0.523, loss=1.29]\n"
     ]
    },
    {
     "name": "stdout",
     "output_type": "stream",
     "text": [
      "\t\tAvg training loss: 1.325108\tAvg validation loss: 1.263516\n",
      "\t\tvalid_loss decreased (1.321405 --> 1.263516)  saving model...\n"
     ]
    },
    {
     "name": "stderr",
     "output_type": "stream",
     "text": [
      "Epoch [11/100]: 100%|██████████| 196/196 [00:15<00:00, 12.36it/s, acc=0.543, loss=1.13]\n"
     ]
    },
    {
     "name": "stdout",
     "output_type": "stream",
     "text": [
      "\t\tAvg training loss: 1.265222\tAvg validation loss: 1.209745\n",
      "\t\tvalid_loss decreased (1.263516 --> 1.209745)  saving model...\n"
     ]
    },
    {
     "name": "stderr",
     "output_type": "stream",
     "text": [
      "Epoch [12/100]: 100%|██████████| 196/196 [00:16<00:00, 12.24it/s, acc=0.569, loss=1.27]\n"
     ]
    },
    {
     "name": "stdout",
     "output_type": "stream",
     "text": [
      "\t\tAvg training loss: 1.203404\tAvg validation loss: 1.182072\n",
      "\t\tvalid_loss decreased (1.209745 --> 1.182072)  saving model...\n"
     ]
    },
    {
     "name": "stderr",
     "output_type": "stream",
     "text": [
      "Epoch [13/100]: 100%|██████████| 196/196 [00:15<00:00, 12.46it/s, acc=0.589, loss=1.32]\n"
     ]
    },
    {
     "name": "stdout",
     "output_type": "stream",
     "text": [
      "\t\tAvg training loss: 1.152745\tAvg validation loss: 1.107157\n",
      "\t\tvalid_loss decreased (1.182072 --> 1.107157)  saving model...\n"
     ]
    },
    {
     "name": "stderr",
     "output_type": "stream",
     "text": [
      "Epoch [14/100]: 100%|██████████| 196/196 [00:15<00:00, 12.35it/s, acc=0.616, loss=1.22] \n"
     ]
    },
    {
     "name": "stdout",
     "output_type": "stream",
     "text": [
      "\t\tAvg training loss: 1.080479\tAvg validation loss: 0.971069\n",
      "\t\tvalid_loss decreased (1.107157 --> 0.971069)  saving model...\n"
     ]
    },
    {
     "name": "stderr",
     "output_type": "stream",
     "text": [
      "Epoch [15/100]: 100%|██████████| 196/196 [00:15<00:00, 12.30it/s, acc=0.638, loss=1.13] \n"
     ]
    },
    {
     "name": "stdout",
     "output_type": "stream",
     "text": [
      "\t\tAvg training loss: 1.027650\tAvg validation loss: 0.963738\n",
      "\t\tvalid_loss decreased (0.971069 --> 0.963738)  saving model...\n"
     ]
    },
    {
     "name": "stderr",
     "output_type": "stream",
     "text": [
      "Epoch [16/100]: 100%|██████████| 196/196 [00:15<00:00, 12.32it/s, acc=0.653, loss=1.04] \n"
     ]
    },
    {
     "name": "stdout",
     "output_type": "stream",
     "text": [
      "\t\tAvg training loss: 0.977844\tAvg validation loss: 0.936632\n",
      "\t\tvalid_loss decreased (0.963738 --> 0.936632)  saving model...\n"
     ]
    },
    {
     "name": "stderr",
     "output_type": "stream",
     "text": [
      "Epoch [17/100]: 100%|██████████| 196/196 [00:15<00:00, 12.26it/s, acc=0.671, loss=0.926]\n"
     ]
    },
    {
     "name": "stdout",
     "output_type": "stream",
     "text": [
      "\t\tAvg training loss: 0.934892\tAvg validation loss: 0.926372\n",
      "\t\tvalid_loss decreased (0.936632 --> 0.926372)  saving model...\n"
     ]
    },
    {
     "name": "stderr",
     "output_type": "stream",
     "text": [
      "Epoch [18/100]: 100%|██████████| 196/196 [00:15<00:00, 12.29it/s, acc=0.684, loss=0.717]\n"
     ]
    },
    {
     "name": "stdout",
     "output_type": "stream",
     "text": [
      "\t\tAvg training loss: 0.900571\tAvg validation loss: 0.941409\n"
     ]
    },
    {
     "name": "stderr",
     "output_type": "stream",
     "text": [
      "Epoch [19/100]: 100%|██████████| 196/196 [00:16<00:00, 12.25it/s, acc=0.697, loss=0.923]\n"
     ]
    },
    {
     "name": "stdout",
     "output_type": "stream",
     "text": [
      "\t\tAvg training loss: 0.860454\tAvg validation loss: 0.899304\n",
      "\t\tvalid_loss decreased (0.926372 --> 0.899304)  saving model...\n"
     ]
    },
    {
     "name": "stderr",
     "output_type": "stream",
     "text": [
      "Epoch [20/100]: 100%|██████████| 196/196 [00:15<00:00, 12.33it/s, acc=0.709, loss=0.708]\n"
     ]
    },
    {
     "name": "stdout",
     "output_type": "stream",
     "text": [
      "\t\tAvg training loss: 0.829993\tAvg validation loss: 0.804452\n",
      "\t\tvalid_loss decreased (0.899304 --> 0.804452)  saving model...\n"
     ]
    },
    {
     "name": "stderr",
     "output_type": "stream",
     "text": [
      "Epoch [21/100]: 100%|██████████| 196/196 [00:15<00:00, 12.30it/s, acc=0.723, loss=0.825]\n"
     ]
    },
    {
     "name": "stdout",
     "output_type": "stream",
     "text": [
      "\t\tAvg training loss: 0.789453\tAvg validation loss: 0.789061\n",
      "\t\tvalid_loss decreased (0.804452 --> 0.789061)  saving model...\n"
     ]
    },
    {
     "name": "stderr",
     "output_type": "stream",
     "text": [
      "Epoch [22/100]: 100%|██████████| 196/196 [00:15<00:00, 12.29it/s, acc=0.734, loss=0.607]\n"
     ]
    },
    {
     "name": "stdout",
     "output_type": "stream",
     "text": [
      "\t\tAvg training loss: 0.761766\tAvg validation loss: 0.837008\n"
     ]
    },
    {
     "name": "stderr",
     "output_type": "stream",
     "text": [
      "Epoch [23/100]: 100%|██████████| 196/196 [00:16<00:00, 12.25it/s, acc=0.742, loss=0.754]\n"
     ]
    },
    {
     "name": "stdout",
     "output_type": "stream",
     "text": [
      "\t\tAvg training loss: 0.732877\tAvg validation loss: 0.773811\n",
      "\t\tvalid_loss decreased (0.789061 --> 0.773811)  saving model...\n"
     ]
    },
    {
     "name": "stderr",
     "output_type": "stream",
     "text": [
      "Epoch [24/100]: 100%|██████████| 196/196 [00:15<00:00, 12.33it/s, acc=0.752, loss=0.664]\n"
     ]
    },
    {
     "name": "stdout",
     "output_type": "stream",
     "text": [
      "\t\tAvg training loss: 0.707322\tAvg validation loss: 0.708973\n",
      "\t\tvalid_loss decreased (0.773811 --> 0.708973)  saving model...\n"
     ]
    },
    {
     "name": "stderr",
     "output_type": "stream",
     "text": [
      "Epoch [25/100]: 100%|██████████| 196/196 [00:15<00:00, 12.29it/s, acc=0.761, loss=0.714]\n"
     ]
    },
    {
     "name": "stdout",
     "output_type": "stream",
     "text": [
      "\t\tAvg training loss: 0.678475\tAvg validation loss: 0.694297\n",
      "\t\tvalid_loss decreased (0.708973 --> 0.694297)  saving model...\n"
     ]
    },
    {
     "name": "stderr",
     "output_type": "stream",
     "text": [
      "Epoch [26/100]: 100%|██████████| 196/196 [00:15<00:00, 12.33it/s, acc=0.767, loss=0.49] \n"
     ]
    },
    {
     "name": "stdout",
     "output_type": "stream",
     "text": [
      "\t\tAvg training loss: 0.658426\tAvg validation loss: 0.672541\n",
      "\t\tvalid_loss decreased (0.694297 --> 0.672541)  saving model...\n"
     ]
    },
    {
     "name": "stderr",
     "output_type": "stream",
     "text": [
      "Epoch [27/100]: 100%|██████████| 196/196 [00:15<00:00, 12.36it/s, acc=0.779, loss=0.589]\n"
     ]
    },
    {
     "name": "stdout",
     "output_type": "stream",
     "text": [
      "\t\tAvg training loss: 0.631645\tAvg validation loss: 0.698365\n"
     ]
    },
    {
     "name": "stderr",
     "output_type": "stream",
     "text": [
      "Epoch [28/100]: 100%|██████████| 196/196 [00:15<00:00, 12.40it/s, acc=0.785, loss=0.673]\n"
     ]
    },
    {
     "name": "stdout",
     "output_type": "stream",
     "text": [
      "\t\tAvg training loss: 0.616824\tAvg validation loss: 0.712499\n"
     ]
    },
    {
     "name": "stderr",
     "output_type": "stream",
     "text": [
      "Epoch [29/100]: 100%|██████████| 196/196 [00:15<00:00, 12.26it/s, acc=0.79, loss=0.454] \n"
     ]
    },
    {
     "name": "stdout",
     "output_type": "stream",
     "text": [
      "\t\tAvg training loss: 0.595977\tAvg validation loss: 0.685031\n"
     ]
    },
    {
     "name": "stderr",
     "output_type": "stream",
     "text": [
      "Epoch [30/100]: 100%|██████████| 196/196 [00:15<00:00, 12.28it/s, acc=0.797, loss=0.514]\n"
     ]
    },
    {
     "name": "stdout",
     "output_type": "stream",
     "text": [
      "\t\tAvg training loss: 0.577289\tAvg validation loss: 0.633597\n",
      "\t\tvalid_loss decreased (0.672541 --> 0.633597)  saving model...\n"
     ]
    },
    {
     "name": "stderr",
     "output_type": "stream",
     "text": [
      "Epoch [31/100]: 100%|██████████| 196/196 [00:15<00:00, 12.28it/s, acc=0.808, loss=0.617]\n"
     ]
    },
    {
     "name": "stdout",
     "output_type": "stream",
     "text": [
      "\t\tAvg training loss: 0.549438\tAvg validation loss: 0.666713\n"
     ]
    },
    {
     "name": "stderr",
     "output_type": "stream",
     "text": [
      "Epoch [32/100]: 100%|██████████| 196/196 [00:15<00:00, 12.28it/s, acc=0.812, loss=0.526]\n"
     ]
    },
    {
     "name": "stdout",
     "output_type": "stream",
     "text": [
      "\t\tAvg training loss: 0.532994\tAvg validation loss: 0.633087\n",
      "\t\tvalid_loss decreased (0.633597 --> 0.633087)  saving model...\n"
     ]
    },
    {
     "name": "stderr",
     "output_type": "stream",
     "text": [
      "Epoch [33/100]: 100%|██████████| 196/196 [00:15<00:00, 12.28it/s, acc=0.818, loss=0.538]\n"
     ]
    },
    {
     "name": "stdout",
     "output_type": "stream",
     "text": [
      "\t\tAvg training loss: 0.518254\tAvg validation loss: 0.653721\n"
     ]
    },
    {
     "name": "stderr",
     "output_type": "stream",
     "text": [
      "Epoch [34/100]: 100%|██████████| 196/196 [00:16<00:00, 12.22it/s, acc=0.821, loss=0.342]\n"
     ]
    },
    {
     "name": "stdout",
     "output_type": "stream",
     "text": [
      "\t\tAvg training loss: 0.515336\tAvg validation loss: 0.651032\n"
     ]
    },
    {
     "name": "stderr",
     "output_type": "stream",
     "text": [
      "Epoch [35/100]: 100%|██████████| 196/196 [00:16<00:00, 12.24it/s, acc=0.825, loss=0.706]\n"
     ]
    },
    {
     "name": "stdout",
     "output_type": "stream",
     "text": [
      "\t\tAvg training loss: 0.497076\tAvg validation loss: 0.613925\n",
      "\t\tvalid_loss decreased (0.633087 --> 0.613925)  saving model...\n"
     ]
    },
    {
     "name": "stderr",
     "output_type": "stream",
     "text": [
      "Epoch [36/100]: 100%|██████████| 196/196 [00:15<00:00, 12.37it/s, acc=0.836, loss=0.465]\n"
     ]
    },
    {
     "name": "stdout",
     "output_type": "stream",
     "text": [
      "\t\tAvg training loss: 0.470076\tAvg validation loss: 0.636088\n"
     ]
    },
    {
     "name": "stderr",
     "output_type": "stream",
     "text": [
      "Epoch [37/100]: 100%|██████████| 196/196 [00:15<00:00, 12.26it/s, acc=0.84, loss=0.271] \n"
     ]
    },
    {
     "name": "stdout",
     "output_type": "stream",
     "text": [
      "\t\tAvg training loss: 0.454538\tAvg validation loss: 0.637036\n"
     ]
    },
    {
     "name": "stderr",
     "output_type": "stream",
     "text": [
      "Epoch [38/100]: 100%|██████████| 196/196 [00:15<00:00, 12.27it/s, acc=0.842, loss=0.412]\n"
     ]
    },
    {
     "name": "stdout",
     "output_type": "stream",
     "text": [
      "\t\tAvg training loss: 0.443841\tAvg validation loss: 0.629808\n"
     ]
    },
    {
     "name": "stderr",
     "output_type": "stream",
     "text": [
      "Epoch [39/100]: 100%|██████████| 196/196 [00:16<00:00, 12.23it/s, acc=0.847, loss=0.417]\n"
     ]
    },
    {
     "name": "stdout",
     "output_type": "stream",
     "text": [
      "\t\tAvg training loss: 0.433739\tAvg validation loss: 0.619434\n"
     ]
    },
    {
     "name": "stderr",
     "output_type": "stream",
     "text": [
      "Epoch [40/100]: 100%|██████████| 196/196 [00:15<00:00, 12.27it/s, acc=0.851, loss=0.486]\n"
     ]
    },
    {
     "name": "stdout",
     "output_type": "stream",
     "text": [
      "\t\tAvg training loss: 0.424321\tAvg validation loss: 0.621624\n"
     ]
    },
    {
     "name": "stderr",
     "output_type": "stream",
     "text": [
      "Epoch [41/100]: 100%|██████████| 196/196 [00:15<00:00, 12.30it/s, acc=0.858, loss=0.312]\n"
     ]
    },
    {
     "name": "stdout",
     "output_type": "stream",
     "text": [
      "\t\tAvg training loss: 0.404732\tAvg validation loss: 0.683103\n",
      "Epoch    41: reducing learning rate of group 0 to 3.3333e-03.\n"
     ]
    },
    {
     "name": "stderr",
     "output_type": "stream",
     "text": [
      "Epoch [42/100]: 100%|██████████| 196/196 [00:16<00:00, 12.09it/s, acc=0.891, loss=0.325]\n"
     ]
    },
    {
     "name": "stdout",
     "output_type": "stream",
     "text": [
      "\t\tAvg training loss: 0.316662\tAvg validation loss: 0.595299\n",
      "\t\tvalid_loss decreased (0.613925 --> 0.595299)  saving model...\n"
     ]
    },
    {
     "name": "stderr",
     "output_type": "stream",
     "text": [
      "Epoch [43/100]: 100%|██████████| 196/196 [00:16<00:00, 12.16it/s, acc=0.899, loss=0.354]\n"
     ]
    },
    {
     "name": "stdout",
     "output_type": "stream",
     "text": [
      "\t\tAvg training loss: 0.289136\tAvg validation loss: 0.618027\n"
     ]
    },
    {
     "name": "stderr",
     "output_type": "stream",
     "text": [
      "Epoch [44/100]: 100%|██████████| 196/196 [00:16<00:00, 12.10it/s, acc=0.907, loss=0.359]\n"
     ]
    },
    {
     "name": "stdout",
     "output_type": "stream",
     "text": [
      "\t\tAvg training loss: 0.271292\tAvg validation loss: 0.622040\n"
     ]
    },
    {
     "name": "stderr",
     "output_type": "stream",
     "text": [
      "Epoch [45/100]: 100%|██████████| 196/196 [00:16<00:00, 12.10it/s, acc=0.909, loss=0.217]\n"
     ]
    },
    {
     "name": "stdout",
     "output_type": "stream",
     "text": [
      "\t\tAvg training loss: 0.259222\tAvg validation loss: 0.637466\n"
     ]
    },
    {
     "name": "stderr",
     "output_type": "stream",
     "text": [
      "Epoch [46/100]: 100%|██████████| 196/196 [00:16<00:00, 12.05it/s, acc=0.912, loss=0.336]\n"
     ]
    },
    {
     "name": "stdout",
     "output_type": "stream",
     "text": [
      "\t\tAvg training loss: 0.251543\tAvg validation loss: 0.633997\n"
     ]
    },
    {
     "name": "stderr",
     "output_type": "stream",
     "text": [
      "Epoch [47/100]: 100%|██████████| 196/196 [00:15<00:00, 12.47it/s, acc=0.914, loss=0.165]\n"
     ]
    },
    {
     "name": "stdout",
     "output_type": "stream",
     "text": [
      "\t\tAvg training loss: 0.245588\tAvg validation loss: 0.659937\n"
     ]
    },
    {
     "name": "stderr",
     "output_type": "stream",
     "text": [
      "Epoch [48/100]: 100%|██████████| 196/196 [00:15<00:00, 12.32it/s, acc=0.918, loss=0.266]\n"
     ]
    },
    {
     "name": "stdout",
     "output_type": "stream",
     "text": [
      "\t\tAvg training loss: 0.235389\tAvg validation loss: 0.669457\n",
      "Epoch    48: reducing learning rate of group 0 to 1.1111e-03.\n"
     ]
    },
    {
     "name": "stderr",
     "output_type": "stream",
     "text": [
      "Epoch [49/100]: 100%|██████████| 196/196 [00:16<00:00, 12.21it/s, acc=0.931, loss=0.166]\n"
     ]
    },
    {
     "name": "stdout",
     "output_type": "stream",
     "text": [
      "\t\tAvg training loss: 0.201086\tAvg validation loss: 0.658097\n"
     ]
    },
    {
     "name": "stderr",
     "output_type": "stream",
     "text": [
      "Epoch [50/100]: 100%|██████████| 196/196 [00:15<00:00, 12.34it/s, acc=0.937, loss=0.184]\n"
     ]
    },
    {
     "name": "stdout",
     "output_type": "stream",
     "text": [
      "\t\tAvg training loss: 0.184651\tAvg validation loss: 0.673658\n"
     ]
    },
    {
     "name": "stderr",
     "output_type": "stream",
     "text": [
      "Epoch [51/100]: 100%|██████████| 196/196 [00:15<00:00, 12.27it/s, acc=0.936, loss=0.176]\n"
     ]
    },
    {
     "name": "stdout",
     "output_type": "stream",
     "text": [
      "\t\tAvg training loss: 0.183704\tAvg validation loss: 0.661796\n"
     ]
    },
    {
     "name": "stderr",
     "output_type": "stream",
     "text": [
      "Epoch [52/100]: 100%|██████████| 196/196 [00:15<00:00, 12.32it/s, acc=0.938, loss=0.277] \n"
     ]
    },
    {
     "name": "stdout",
     "output_type": "stream",
     "text": [
      "\t\tAvg training loss: 0.177718\tAvg validation loss: 0.680935\n"
     ]
    },
    {
     "name": "stderr",
     "output_type": "stream",
     "text": [
      "Epoch [53/100]: 100%|██████████| 196/196 [00:15<00:00, 12.28it/s, acc=0.943, loss=0.22]  \n"
     ]
    },
    {
     "name": "stdout",
     "output_type": "stream",
     "text": [
      "\t\tAvg training loss: 0.167892\tAvg validation loss: 0.675032\n"
     ]
    },
    {
     "name": "stderr",
     "output_type": "stream",
     "text": [
      "Epoch [54/100]: 100%|██████████| 196/196 [00:15<00:00, 12.32it/s, acc=0.943, loss=0.149] \n"
     ]
    },
    {
     "name": "stdout",
     "output_type": "stream",
     "text": [
      "\t\tAvg training loss: 0.168159\tAvg validation loss: 0.683197\n",
      "Epoch    54: reducing learning rate of group 0 to 3.7037e-04.\n"
     ]
    },
    {
     "name": "stderr",
     "output_type": "stream",
     "text": [
      "Epoch [55/100]: 100%|██████████| 196/196 [00:15<00:00, 12.30it/s, acc=0.947, loss=0.157]\n"
     ]
    },
    {
     "name": "stdout",
     "output_type": "stream",
     "text": [
      "\t\tAvg training loss: 0.154067\tAvg validation loss: 0.684884\n"
     ]
    },
    {
     "name": "stderr",
     "output_type": "stream",
     "text": [
      "Epoch [56/100]: 100%|██████████| 196/196 [00:15<00:00, 12.31it/s, acc=0.949, loss=0.195] \n"
     ]
    },
    {
     "name": "stdout",
     "output_type": "stream",
     "text": [
      "\t\tAvg training loss: 0.149226\tAvg validation loss: 0.687767\n"
     ]
    },
    {
     "name": "stderr",
     "output_type": "stream",
     "text": [
      "Epoch [57/100]: 100%|██████████| 196/196 [00:16<00:00, 12.25it/s, acc=0.949, loss=0.188] \n"
     ]
    },
    {
     "name": "stdout",
     "output_type": "stream",
     "text": [
      "\t\tAvg training loss: 0.148785\tAvg validation loss: 0.681762\n"
     ]
    },
    {
     "name": "stderr",
     "output_type": "stream",
     "text": [
      "Epoch [58/100]: 100%|██████████| 196/196 [00:15<00:00, 12.25it/s, acc=0.949, loss=0.164] \n"
     ]
    },
    {
     "name": "stdout",
     "output_type": "stream",
     "text": [
      "\t\tAvg training loss: 0.146043\tAvg validation loss: 0.688188\n"
     ]
    },
    {
     "name": "stderr",
     "output_type": "stream",
     "text": [
      "Epoch [59/100]: 100%|██████████| 196/196 [00:15<00:00, 12.26it/s, acc=0.952, loss=0.0775]\n"
     ]
    },
    {
     "name": "stdout",
     "output_type": "stream",
     "text": [
      "\t\tAvg training loss: 0.145272\tAvg validation loss: 0.694873\n"
     ]
    },
    {
     "name": "stderr",
     "output_type": "stream",
     "text": [
      "Epoch [60/100]: 100%|██████████| 196/196 [00:15<00:00, 12.27it/s, acc=0.951, loss=0.101] \n"
     ]
    },
    {
     "name": "stdout",
     "output_type": "stream",
     "text": [
      "\t\tAvg training loss: 0.143502\tAvg validation loss: 0.689426\n",
      "Epoch    60: reducing learning rate of group 0 to 1.2346e-04.\n"
     ]
    },
    {
     "name": "stderr",
     "output_type": "stream",
     "text": [
      "Epoch [61/100]: 100%|██████████| 196/196 [00:15<00:00, 12.28it/s, acc=0.953, loss=0.11]  \n"
     ]
    },
    {
     "name": "stdout",
     "output_type": "stream",
     "text": [
      "\t\tAvg training loss: 0.139926\tAvg validation loss: 0.694665\n"
     ]
    },
    {
     "name": "stderr",
     "output_type": "stream",
     "text": [
      "Epoch [62/100]: 100%|██████████| 196/196 [00:15<00:00, 12.37it/s, acc=0.953, loss=0.101] \n"
     ]
    },
    {
     "name": "stdout",
     "output_type": "stream",
     "text": [
      "\t\tAvg training loss: 0.140183\tAvg validation loss: 0.694812\n"
     ]
    },
    {
     "name": "stderr",
     "output_type": "stream",
     "text": [
      "Epoch [63/100]: 100%|██████████| 196/196 [00:15<00:00, 12.54it/s, acc=0.954, loss=0.143] \n"
     ]
    },
    {
     "name": "stdout",
     "output_type": "stream",
     "text": [
      "\t\tAvg training loss: 0.134946\tAvg validation loss: 0.700557\n"
     ]
    },
    {
     "name": "stderr",
     "output_type": "stream",
     "text": [
      "Epoch [64/100]: 100%|██████████| 196/196 [00:15<00:00, 12.42it/s, acc=0.954, loss=0.0613]\n"
     ]
    },
    {
     "name": "stdout",
     "output_type": "stream",
     "text": [
      "\t\tAvg training loss: 0.135954\tAvg validation loss: 0.701460\n"
     ]
    },
    {
     "name": "stderr",
     "output_type": "stream",
     "text": [
      "Epoch [65/100]: 100%|██████████| 196/196 [00:15<00:00, 12.49it/s, acc=0.955, loss=0.122] \n"
     ]
    },
    {
     "name": "stdout",
     "output_type": "stream",
     "text": [
      "\t\tAvg training loss: 0.132046\tAvg validation loss: 0.704491\n"
     ]
    },
    {
     "name": "stderr",
     "output_type": "stream",
     "text": [
      "Epoch [66/100]: 100%|██████████| 196/196 [00:15<00:00, 12.35it/s, acc=0.954, loss=0.0547]\n"
     ]
    },
    {
     "name": "stdout",
     "output_type": "stream",
     "text": [
      "\t\tAvg training loss: 0.133636\tAvg validation loss: 0.704104\n",
      "Epoch    66: reducing learning rate of group 0 to 4.1152e-05.\n"
     ]
    },
    {
     "name": "stderr",
     "output_type": "stream",
     "text": [
      "Epoch [67/100]: 100%|██████████| 196/196 [00:15<00:00, 12.33it/s, acc=0.955, loss=0.164] \n"
     ]
    },
    {
     "name": "stdout",
     "output_type": "stream",
     "text": [
      "\t\tAvg training loss: 0.132778\tAvg validation loss: 0.707052\n"
     ]
    },
    {
     "name": "stderr",
     "output_type": "stream",
     "text": [
      "Epoch [68/100]: 100%|██████████| 196/196 [00:15<00:00, 12.44it/s, acc=0.954, loss=0.116] \n"
     ]
    },
    {
     "name": "stdout",
     "output_type": "stream",
     "text": [
      "\t\tAvg training loss: 0.137146\tAvg validation loss: 0.706685\n"
     ]
    },
    {
     "name": "stderr",
     "output_type": "stream",
     "text": [
      "Epoch [69/100]: 100%|██████████| 196/196 [00:15<00:00, 12.45it/s, acc=0.955, loss=0.0761]\n"
     ]
    },
    {
     "name": "stdout",
     "output_type": "stream",
     "text": [
      "\t\tAvg training loss: 0.133628\tAvg validation loss: 0.707646\n"
     ]
    },
    {
     "name": "stderr",
     "output_type": "stream",
     "text": [
      "Epoch [70/100]: 100%|██████████| 196/196 [00:15<00:00, 12.45it/s, acc=0.954, loss=0.12]  \n"
     ]
    },
    {
     "name": "stdout",
     "output_type": "stream",
     "text": [
      "\t\tAvg training loss: 0.135885\tAvg validation loss: 0.707532\n"
     ]
    },
    {
     "name": "stderr",
     "output_type": "stream",
     "text": [
      "Epoch [71/100]: 100%|██████████| 196/196 [00:15<00:00, 12.51it/s, acc=0.955, loss=0.0871]\n"
     ]
    },
    {
     "name": "stdout",
     "output_type": "stream",
     "text": [
      "\t\tAvg training loss: 0.133167\tAvg validation loss: 0.707733\n"
     ]
    },
    {
     "name": "stderr",
     "output_type": "stream",
     "text": [
      "Epoch [72/100]: 100%|██████████| 196/196 [00:15<00:00, 12.50it/s, acc=0.955, loss=0.129] \n"
     ]
    },
    {
     "name": "stdout",
     "output_type": "stream",
     "text": [
      "\t\tAvg training loss: 0.132515\tAvg validation loss: 0.707755\n",
      "Epoch    72: reducing learning rate of group 0 to 1.3717e-05.\n"
     ]
    },
    {
     "name": "stderr",
     "output_type": "stream",
     "text": [
      "Epoch [73/100]: 100%|██████████| 196/196 [00:15<00:00, 12.52it/s, acc=0.956, loss=0.157] \n"
     ]
    },
    {
     "name": "stdout",
     "output_type": "stream",
     "text": [
      "\t\tAvg training loss: 0.129721\tAvg validation loss: 0.707928\n"
     ]
    },
    {
     "name": "stderr",
     "output_type": "stream",
     "text": [
      "Epoch [74/100]: 100%|██████████| 196/196 [00:15<00:00, 12.28it/s, acc=0.956, loss=0.132] \n"
     ]
    },
    {
     "name": "stdout",
     "output_type": "stream",
     "text": [
      "\t\tAvg training loss: 0.131171\tAvg validation loss: 0.707530\n"
     ]
    },
    {
     "name": "stderr",
     "output_type": "stream",
     "text": [
      "Epoch [75/100]: 100%|██████████| 196/196 [00:15<00:00, 12.32it/s, acc=0.956, loss=0.0863]\n"
     ]
    },
    {
     "name": "stdout",
     "output_type": "stream",
     "text": [
      "\t\tAvg training loss: 0.128624\tAvg validation loss: 0.708425\n"
     ]
    },
    {
     "name": "stderr",
     "output_type": "stream",
     "text": [
      "Epoch [76/100]: 100%|██████████| 196/196 [00:16<00:00, 12.24it/s, acc=0.956, loss=0.0498]\n"
     ]
    },
    {
     "name": "stdout",
     "output_type": "stream",
     "text": [
      "\t\tAvg training loss: 0.132584\tAvg validation loss: 0.708921\n"
     ]
    },
    {
     "name": "stderr",
     "output_type": "stream",
     "text": [
      "Epoch [77/100]: 100%|██████████| 196/196 [00:15<00:00, 12.27it/s, acc=0.956, loss=0.108] \n"
     ]
    },
    {
     "name": "stdout",
     "output_type": "stream",
     "text": [
      "\t\tAvg training loss: 0.132696\tAvg validation loss: 0.708448\n"
     ]
    },
    {
     "name": "stderr",
     "output_type": "stream",
     "text": [
      "Epoch [78/100]: 100%|██████████| 196/196 [00:15<00:00, 12.26it/s, acc=0.954, loss=0.148] \n"
     ]
    },
    {
     "name": "stdout",
     "output_type": "stream",
     "text": [
      "\t\tAvg training loss: 0.134313\tAvg validation loss: 0.708942\n",
      "Epoch    78: reducing learning rate of group 0 to 4.5725e-06.\n"
     ]
    },
    {
     "name": "stderr",
     "output_type": "stream",
     "text": [
      "Epoch [79/100]: 100%|██████████| 196/196 [00:15<00:00, 12.28it/s, acc=0.957, loss=0.155] \n"
     ]
    },
    {
     "name": "stdout",
     "output_type": "stream",
     "text": [
      "\t\tAvg training loss: 0.128795\tAvg validation loss: 0.708640\n"
     ]
    },
    {
     "name": "stderr",
     "output_type": "stream",
     "text": [
      "Epoch [80/100]: 100%|██████████| 196/196 [00:15<00:00, 12.37it/s, acc=0.957, loss=0.185] \n"
     ]
    },
    {
     "name": "stdout",
     "output_type": "stream",
     "text": [
      "\t\tAvg training loss: 0.128768\tAvg validation loss: 0.708975\n"
     ]
    },
    {
     "name": "stderr",
     "output_type": "stream",
     "text": [
      "Epoch [81/100]: 100%|██████████| 196/196 [00:15<00:00, 12.48it/s, acc=0.957, loss=0.198] \n"
     ]
    },
    {
     "name": "stdout",
     "output_type": "stream",
     "text": [
      "\t\tAvg training loss: 0.128126\tAvg validation loss: 0.708955\n"
     ]
    },
    {
     "name": "stderr",
     "output_type": "stream",
     "text": [
      "Epoch [82/100]: 100%|██████████| 196/196 [00:15<00:00, 12.47it/s, acc=0.954, loss=0.091] \n"
     ]
    },
    {
     "name": "stdout",
     "output_type": "stream",
     "text": [
      "\t\tAvg training loss: 0.132596\tAvg validation loss: 0.708822\n"
     ]
    },
    {
     "name": "stderr",
     "output_type": "stream",
     "text": [
      "Epoch [83/100]: 100%|██████████| 196/196 [00:15<00:00, 12.43it/s, acc=0.955, loss=0.168] \n"
     ]
    },
    {
     "name": "stdout",
     "output_type": "stream",
     "text": [
      "\t\tAvg training loss: 0.132775\tAvg validation loss: 0.708973\n"
     ]
    },
    {
     "name": "stderr",
     "output_type": "stream",
     "text": [
      "Epoch [84/100]: 100%|██████████| 196/196 [00:15<00:00, 12.38it/s, acc=0.956, loss=0.216] \n"
     ]
    },
    {
     "name": "stdout",
     "output_type": "stream",
     "text": [
      "\t\tAvg training loss: 0.131359\tAvg validation loss: 0.709072\n",
      "Epoch    84: reducing learning rate of group 0 to 1.5242e-06.\n"
     ]
    },
    {
     "name": "stderr",
     "output_type": "stream",
     "text": [
      "Epoch [85/100]: 100%|██████████| 196/196 [00:15<00:00, 12.51it/s, acc=0.955, loss=0.123] \n"
     ]
    },
    {
     "name": "stdout",
     "output_type": "stream",
     "text": [
      "\t\tAvg training loss: 0.134775\tAvg validation loss: 0.709098\n"
     ]
    },
    {
     "name": "stderr",
     "output_type": "stream",
     "text": [
      "Epoch [86/100]: 100%|██████████| 196/196 [00:15<00:00, 12.55it/s, acc=0.955, loss=0.106] \n"
     ]
    },
    {
     "name": "stdout",
     "output_type": "stream",
     "text": [
      "\t\tAvg training loss: 0.132311\tAvg validation loss: 0.708925\n"
     ]
    },
    {
     "name": "stderr",
     "output_type": "stream",
     "text": [
      "Epoch [87/100]: 100%|██████████| 196/196 [00:15<00:00, 12.44it/s, acc=0.955, loss=0.175] \n"
     ]
    },
    {
     "name": "stdout",
     "output_type": "stream",
     "text": [
      "\t\tAvg training loss: 0.134210\tAvg validation loss: 0.708861\n"
     ]
    },
    {
     "name": "stderr",
     "output_type": "stream",
     "text": [
      "Epoch [88/100]: 100%|██████████| 196/196 [00:15<00:00, 12.42it/s, acc=0.956, loss=0.184] \n"
     ]
    },
    {
     "name": "stdout",
     "output_type": "stream",
     "text": [
      "\t\tAvg training loss: 0.130171\tAvg validation loss: 0.708953\n"
     ]
    },
    {
     "name": "stderr",
     "output_type": "stream",
     "text": [
      "Epoch [89/100]: 100%|██████████| 196/196 [00:15<00:00, 12.46it/s, acc=0.956, loss=0.126] \n"
     ]
    },
    {
     "name": "stdout",
     "output_type": "stream",
     "text": [
      "\t\tAvg training loss: 0.131337\tAvg validation loss: 0.708722\n"
     ]
    },
    {
     "name": "stderr",
     "output_type": "stream",
     "text": [
      "Epoch [90/100]: 100%|██████████| 196/196 [00:15<00:00, 12.47it/s, acc=0.956, loss=0.0546]\n"
     ]
    },
    {
     "name": "stdout",
     "output_type": "stream",
     "text": [
      "\t\tAvg training loss: 0.130613\tAvg validation loss: 0.708606\n",
      "Epoch    90: reducing learning rate of group 0 to 5.0805e-07.\n"
     ]
    },
    {
     "name": "stderr",
     "output_type": "stream",
     "text": [
      "Epoch [91/100]: 100%|██████████| 196/196 [00:15<00:00, 12.38it/s, acc=0.956, loss=0.121] \n"
     ]
    },
    {
     "name": "stdout",
     "output_type": "stream",
     "text": [
      "\t\tAvg training loss: 0.131995\tAvg validation loss: 0.708611\n"
     ]
    },
    {
     "name": "stderr",
     "output_type": "stream",
     "text": [
      "Epoch [92/100]: 100%|██████████| 196/196 [00:15<00:00, 12.45it/s, acc=0.956, loss=0.0936]\n"
     ]
    },
    {
     "name": "stdout",
     "output_type": "stream",
     "text": [
      "\t\tAvg training loss: 0.130813\tAvg validation loss: 0.708654\n"
     ]
    },
    {
     "name": "stderr",
     "output_type": "stream",
     "text": [
      "Epoch [93/100]: 100%|██████████| 196/196 [00:15<00:00, 12.31it/s, acc=0.956, loss=0.0954]\n"
     ]
    },
    {
     "name": "stdout",
     "output_type": "stream",
     "text": [
      "\t\tAvg training loss: 0.130342\tAvg validation loss: 0.708667\n"
     ]
    },
    {
     "name": "stderr",
     "output_type": "stream",
     "text": [
      "Epoch [94/100]: 100%|██████████| 196/196 [00:15<00:00, 12.47it/s, acc=0.956, loss=0.0652]\n"
     ]
    },
    {
     "name": "stdout",
     "output_type": "stream",
     "text": [
      "\t\tAvg training loss: 0.130590\tAvg validation loss: 0.708684\n"
     ]
    },
    {
     "name": "stderr",
     "output_type": "stream",
     "text": [
      "Epoch [95/100]: 100%|██████████| 196/196 [00:15<00:00, 12.40it/s, acc=0.956, loss=0.145] \n"
     ]
    },
    {
     "name": "stdout",
     "output_type": "stream",
     "text": [
      "\t\tAvg training loss: 0.130883\tAvg validation loss: 0.708705\n"
     ]
    },
    {
     "name": "stderr",
     "output_type": "stream",
     "text": [
      "Epoch [96/100]: 100%|██████████| 196/196 [00:15<00:00, 12.47it/s, acc=0.956, loss=0.0992]\n"
     ]
    },
    {
     "name": "stdout",
     "output_type": "stream",
     "text": [
      "\t\tAvg training loss: 0.130142\tAvg validation loss: 0.708688\n",
      "Epoch    96: reducing learning rate of group 0 to 1.6935e-07.\n"
     ]
    },
    {
     "name": "stderr",
     "output_type": "stream",
     "text": [
      "Epoch [97/100]: 100%|██████████| 196/196 [00:15<00:00, 12.48it/s, acc=0.956, loss=0.124] \n"
     ]
    },
    {
     "name": "stdout",
     "output_type": "stream",
     "text": [
      "\t\tAvg training loss: 0.132102\tAvg validation loss: 0.708701\n"
     ]
    },
    {
     "name": "stderr",
     "output_type": "stream",
     "text": [
      "Epoch [98/100]: 100%|██████████| 196/196 [00:15<00:00, 12.36it/s, acc=0.956, loss=0.121] \n"
     ]
    },
    {
     "name": "stdout",
     "output_type": "stream",
     "text": [
      "\t\tAvg training loss: 0.131982\tAvg validation loss: 0.708700\n"
     ]
    },
    {
     "name": "stderr",
     "output_type": "stream",
     "text": [
      "Epoch [99/100]: 100%|██████████| 196/196 [00:15<00:00, 12.47it/s, acc=0.955, loss=0.0764]\n"
     ]
    },
    {
     "name": "stdout",
     "output_type": "stream",
     "text": [
      "\t\tAvg training loss: 0.131170\tAvg validation loss: 0.708705\n"
     ]
    },
    {
     "name": "stderr",
     "output_type": "stream",
     "text": [
      "Epoch [100/100]: 100%|██████████| 196/196 [00:15<00:00, 12.42it/s, acc=0.957, loss=0.248] \n"
     ]
    },
    {
     "name": "stdout",
     "output_type": "stream",
     "text": [
      "\t\tAvg training loss: 0.130057\tAvg validation loss: 0.708710\n"
     ]
    }
   ],
   "source": [
    "train(my_model, 'my_model', num_epochs=100)"
   ]
  },
  {
   "cell_type": "markdown",
   "metadata": {},
   "source": [
    "The final accuracy is about 0.9."
   ]
  },
  {
   "cell_type": "markdown",
   "metadata": {},
   "source": [
    "## Question 6 Using Pretrained Models "
   ]
  },
  {
   "cell_type": "code",
   "execution_count": 41,
   "metadata": {},
   "outputs": [
    {
     "name": "stderr",
     "output_type": "stream",
     "text": [
      "Using cache found in /home/murez/.cache/torch/hub/rwightman_pytorch-image-models_master\n"
     ]
    }
   ],
   "source": [
    "pretrained_model = torch.hub.load(\"rwightman/pytorch-image-models\", \"repvgg_a2\", pretrained=True)\n",
    "pretrained_model.head.fc =  nn.Linear(in_features=1408, out_features=10, bias=True)"
   ]
  },
  {
   "cell_type": "markdown",
   "metadata": {},
   "source": [
    "We use `repvgg` here, **MAKE VGG GREAT AGAIN**., and just replace the last out feature into 10."
   ]
  },
  {
   "cell_type": "code",
   "execution_count": 42,
   "metadata": {},
   "outputs": [
    {
     "name": "stderr",
     "output_type": "stream",
     "text": [
      "Epoch [ 1/30]: 100%|██████████| 196/196 [00:15<00:00, 12.50it/s, acc=0.591, loss=0.976]\n"
     ]
    },
    {
     "name": "stdout",
     "output_type": "stream",
     "text": [
      "\t\tAvg training loss: 1.227651\tAvg validation loss: 0.787425\n",
      "\t\tvalid_loss decreased (inf --> 0.787425)  saving model...\n"
     ]
    },
    {
     "name": "stderr",
     "output_type": "stream",
     "text": [
      "Epoch [ 2/30]: 100%|██████████| 196/196 [00:15<00:00, 12.35it/s, acc=0.728, loss=0.835]\n"
     ]
    },
    {
     "name": "stdout",
     "output_type": "stream",
     "text": [
      "\t\tAvg training loss: 0.793931\tAvg validation loss: 0.662952\n",
      "\t\tvalid_loss decreased (0.787425 --> 0.662952)  saving model...\n"
     ]
    },
    {
     "name": "stderr",
     "output_type": "stream",
     "text": [
      "Epoch [ 3/30]: 100%|██████████| 196/196 [00:15<00:00, 12.33it/s, acc=0.768, loss=0.709]\n"
     ]
    },
    {
     "name": "stdout",
     "output_type": "stream",
     "text": [
      "\t\tAvg training loss: 0.665193\tAvg validation loss: 0.588600\n",
      "\t\tvalid_loss decreased (0.662952 --> 0.588600)  saving model...\n"
     ]
    },
    {
     "name": "stderr",
     "output_type": "stream",
     "text": [
      "Epoch [ 4/30]: 100%|██████████| 196/196 [00:15<00:00, 12.28it/s, acc=0.793, loss=0.478]\n"
     ]
    },
    {
     "name": "stdout",
     "output_type": "stream",
     "text": [
      "\t\tAvg training loss: 0.592783\tAvg validation loss: 0.552312\n",
      "\t\tvalid_loss decreased (0.588600 --> 0.552312)  saving model...\n"
     ]
    },
    {
     "name": "stderr",
     "output_type": "stream",
     "text": [
      "Epoch [ 5/30]: 100%|██████████| 196/196 [00:16<00:00, 12.19it/s, acc=0.81, loss=0.585] \n"
     ]
    },
    {
     "name": "stdout",
     "output_type": "stream",
     "text": [
      "\t\tAvg training loss: 0.544539\tAvg validation loss: 0.701586\n"
     ]
    },
    {
     "name": "stderr",
     "output_type": "stream",
     "text": [
      "Epoch [ 6/30]: 100%|██████████| 196/196 [00:16<00:00, 12.21it/s, acc=0.823, loss=0.506]\n"
     ]
    },
    {
     "name": "stdout",
     "output_type": "stream",
     "text": [
      "\t\tAvg training loss: 0.506220\tAvg validation loss: 0.547950\n",
      "\t\tvalid_loss decreased (0.552312 --> 0.547950)  saving model...\n"
     ]
    },
    {
     "name": "stderr",
     "output_type": "stream",
     "text": [
      "Epoch [ 7/30]: 100%|██████████| 196/196 [00:15<00:00, 12.38it/s, acc=0.833, loss=0.584]\n"
     ]
    },
    {
     "name": "stdout",
     "output_type": "stream",
     "text": [
      "\t\tAvg training loss: 0.478373\tAvg validation loss: 0.514607\n",
      "\t\tvalid_loss decreased (0.547950 --> 0.514607)  saving model...\n"
     ]
    },
    {
     "name": "stderr",
     "output_type": "stream",
     "text": [
      "Epoch [ 8/30]: 100%|██████████| 196/196 [00:15<00:00, 12.43it/s, acc=0.841, loss=0.379]\n"
     ]
    },
    {
     "name": "stdout",
     "output_type": "stream",
     "text": [
      "\t\tAvg training loss: 0.456153\tAvg validation loss: 0.535470\n"
     ]
    },
    {
     "name": "stderr",
     "output_type": "stream",
     "text": [
      "Epoch [ 9/30]: 100%|██████████| 196/196 [00:15<00:00, 12.53it/s, acc=0.847, loss=0.393]\n"
     ]
    },
    {
     "name": "stdout",
     "output_type": "stream",
     "text": [
      "\t\tAvg training loss: 0.434493\tAvg validation loss: 0.495212\n",
      "\t\tvalid_loss decreased (0.514607 --> 0.495212)  saving model...\n"
     ]
    },
    {
     "name": "stderr",
     "output_type": "stream",
     "text": [
      "Epoch [10/30]: 100%|██████████| 196/196 [00:15<00:00, 12.40it/s, acc=0.854, loss=0.455]\n"
     ]
    },
    {
     "name": "stdout",
     "output_type": "stream",
     "text": [
      "\t\tAvg training loss: 0.412063\tAvg validation loss: 0.501207\n"
     ]
    },
    {
     "name": "stderr",
     "output_type": "stream",
     "text": [
      "Epoch [11/30]: 100%|██████████| 196/196 [00:15<00:00, 12.38it/s, acc=0.86, loss=0.586] \n"
     ]
    },
    {
     "name": "stdout",
     "output_type": "stream",
     "text": [
      "\t\tAvg training loss: 0.394612\tAvg validation loss: 0.483838\n",
      "\t\tvalid_loss decreased (0.495212 --> 0.483838)  saving model...\n"
     ]
    },
    {
     "name": "stderr",
     "output_type": "stream",
     "text": [
      "Epoch [12/30]: 100%|██████████| 196/196 [00:15<00:00, 12.39it/s, acc=0.863, loss=0.543]\n"
     ]
    },
    {
     "name": "stdout",
     "output_type": "stream",
     "text": [
      "\t\tAvg training loss: 0.387377\tAvg validation loss: 0.524250\n"
     ]
    },
    {
     "name": "stderr",
     "output_type": "stream",
     "text": [
      "Epoch [13/30]: 100%|██████████| 196/196 [00:15<00:00, 12.42it/s, acc=0.868, loss=0.298]\n"
     ]
    },
    {
     "name": "stdout",
     "output_type": "stream",
     "text": [
      "\t\tAvg training loss: 0.371358\tAvg validation loss: 0.491229\n"
     ]
    },
    {
     "name": "stderr",
     "output_type": "stream",
     "text": [
      "Epoch [14/30]: 100%|██████████| 196/196 [00:15<00:00, 12.42it/s, acc=0.876, loss=0.28] \n"
     ]
    },
    {
     "name": "stdout",
     "output_type": "stream",
     "text": [
      "\t\tAvg training loss: 0.355839\tAvg validation loss: 0.484775\n"
     ]
    },
    {
     "name": "stderr",
     "output_type": "stream",
     "text": [
      "Epoch [15/30]: 100%|██████████| 196/196 [00:15<00:00, 12.38it/s, acc=0.879, loss=0.338]\n"
     ]
    },
    {
     "name": "stdout",
     "output_type": "stream",
     "text": [
      "\t\tAvg training loss: 0.342613\tAvg validation loss: 0.517660\n"
     ]
    },
    {
     "name": "stderr",
     "output_type": "stream",
     "text": [
      "Epoch [16/30]: 100%|██████████| 196/196 [00:15<00:00, 12.51it/s, acc=0.885, loss=0.544]\n"
     ]
    },
    {
     "name": "stdout",
     "output_type": "stream",
     "text": [
      "\t\tAvg training loss: 0.325910\tAvg validation loss: 0.491063\n"
     ]
    },
    {
     "name": "stderr",
     "output_type": "stream",
     "text": [
      "Epoch [17/30]: 100%|██████████| 196/196 [00:15<00:00, 12.43it/s, acc=0.886, loss=0.491]\n"
     ]
    },
    {
     "name": "stdout",
     "output_type": "stream",
     "text": [
      "\t\tAvg training loss: 0.326113\tAvg validation loss: 0.489346\n",
      "Epoch    17: reducing learning rate of group 0 to 3.3333e-03.\n"
     ]
    },
    {
     "name": "stderr",
     "output_type": "stream",
     "text": [
      "Epoch [18/30]: 100%|██████████| 196/196 [00:15<00:00, 12.37it/s, acc=0.916, loss=0.144]\n"
     ]
    },
    {
     "name": "stdout",
     "output_type": "stream",
     "text": [
      "\t\tAvg training loss: 0.243831\tAvg validation loss: 0.436717\n",
      "\t\tvalid_loss decreased (0.483838 --> 0.436717)  saving model...\n"
     ]
    },
    {
     "name": "stderr",
     "output_type": "stream",
     "text": [
      "Epoch [19/30]: 100%|██████████| 196/196 [00:15<00:00, 12.40it/s, acc=0.927, loss=0.276]\n"
     ]
    },
    {
     "name": "stdout",
     "output_type": "stream",
     "text": [
      "\t\tAvg training loss: 0.204300\tAvg validation loss: 0.440560\n"
     ]
    },
    {
     "name": "stderr",
     "output_type": "stream",
     "text": [
      "Epoch [20/30]: 100%|██████████| 196/196 [00:15<00:00, 12.48it/s, acc=0.932, loss=0.362]\n"
     ]
    },
    {
     "name": "stdout",
     "output_type": "stream",
     "text": [
      "\t\tAvg training loss: 0.188359\tAvg validation loss: 0.468940\n"
     ]
    },
    {
     "name": "stderr",
     "output_type": "stream",
     "text": [
      "Epoch [21/30]: 100%|██████████| 196/196 [00:15<00:00, 12.40it/s, acc=0.936, loss=0.173]\n"
     ]
    },
    {
     "name": "stdout",
     "output_type": "stream",
     "text": [
      "\t\tAvg training loss: 0.181948\tAvg validation loss: 0.450491\n"
     ]
    },
    {
     "name": "stderr",
     "output_type": "stream",
     "text": [
      "Epoch [22/30]: 100%|██████████| 196/196 [00:15<00:00, 12.44it/s, acc=0.942, loss=0.157]\n"
     ]
    },
    {
     "name": "stdout",
     "output_type": "stream",
     "text": [
      "\t\tAvg training loss: 0.166671\tAvg validation loss: 0.448871\n"
     ]
    },
    {
     "name": "stderr",
     "output_type": "stream",
     "text": [
      "Epoch [23/30]: 100%|██████████| 196/196 [00:15<00:00, 12.48it/s, acc=0.946, loss=0.149] \n"
     ]
    },
    {
     "name": "stdout",
     "output_type": "stream",
     "text": [
      "\t\tAvg training loss: 0.156105\tAvg validation loss: 0.462641\n"
     ]
    },
    {
     "name": "stderr",
     "output_type": "stream",
     "text": [
      "Epoch [24/30]: 100%|██████████| 196/196 [00:15<00:00, 12.43it/s, acc=0.946, loss=0.247] \n"
     ]
    },
    {
     "name": "stdout",
     "output_type": "stream",
     "text": [
      "\t\tAvg training loss: 0.153434\tAvg validation loss: 0.477077\n",
      "Epoch    24: reducing learning rate of group 0 to 1.1111e-03.\n"
     ]
    },
    {
     "name": "stderr",
     "output_type": "stream",
     "text": [
      "Epoch [25/30]: 100%|██████████| 196/196 [00:15<00:00, 12.38it/s, acc=0.956, loss=0.149] \n"
     ]
    },
    {
     "name": "stdout",
     "output_type": "stream",
     "text": [
      "\t\tAvg training loss: 0.126181\tAvg validation loss: 0.460277\n"
     ]
    },
    {
     "name": "stderr",
     "output_type": "stream",
     "text": [
      "Epoch [26/30]: 100%|██████████| 196/196 [00:15<00:00, 12.46it/s, acc=0.958, loss=0.215] \n"
     ]
    },
    {
     "name": "stdout",
     "output_type": "stream",
     "text": [
      "\t\tAvg training loss: 0.118179\tAvg validation loss: 0.456214\n"
     ]
    },
    {
     "name": "stderr",
     "output_type": "stream",
     "text": [
      "Epoch [27/30]: 100%|██████████| 196/196 [00:15<00:00, 12.42it/s, acc=0.961, loss=0.164] \n"
     ]
    },
    {
     "name": "stdout",
     "output_type": "stream",
     "text": [
      "\t\tAvg training loss: 0.111022\tAvg validation loss: 0.470804\n"
     ]
    },
    {
     "name": "stderr",
     "output_type": "stream",
     "text": [
      "Epoch [28/30]: 100%|██████████| 196/196 [00:15<00:00, 12.41it/s, acc=0.963, loss=0.13]  \n"
     ]
    },
    {
     "name": "stdout",
     "output_type": "stream",
     "text": [
      "\t\tAvg training loss: 0.106062\tAvg validation loss: 0.473246\n"
     ]
    },
    {
     "name": "stderr",
     "output_type": "stream",
     "text": [
      "Epoch [29/30]: 100%|██████████| 196/196 [00:15<00:00, 12.38it/s, acc=0.965, loss=0.14]  \n"
     ]
    },
    {
     "name": "stdout",
     "output_type": "stream",
     "text": [
      "\t\tAvg training loss: 0.099413\tAvg validation loss: 0.481509\n"
     ]
    },
    {
     "name": "stderr",
     "output_type": "stream",
     "text": [
      "Epoch [30/30]: 100%|██████████| 196/196 [00:15<00:00, 12.41it/s, acc=0.967, loss=0.0287]\n"
     ]
    },
    {
     "name": "stdout",
     "output_type": "stream",
     "text": [
      "\t\tAvg training loss: 0.096380\tAvg validation loss: 0.472966\n",
      "Epoch    30: reducing learning rate of group 0 to 3.7037e-04.\n"
     ]
    }
   ],
   "source": [
    "train(pretrained_model, 'pretrained_repvgg')"
   ]
  },
  {
   "cell_type": "markdown",
   "metadata": {},
   "source": [
    "The final accuray is about 0.95."
   ]
  },
  {
   "cell_type": "markdown",
   "metadata": {},
   "source": [
    "## Question 7 Visualization "
   ]
  },
  {
   "cell_type": "code",
   "execution_count": 43,
   "metadata": {},
   "outputs": [],
   "source": [
    "model = torchvision.models.resnet18(pretrained=True)\n",
    "model.fc = nn.Linear(in_features=512, out_features=10, bias=True)"
   ]
  },
  {
   "cell_type": "markdown",
   "metadata": {},
   "source": [
    "We use `resnet18` here."
   ]
  },
  {
   "cell_type": "code",
   "execution_count": 89,
   "metadata": {},
   "outputs": [
    {
     "data": {
      "text/plain": [
       "ResNet(\n",
       "  (conv1): Conv2d(3, 64, kernel_size=(7, 7), stride=(2, 2), padding=(3, 3), bias=False)\n",
       "  (bn1): BatchNorm2d(64, eps=1e-05, momentum=0.1, affine=True, track_running_stats=True)\n",
       "  (relu): ReLU(inplace=True)\n",
       "  (maxpool): MaxPool2d(kernel_size=3, stride=2, padding=1, dilation=1, ceil_mode=False)\n",
       "  (layer1): Sequential(\n",
       "    (0): BasicBlock(\n",
       "      (conv1): Conv2d(64, 64, kernel_size=(3, 3), stride=(1, 1), padding=(1, 1), bias=False)\n",
       "      (bn1): BatchNorm2d(64, eps=1e-05, momentum=0.1, affine=True, track_running_stats=True)\n",
       "      (relu): ReLU(inplace=True)\n",
       "      (conv2): Conv2d(64, 64, kernel_size=(3, 3), stride=(1, 1), padding=(1, 1), bias=False)\n",
       "      (bn2): BatchNorm2d(64, eps=1e-05, momentum=0.1, affine=True, track_running_stats=True)\n",
       "    )\n",
       "    (1): BasicBlock(\n",
       "      (conv1): Conv2d(64, 64, kernel_size=(3, 3), stride=(1, 1), padding=(1, 1), bias=False)\n",
       "      (bn1): BatchNorm2d(64, eps=1e-05, momentum=0.1, affine=True, track_running_stats=True)\n",
       "      (relu): ReLU(inplace=True)\n",
       "      (conv2): Conv2d(64, 64, kernel_size=(3, 3), stride=(1, 1), padding=(1, 1), bias=False)\n",
       "      (bn2): BatchNorm2d(64, eps=1e-05, momentum=0.1, affine=True, track_running_stats=True)\n",
       "    )\n",
       "  )\n",
       "  (layer2): Sequential(\n",
       "    (0): BasicBlock(\n",
       "      (conv1): Conv2d(64, 128, kernel_size=(3, 3), stride=(2, 2), padding=(1, 1), bias=False)\n",
       "      (bn1): BatchNorm2d(128, eps=1e-05, momentum=0.1, affine=True, track_running_stats=True)\n",
       "      (relu): ReLU(inplace=True)\n",
       "      (conv2): Conv2d(128, 128, kernel_size=(3, 3), stride=(1, 1), padding=(1, 1), bias=False)\n",
       "      (bn2): BatchNorm2d(128, eps=1e-05, momentum=0.1, affine=True, track_running_stats=True)\n",
       "      (downsample): Sequential(\n",
       "        (0): Conv2d(64, 128, kernel_size=(1, 1), stride=(2, 2), bias=False)\n",
       "        (1): BatchNorm2d(128, eps=1e-05, momentum=0.1, affine=True, track_running_stats=True)\n",
       "      )\n",
       "    )\n",
       "    (1): BasicBlock(\n",
       "      (conv1): Conv2d(128, 128, kernel_size=(3, 3), stride=(1, 1), padding=(1, 1), bias=False)\n",
       "      (bn1): BatchNorm2d(128, eps=1e-05, momentum=0.1, affine=True, track_running_stats=True)\n",
       "      (relu): ReLU(inplace=True)\n",
       "      (conv2): Conv2d(128, 128, kernel_size=(3, 3), stride=(1, 1), padding=(1, 1), bias=False)\n",
       "      (bn2): BatchNorm2d(128, eps=1e-05, momentum=0.1, affine=True, track_running_stats=True)\n",
       "    )\n",
       "  )\n",
       "  (layer3): Sequential(\n",
       "    (0): BasicBlock(\n",
       "      (conv1): Conv2d(128, 256, kernel_size=(3, 3), stride=(2, 2), padding=(1, 1), bias=False)\n",
       "      (bn1): BatchNorm2d(256, eps=1e-05, momentum=0.1, affine=True, track_running_stats=True)\n",
       "      (relu): ReLU(inplace=True)\n",
       "      (conv2): Conv2d(256, 256, kernel_size=(3, 3), stride=(1, 1), padding=(1, 1), bias=False)\n",
       "      (bn2): BatchNorm2d(256, eps=1e-05, momentum=0.1, affine=True, track_running_stats=True)\n",
       "      (downsample): Sequential(\n",
       "        (0): Conv2d(128, 256, kernel_size=(1, 1), stride=(2, 2), bias=False)\n",
       "        (1): BatchNorm2d(256, eps=1e-05, momentum=0.1, affine=True, track_running_stats=True)\n",
       "      )\n",
       "    )\n",
       "    (1): BasicBlock(\n",
       "      (conv1): Conv2d(256, 256, kernel_size=(3, 3), stride=(1, 1), padding=(1, 1), bias=False)\n",
       "      (bn1): BatchNorm2d(256, eps=1e-05, momentum=0.1, affine=True, track_running_stats=True)\n",
       "      (relu): ReLU(inplace=True)\n",
       "      (conv2): Conv2d(256, 256, kernel_size=(3, 3), stride=(1, 1), padding=(1, 1), bias=False)\n",
       "      (bn2): BatchNorm2d(256, eps=1e-05, momentum=0.1, affine=True, track_running_stats=True)\n",
       "    )\n",
       "  )\n",
       "  (layer4): Sequential(\n",
       "    (0): BasicBlock(\n",
       "      (conv1): Conv2d(256, 512, kernel_size=(3, 3), stride=(2, 2), padding=(1, 1), bias=False)\n",
       "      (bn1): BatchNorm2d(512, eps=1e-05, momentum=0.1, affine=True, track_running_stats=True)\n",
       "      (relu): ReLU(inplace=True)\n",
       "      (conv2): Conv2d(512, 512, kernel_size=(3, 3), stride=(1, 1), padding=(1, 1), bias=False)\n",
       "      (bn2): BatchNorm2d(512, eps=1e-05, momentum=0.1, affine=True, track_running_stats=True)\n",
       "      (downsample): Sequential(\n",
       "        (0): Conv2d(256, 512, kernel_size=(1, 1), stride=(2, 2), bias=False)\n",
       "        (1): BatchNorm2d(512, eps=1e-05, momentum=0.1, affine=True, track_running_stats=True)\n",
       "      )\n",
       "    )\n",
       "    (1): BasicBlock(\n",
       "      (conv1): Conv2d(512, 512, kernel_size=(3, 3), stride=(1, 1), padding=(1, 1), bias=False)\n",
       "      (bn1): BatchNorm2d(512, eps=1e-05, momentum=0.1, affine=True, track_running_stats=True)\n",
       "      (relu): ReLU(inplace=True)\n",
       "      (conv2): Conv2d(512, 512, kernel_size=(3, 3), stride=(1, 1), padding=(1, 1), bias=False)\n",
       "      (bn2): BatchNorm2d(512, eps=1e-05, momentum=0.1, affine=True, track_running_stats=True)\n",
       "    )\n",
       "  )\n",
       "  (avgpool): AdaptiveAvgPool2d(output_size=(1, 1))\n",
       "  (fc): Linear(in_features=512, out_features=10, bias=True)\n",
       ")"
      ]
     },
     "execution_count": 89,
     "metadata": {},
     "output_type": "execute_result"
    }
   ],
   "source": [
    "model"
   ]
  },
  {
   "cell_type": "markdown",
   "metadata": {},
   "source": [
    "Seeing that `resnet18` have `AdaptiveAvgPool2d` as the GAP in the last layer, so we do not need to modify the model."
   ]
  },
  {
   "cell_type": "code",
   "execution_count": 44,
   "metadata": {},
   "outputs": [
    {
     "name": "stderr",
     "output_type": "stream",
     "text": [
      "Epoch [ 1/30]: 100%|██████████| 196/196 [00:15<00:00, 12.37it/s, acc=0.582, loss=0.872]\n"
     ]
    },
    {
     "name": "stdout",
     "output_type": "stream",
     "text": [
      "\t\tAvg training loss: 1.188157\tAvg validation loss: 0.860653\n",
      "\t\tvalid_loss decreased (inf --> 0.860653)  saving model...\n"
     ]
    },
    {
     "name": "stderr",
     "output_type": "stream",
     "text": [
      "Epoch [ 2/30]: 100%|██████████| 196/196 [00:15<00:00, 12.34it/s, acc=0.711, loss=0.795]\n"
     ]
    },
    {
     "name": "stdout",
     "output_type": "stream",
     "text": [
      "\t\tAvg training loss: 0.823353\tAvg validation loss: 0.723380\n",
      "\t\tvalid_loss decreased (0.860653 --> 0.723380)  saving model...\n"
     ]
    },
    {
     "name": "stderr",
     "output_type": "stream",
     "text": [
      "Epoch [ 3/30]: 100%|██████████| 196/196 [00:15<00:00, 12.52it/s, acc=0.751, loss=0.88] \n"
     ]
    },
    {
     "name": "stdout",
     "output_type": "stream",
     "text": [
      "\t\tAvg training loss: 0.719741\tAvg validation loss: 0.648413\n",
      "\t\tvalid_loss decreased (0.723380 --> 0.648413)  saving model...\n"
     ]
    },
    {
     "name": "stderr",
     "output_type": "stream",
     "text": [
      "Epoch [ 4/30]: 100%|██████████| 196/196 [00:15<00:00, 12.52it/s, acc=0.768, loss=0.536]\n"
     ]
    },
    {
     "name": "stdout",
     "output_type": "stream",
     "text": [
      "\t\tAvg training loss: 0.661638\tAvg validation loss: 0.641351\n",
      "\t\tvalid_loss decreased (0.648413 --> 0.641351)  saving model...\n"
     ]
    },
    {
     "name": "stderr",
     "output_type": "stream",
     "text": [
      "Epoch [ 5/30]: 100%|██████████| 196/196 [00:15<00:00, 12.48it/s, acc=0.785, loss=0.705]\n"
     ]
    },
    {
     "name": "stdout",
     "output_type": "stream",
     "text": [
      "\t\tAvg training loss: 0.617165\tAvg validation loss: 0.580611\n",
      "\t\tvalid_loss decreased (0.641351 --> 0.580611)  saving model...\n"
     ]
    },
    {
     "name": "stderr",
     "output_type": "stream",
     "text": [
      "Epoch [ 6/30]: 100%|██████████| 196/196 [00:15<00:00, 12.27it/s, acc=0.798, loss=0.684]\n"
     ]
    },
    {
     "name": "stdout",
     "output_type": "stream",
     "text": [
      "\t\tAvg training loss: 0.580081\tAvg validation loss: 0.563526\n",
      "\t\tvalid_loss decreased (0.580611 --> 0.563526)  saving model...\n"
     ]
    },
    {
     "name": "stderr",
     "output_type": "stream",
     "text": [
      "Epoch [ 7/30]: 100%|██████████| 196/196 [00:15<00:00, 12.29it/s, acc=0.809, loss=0.618]\n"
     ]
    },
    {
     "name": "stdout",
     "output_type": "stream",
     "text": [
      "\t\tAvg training loss: 0.551429\tAvg validation loss: 0.614385\n"
     ]
    },
    {
     "name": "stderr",
     "output_type": "stream",
     "text": [
      "Epoch [ 8/30]: 100%|██████████| 196/196 [00:15<00:00, 12.29it/s, acc=0.817, loss=0.56] \n"
     ]
    },
    {
     "name": "stdout",
     "output_type": "stream",
     "text": [
      "\t\tAvg training loss: 0.523113\tAvg validation loss: 0.599958\n"
     ]
    },
    {
     "name": "stderr",
     "output_type": "stream",
     "text": [
      "Epoch [ 9/30]: 100%|██████████| 196/196 [00:16<00:00, 12.18it/s, acc=0.826, loss=0.686]\n"
     ]
    },
    {
     "name": "stdout",
     "output_type": "stream",
     "text": [
      "\t\tAvg training loss: 0.497238\tAvg validation loss: 0.571375\n"
     ]
    },
    {
     "name": "stderr",
     "output_type": "stream",
     "text": [
      "Epoch [10/30]: 100%|██████████| 196/196 [00:15<00:00, 12.51it/s, acc=0.828, loss=0.757]\n"
     ]
    },
    {
     "name": "stdout",
     "output_type": "stream",
     "text": [
      "\t\tAvg training loss: 0.488138\tAvg validation loss: 0.559962\n",
      "\t\tvalid_loss decreased (0.563526 --> 0.559962)  saving model...\n"
     ]
    },
    {
     "name": "stderr",
     "output_type": "stream",
     "text": [
      "Epoch [11/30]: 100%|██████████| 196/196 [00:15<00:00, 12.33it/s, acc=0.835, loss=0.303]\n"
     ]
    },
    {
     "name": "stdout",
     "output_type": "stream",
     "text": [
      "\t\tAvg training loss: 0.469493\tAvg validation loss: 0.559762\n",
      "\t\tvalid_loss decreased (0.559962 --> 0.559762)  saving model...\n"
     ]
    },
    {
     "name": "stderr",
     "output_type": "stream",
     "text": [
      "Epoch [12/30]: 100%|██████████| 196/196 [00:15<00:00, 12.38it/s, acc=0.84, loss=0.409] \n"
     ]
    },
    {
     "name": "stdout",
     "output_type": "stream",
     "text": [
      "\t\tAvg training loss: 0.452641\tAvg validation loss: 0.560006\n"
     ]
    },
    {
     "name": "stderr",
     "output_type": "stream",
     "text": [
      "Epoch [13/30]: 100%|██████████| 196/196 [00:15<00:00, 12.43it/s, acc=0.846, loss=0.307]\n"
     ]
    },
    {
     "name": "stdout",
     "output_type": "stream",
     "text": [
      "\t\tAvg training loss: 0.438075\tAvg validation loss: 0.584907\n"
     ]
    },
    {
     "name": "stderr",
     "output_type": "stream",
     "text": [
      "Epoch [14/30]: 100%|██████████| 196/196 [00:15<00:00, 12.37it/s, acc=0.849, loss=0.446]\n"
     ]
    },
    {
     "name": "stdout",
     "output_type": "stream",
     "text": [
      "\t\tAvg training loss: 0.426618\tAvg validation loss: 0.536756\n",
      "\t\tvalid_loss decreased (0.559762 --> 0.536756)  saving model...\n"
     ]
    },
    {
     "name": "stderr",
     "output_type": "stream",
     "text": [
      "Epoch [15/30]: 100%|██████████| 196/196 [00:15<00:00, 12.43it/s, acc=0.852, loss=0.404]\n"
     ]
    },
    {
     "name": "stdout",
     "output_type": "stream",
     "text": [
      "\t\tAvg training loss: 0.420785\tAvg validation loss: 0.583892\n"
     ]
    },
    {
     "name": "stderr",
     "output_type": "stream",
     "text": [
      "Epoch [16/30]: 100%|██████████| 196/196 [00:15<00:00, 12.32it/s, acc=0.858, loss=0.265]\n"
     ]
    },
    {
     "name": "stdout",
     "output_type": "stream",
     "text": [
      "\t\tAvg training loss: 0.401655\tAvg validation loss: 0.559981\n"
     ]
    },
    {
     "name": "stderr",
     "output_type": "stream",
     "text": [
      "Epoch [17/30]: 100%|██████████| 196/196 [00:15<00:00, 12.49it/s, acc=0.858, loss=0.738]\n"
     ]
    },
    {
     "name": "stdout",
     "output_type": "stream",
     "text": [
      "\t\tAvg training loss: 0.401512\tAvg validation loss: 0.566355\n"
     ]
    },
    {
     "name": "stderr",
     "output_type": "stream",
     "text": [
      "Epoch [18/30]: 100%|██████████| 196/196 [00:15<00:00, 12.46it/s, acc=0.863, loss=0.526]\n"
     ]
    },
    {
     "name": "stdout",
     "output_type": "stream",
     "text": [
      "\t\tAvg training loss: 0.387430\tAvg validation loss: 0.569723\n"
     ]
    },
    {
     "name": "stderr",
     "output_type": "stream",
     "text": [
      "Epoch [19/30]: 100%|██████████| 196/196 [00:15<00:00, 12.41it/s, acc=0.867, loss=0.37] \n"
     ]
    },
    {
     "name": "stdout",
     "output_type": "stream",
     "text": [
      "\t\tAvg training loss: 0.380280\tAvg validation loss: 0.581929\n"
     ]
    },
    {
     "name": "stderr",
     "output_type": "stream",
     "text": [
      "Epoch [20/30]: 100%|██████████| 196/196 [00:15<00:00, 12.35it/s, acc=0.871, loss=0.667]\n"
     ]
    },
    {
     "name": "stdout",
     "output_type": "stream",
     "text": [
      "\t\tAvg training loss: 0.369661\tAvg validation loss: 0.587568\n",
      "Epoch    20: reducing learning rate of group 0 to 3.3333e-03.\n"
     ]
    },
    {
     "name": "stderr",
     "output_type": "stream",
     "text": [
      "Epoch [21/30]: 100%|██████████| 196/196 [00:15<00:00, 12.38it/s, acc=0.9, loss=0.286]  \n"
     ]
    },
    {
     "name": "stdout",
     "output_type": "stream",
     "text": [
      "\t\tAvg training loss: 0.285175\tAvg validation loss: 0.510546\n",
      "\t\tvalid_loss decreased (0.536756 --> 0.510546)  saving model...\n"
     ]
    },
    {
     "name": "stderr",
     "output_type": "stream",
     "text": [
      "Epoch [22/30]: 100%|██████████| 196/196 [00:15<00:00, 12.45it/s, acc=0.914, loss=0.274]\n"
     ]
    },
    {
     "name": "stdout",
     "output_type": "stream",
     "text": [
      "\t\tAvg training loss: 0.243650\tAvg validation loss: 0.523529\n"
     ]
    },
    {
     "name": "stderr",
     "output_type": "stream",
     "text": [
      "Epoch [23/30]: 100%|██████████| 196/196 [00:15<00:00, 12.40it/s, acc=0.921, loss=0.189]\n"
     ]
    },
    {
     "name": "stdout",
     "output_type": "stream",
     "text": [
      "\t\tAvg training loss: 0.223648\tAvg validation loss: 0.542734\n"
     ]
    },
    {
     "name": "stderr",
     "output_type": "stream",
     "text": [
      "Epoch [24/30]: 100%|██████████| 196/196 [00:15<00:00, 12.51it/s, acc=0.925, loss=0.253]\n"
     ]
    },
    {
     "name": "stdout",
     "output_type": "stream",
     "text": [
      "\t\tAvg training loss: 0.213118\tAvg validation loss: 0.550773\n"
     ]
    },
    {
     "name": "stderr",
     "output_type": "stream",
     "text": [
      "Epoch [25/30]: 100%|██████████| 196/196 [00:15<00:00, 12.41it/s, acc=0.926, loss=0.232]\n"
     ]
    },
    {
     "name": "stdout",
     "output_type": "stream",
     "text": [
      "\t\tAvg training loss: 0.206200\tAvg validation loss: 0.559315\n"
     ]
    },
    {
     "name": "stderr",
     "output_type": "stream",
     "text": [
      "Epoch [26/30]: 100%|██████████| 196/196 [00:15<00:00, 12.39it/s, acc=0.93, loss=0.28]  \n"
     ]
    },
    {
     "name": "stdout",
     "output_type": "stream",
     "text": [
      "\t\tAvg training loss: 0.196758\tAvg validation loss: 0.550187\n"
     ]
    },
    {
     "name": "stderr",
     "output_type": "stream",
     "text": [
      "Epoch [27/30]: 100%|██████████| 196/196 [00:15<00:00, 12.44it/s, acc=0.934, loss=0.353]\n"
     ]
    },
    {
     "name": "stdout",
     "output_type": "stream",
     "text": [
      "\t\tAvg training loss: 0.187965\tAvg validation loss: 0.571191\n",
      "Epoch    27: reducing learning rate of group 0 to 1.1111e-03.\n"
     ]
    },
    {
     "name": "stderr",
     "output_type": "stream",
     "text": [
      "Epoch [28/30]: 100%|██████████| 196/196 [00:15<00:00, 12.40it/s, acc=0.944, loss=0.23]  \n"
     ]
    },
    {
     "name": "stdout",
     "output_type": "stream",
     "text": [
      "\t\tAvg training loss: 0.159607\tAvg validation loss: 0.563579\n"
     ]
    },
    {
     "name": "stderr",
     "output_type": "stream",
     "text": [
      "Epoch [29/30]: 100%|██████████| 196/196 [00:15<00:00, 12.35it/s, acc=0.949, loss=0.116] \n"
     ]
    },
    {
     "name": "stdout",
     "output_type": "stream",
     "text": [
      "\t\tAvg training loss: 0.143668\tAvg validation loss: 0.575914\n"
     ]
    },
    {
     "name": "stderr",
     "output_type": "stream",
     "text": [
      "Epoch [30/30]: 100%|██████████| 196/196 [00:15<00:00, 12.44it/s, acc=0.953, loss=0.198] \n"
     ]
    },
    {
     "name": "stdout",
     "output_type": "stream",
     "text": [
      "\t\tAvg training loss: 0.134187\tAvg validation loss: 0.574618\n"
     ]
    }
   ],
   "source": [
    "model.to(device)\n",
    "criterion = nn.CrossEntropyLoss()\n",
    "optimizer = optim.SGD(model.parameters(), lr=0.01, momentum=0.9, weight_decay=1e-3)\n",
    "scheduler = optim.lr_scheduler.ReduceLROnPlateau(optimizer, factor=1/3, patience=5, verbose=True)\n",
    "comment = f'-resnet_pretrained'\n",
    "tb = SummaryWriter(log_dir='./logs',comment=comment)\n",
    "valid_loss_min = np.Inf\n",
    "num_epochs = 30\n",
    "for epoch in range(num_epochs):\n",
    "    train_loss, train_acc = 0.0, 0.0\n",
    "    train_loop = tqdm(train_loader)\n",
    "    model.train()\n",
    "    for batch in train_loop:\n",
    "        images, labels = batch[0].to(device), batch[1].to(device)\n",
    "        preds = model(images)\n",
    "        loss = criterion(preds, labels)\n",
    "        optimizer.zero_grad() \n",
    "        loss.backward()  \n",
    "        optimizer.step()\n",
    "        train_loss += loss.item() * labels.size(0)\n",
    "        train_acc += get_num_correct(preds, labels) \n",
    "        train_loop.set_description(f'Epoch [{epoch+1:2d}/{num_epochs}]')\n",
    "        train_loop.set_postfix(loss=loss.item(), acc=train_acc/len(cifar10_dataset_train))\n",
    "    tb.add_scalar('Train Loss', train_loss, epoch)\n",
    "    tb.add_scalar('Train Accuracy', train_acc/len(cifar10_dataset_train), epoch)\n",
    "    model.eval() \n",
    "    with torch.no_grad():  \n",
    "        valid_loss, valid_correct = 0, 0  \n",
    "        for batch in valid_loader:\n",
    "            images, labels = batch[0].to(device), batch[1].to(device)  \n",
    "            preds = model(images) \n",
    "            loss = criterion(preds, labels) \n",
    "            valid_loss += loss.item() * labels.size(0) \n",
    "            valid_correct += get_num_correct(preds, labels) \n",
    "        tb.add_scalar('Validation Loss', valid_loss, epoch)\n",
    "        tb.add_scalar('Validation Accuracy', valid_correct/len(valid_loader.sampler), epoch)\n",
    "        train_loss = train_loss/len(cifar10_dataset_train)\n",
    "        valid_loss = valid_loss/len(valid_loader.sampler)\n",
    "        train_loop.write(f'\\t\\tAvg training loss: {train_loss:.6f}\\tAvg validation loss: {valid_loss:.6f}')\n",
    "        scheduler.step(valid_loss)\n",
    "        if valid_loss <= valid_loss_min:\n",
    "            train_loop.write(f'\\t\\tvalid_loss decreased ({valid_loss_min:.6f} --> {valid_loss:.6f})  saving model...')\n",
    "            torch.save(model.state_dict(), f'./models/model{comment}.pth')\n",
    "            valid_loss_min = valid_loss\n",
    "        test_loss, test_correct = 0, 0\n",
    "        for batch in test_loader:\n",
    "            images, labels = batch[0].to(device), batch[1].to(device) \n",
    "            preds = model(images) \n",
    "            loss = criterion(preds, labels)\n",
    "            test_loss += loss.item() * labels.size(0)\n",
    "            test_correct += get_num_correct(preds, labels) \n",
    "        tb.add_scalar('Test Loss', test_loss, epoch)\n",
    "        tb.add_scalar('Test Accuracy', test_correct/len(test_loader.sampler), epoch)"
   ]
  },
  {
   "cell_type": "markdown",
   "metadata": {},
   "source": [
    "Firstly we finetune the model for 30 epoches to reach an accuracy about 0.95."
   ]
  },
  {
   "cell_type": "code",
   "execution_count": 81,
   "metadata": {},
   "outputs": [],
   "source": [
    "finalconv_name = 'layer4'\n",
    "model.to('cpu')\n",
    "model.eval()\n",
    "\n",
    "# hook the feature extractor\n",
    "features_blobs = []\n",
    "def hook_feature(module, input, output):\n",
    "    features_blobs.append(output.data.cpu().numpy())\n",
    "\n",
    "model._modules.get(finalconv_name).register_forward_hook(hook_feature)\n",
    "\n",
    "params = list(model.parameters())\n",
    "weight_softmax = np.squeeze(params[-2].data.numpy())\n",
    "\n",
    "def returnCAM(feature_conv, weight_softmax, class_idx):\n",
    "    size_upsample = (256, 256)\n",
    "    bz, nc, h, w = feature_conv.shape\n",
    "    output_cam = []\n",
    "    for idx in class_idx:\n",
    "        cam = weight_softmax[idx].dot(feature_conv.reshape((nc, h*w)))\n",
    "        cam = cam.reshape(h, w)\n",
    "        cam = cam - np.min(cam)\n",
    "        cam_img = cam / np.max(cam)\n",
    "        cam_img = np.uint8(255 * cam_img)\n",
    "        output_cam.append(cv2.resize(cam_img, size_upsample))\n",
    "    return output_cam\n",
    "\n",
    "normalize = trns.Normalize(\n",
    "   mean=[0.485, 0.456, 0.406],\n",
    "   std=[0.229, 0.224, 0.225]\n",
    ")\n",
    "preprocess = trns.Compose([\n",
    "   trns.Resize((64,64)),\n",
    "   trns.ToTensor(),\n",
    "   normalize\n",
    "])"
   ]
  },
  {
   "cell_type": "markdown",
   "metadata": {},
   "source": [
    "`finalconv_name` indicate the last conv layer of the network."
   ]
  },
  {
   "cell_type": "code",
   "execution_count": 87,
   "metadata": {},
   "outputs": [],
   "source": [
    "def visualize(num=3):\n",
    "    for i in range(num):\n",
    "        rnd = np.random.randint(0, len(data_validate['image']))\n",
    "        print(classes[data_validate['label'][rnd]])\n",
    "        img_tensor = preprocess(data_validate['image'][rnd])\n",
    "        img_variable = Variable(img_tensor.unsqueeze(0))\n",
    "        model.to(device)\n",
    "        model.eval()\n",
    "        logit = model(img_variable.to(device))\n",
    "        model.to('cpu')\n",
    "        h_x = F.softmax(logit, dim=1).data.squeeze().to('cpu')\n",
    "        probs, idx = h_x.sort(0, True)\n",
    "        probs = probs.numpy()\n",
    "        idx = idx.numpy()\n",
    "\n",
    "        for i in range(0, 5):\n",
    "            print('{:.3f} -> {}'.format(probs[i], classes[idx[i]]))\n",
    "\n",
    "        CAMs = returnCAM(features_blobs[0], weight_softmax, [idx[0]])\n",
    "        img = cv2.cvtColor(np.array(data_validate['image'][rnd]), cv2.COLOR_RGB2BGR)\n",
    "        height, width, _ = img.shape\n",
    "        heatmap = cv2.applyColorMap(cv2.resize(CAMs[0],(width, height)), cv2.COLORMAP_JET)\n",
    "        result = heatmap * 0.3 + img * 0.5\n",
    "        result = result.astype(np.uint8)\n",
    "        result = cv2.cvtColor(result, cv2.COLOR_BGR2RGB)\n",
    "        result = cv2.resize(result, (64, 64))\n",
    "        Image.fromarray(result).show()"
   ]
  },
  {
   "cell_type": "code",
   "execution_count": 88,
   "metadata": {},
   "outputs": [
    {
     "name": "stdout",
     "output_type": "stream",
     "text": [
      "deer\n",
      "0.821 -> deer\n",
      "0.079 -> cat\n",
      "0.062 -> horse\n",
      "0.009 -> airplane\n",
      "0.008 -> ship\n"
     ]
    },
    {
     "data": {
      "image/png": "[encoded data removed]",
      "text/plain": [
       "<PIL.Image.Image image mode=RGB size=64x64 at 0x7FB690111DC0>"
      ]
     },
     "metadata": {},
     "output_type": "display_data"
    },
    {
     "name": "stdout",
     "output_type": "stream",
     "text": [
      "truck\n",
      "0.397 -> truck\n",
      "0.363 -> cat\n",
      "0.062 -> dog\n",
      "0.059 -> horse\n",
      "0.038 -> deer\n"
     ]
    },
    {
     "data": {
      "image/png": "[encoded data removed]",
      "text/plain": [
       "<PIL.Image.Image image mode=RGB size=64x64 at 0x7FB69239C7F0>"
      ]
     },
     "metadata": {},
     "output_type": "display_data"
    },
    {
     "name": "stdout",
     "output_type": "stream",
     "text": [
      "automobile\n",
      "0.815 -> automobile\n",
      "0.106 -> truck\n",
      "0.032 -> cat\n",
      "0.022 -> frog\n",
      "0.014 -> ship\n"
     ]
    },
    {
     "data": {
      "image/png": "[encoded data removed]",
      "text/plain": [
       "<PIL.Image.Image image mode=RGB size=64x64 at 0x7FB69239CEB0>"
      ]
     },
     "metadata": {},
     "output_type": "display_data"
    }
   ],
   "source": [
    "visualize()"
   ]
  },
  {
   "cell_type": "markdown",
   "metadata": {},
   "source": [
    "The answer to the **question 7** is presented above."
   ]
  }
 ],
 "metadata": {
  "interpreter": {
   "hash": "ec92373eb85d7e85c22f55db683c083854f1ea57bbead13cebfc370924f2b270"
  },
  "kernelspec": {
   "display_name": "Python 3.9.7 ('base': conda)",
   "language": "python",
   "name": "python3"
  },
  "language_info": {
   "codemirror_mode": {
    "name": "ipython",
    "version": 3
   },
   "file_extension": ".py",
   "mimetype": "text/x-python",
   "name": "python",
   "nbconvert_exporter": "python",
   "pygments_lexer": "ipython3",
   "version": "3.9.7"
  },
  "orig_nbformat": 4
 },
 "nbformat": 4,
 "nbformat_minor": 2
}
